{
  "nbformat": 4,
  "nbformat_minor": 0,
  "metadata": {
    "colab": {
      "provenance": []
    },
    "kernelspec": {
      "name": "python3",
      "display_name": "Python 3"
    },
    "language_info": {
      "name": "python"
    }
  },
  "cells": [
    {
      "cell_type": "markdown",
      "source": [
        "The goal is to study the application of exploratory data analysis (EDA) methods to improve the performance of machine learning models."
      ],
      "metadata": {
        "id": "5Fn4L_icIznW"
      }
    },
    {
      "cell_type": "code",
      "execution_count": null,
      "metadata": {
        "id": "-cpnTzFy6h7G"
      },
      "outputs": [],
      "source": [
        "import pandas as pd\n",
        "import numpy as np\n",
        "\n",
        "from matplotlib import pyplot as plt\n",
        "\n",
        "from sklearn.linear_model import LinearRegression\n",
        "from sklearn.model_selection import train_test_split"
      ]
    },
    {
      "cell_type": "markdown",
      "source": [
        "Let's load the data, check for missing values, and remove any missing values if they are found.\n"
      ],
      "metadata": {
        "id": "dNdy3KMx6zLf"
      }
    },
    {
      "cell_type": "code",
      "source": [
        "from sklearn.datasets import fetch_california_housing"
      ],
      "metadata": {
        "id": "6ZbshxVj63X7"
      },
      "execution_count": null,
      "outputs": []
    },
    {
      "cell_type": "code",
      "source": [
        "fch = fetch_california_housing()"
      ],
      "metadata": {
        "id": "usciQ79a7lwz"
      },
      "execution_count": null,
      "outputs": []
    },
    {
      "cell_type": "code",
      "source": [
        "data = pd.DataFrame(data=fch.data, columns=fch.feature_names)"
      ],
      "metadata": {
        "id": "yZHqOKn_7rA1"
      },
      "execution_count": null,
      "outputs": []
    },
    {
      "cell_type": "code",
      "source": [
        "data[\"MedHouseVal\"] = fch.target"
      ],
      "metadata": {
        "id": "G-6rFGjN_6RW"
      },
      "execution_count": null,
      "outputs": []
    },
    {
      "cell_type": "code",
      "source": [
        "data.head()"
      ],
      "metadata": {
        "colab": {
          "base_uri": "https://localhost:8080/",
          "height": 206
        },
        "id": "NLjfRy4H9nf7",
        "outputId": "7b966832-fa9a-4742-9252-e9be711d07eb"
      },
      "execution_count": null,
      "outputs": [
        {
          "output_type": "execute_result",
          "data": {
            "text/plain": [
              "   MedInc  HouseAge  AveRooms  AveBedrms  Population  AveOccup  Latitude  \\\n",
              "0  8.3252      41.0  6.984127   1.023810       322.0  2.555556     37.88   \n",
              "1  8.3014      21.0  6.238137   0.971880      2401.0  2.109842     37.86   \n",
              "2  7.2574      52.0  8.288136   1.073446       496.0  2.802260     37.85   \n",
              "3  5.6431      52.0  5.817352   1.073059       558.0  2.547945     37.85   \n",
              "4  3.8462      52.0  6.281853   1.081081       565.0  2.181467     37.85   \n",
              "\n",
              "   Longitude  MedHouseVal  \n",
              "0    -122.23        4.526  \n",
              "1    -122.22        3.585  \n",
              "2    -122.24        3.521  \n",
              "3    -122.25        3.413  \n",
              "4    -122.25        3.422  "
            ],
            "text/html": [
              "\n",
              "  <div id=\"df-e93b40c1-5b81-4d75-81d8-156ea709c1e0\" class=\"colab-df-container\">\n",
              "    <div>\n",
              "<style scoped>\n",
              "    .dataframe tbody tr th:only-of-type {\n",
              "        vertical-align: middle;\n",
              "    }\n",
              "\n",
              "    .dataframe tbody tr th {\n",
              "        vertical-align: top;\n",
              "    }\n",
              "\n",
              "    .dataframe thead th {\n",
              "        text-align: right;\n",
              "    }\n",
              "</style>\n",
              "<table border=\"1\" class=\"dataframe\">\n",
              "  <thead>\n",
              "    <tr style=\"text-align: right;\">\n",
              "      <th></th>\n",
              "      <th>MedInc</th>\n",
              "      <th>HouseAge</th>\n",
              "      <th>AveRooms</th>\n",
              "      <th>AveBedrms</th>\n",
              "      <th>Population</th>\n",
              "      <th>AveOccup</th>\n",
              "      <th>Latitude</th>\n",
              "      <th>Longitude</th>\n",
              "      <th>MedHouseVal</th>\n",
              "    </tr>\n",
              "  </thead>\n",
              "  <tbody>\n",
              "    <tr>\n",
              "      <th>0</th>\n",
              "      <td>8.3252</td>\n",
              "      <td>41.0</td>\n",
              "      <td>6.984127</td>\n",
              "      <td>1.023810</td>\n",
              "      <td>322.0</td>\n",
              "      <td>2.555556</td>\n",
              "      <td>37.88</td>\n",
              "      <td>-122.23</td>\n",
              "      <td>4.526</td>\n",
              "    </tr>\n",
              "    <tr>\n",
              "      <th>1</th>\n",
              "      <td>8.3014</td>\n",
              "      <td>21.0</td>\n",
              "      <td>6.238137</td>\n",
              "      <td>0.971880</td>\n",
              "      <td>2401.0</td>\n",
              "      <td>2.109842</td>\n",
              "      <td>37.86</td>\n",
              "      <td>-122.22</td>\n",
              "      <td>3.585</td>\n",
              "    </tr>\n",
              "    <tr>\n",
              "      <th>2</th>\n",
              "      <td>7.2574</td>\n",
              "      <td>52.0</td>\n",
              "      <td>8.288136</td>\n",
              "      <td>1.073446</td>\n",
              "      <td>496.0</td>\n",
              "      <td>2.802260</td>\n",
              "      <td>37.85</td>\n",
              "      <td>-122.24</td>\n",
              "      <td>3.521</td>\n",
              "    </tr>\n",
              "    <tr>\n",
              "      <th>3</th>\n",
              "      <td>5.6431</td>\n",
              "      <td>52.0</td>\n",
              "      <td>5.817352</td>\n",
              "      <td>1.073059</td>\n",
              "      <td>558.0</td>\n",
              "      <td>2.547945</td>\n",
              "      <td>37.85</td>\n",
              "      <td>-122.25</td>\n",
              "      <td>3.413</td>\n",
              "    </tr>\n",
              "    <tr>\n",
              "      <th>4</th>\n",
              "      <td>3.8462</td>\n",
              "      <td>52.0</td>\n",
              "      <td>6.281853</td>\n",
              "      <td>1.081081</td>\n",
              "      <td>565.0</td>\n",
              "      <td>2.181467</td>\n",
              "      <td>37.85</td>\n",
              "      <td>-122.25</td>\n",
              "      <td>3.422</td>\n",
              "    </tr>\n",
              "  </tbody>\n",
              "</table>\n",
              "</div>\n",
              "    <div class=\"colab-df-buttons\">\n",
              "\n",
              "  <div class=\"colab-df-container\">\n",
              "    <button class=\"colab-df-convert\" onclick=\"convertToInteractive('df-e93b40c1-5b81-4d75-81d8-156ea709c1e0')\"\n",
              "            title=\"Convert this dataframe to an interactive table.\"\n",
              "            style=\"display:none;\">\n",
              "\n",
              "  <svg xmlns=\"http://www.w3.org/2000/svg\" height=\"24px\" viewBox=\"0 -960 960 960\">\n",
              "    <path d=\"M120-120v-720h720v720H120Zm60-500h600v-160H180v160Zm220 220h160v-160H400v160Zm0 220h160v-160H400v160ZM180-400h160v-160H180v160Zm440 0h160v-160H620v160ZM180-180h160v-160H180v160Zm440 0h160v-160H620v160Z\"/>\n",
              "  </svg>\n",
              "    </button>\n",
              "\n",
              "  <style>\n",
              "    .colab-df-container {\n",
              "      display:flex;\n",
              "      gap: 12px;\n",
              "    }\n",
              "\n",
              "    .colab-df-convert {\n",
              "      background-color: #E8F0FE;\n",
              "      border: none;\n",
              "      border-radius: 50%;\n",
              "      cursor: pointer;\n",
              "      display: none;\n",
              "      fill: #1967D2;\n",
              "      height: 32px;\n",
              "      padding: 0 0 0 0;\n",
              "      width: 32px;\n",
              "    }\n",
              "\n",
              "    .colab-df-convert:hover {\n",
              "      background-color: #E2EBFA;\n",
              "      box-shadow: 0px 1px 2px rgba(60, 64, 67, 0.3), 0px 1px 3px 1px rgba(60, 64, 67, 0.15);\n",
              "      fill: #174EA6;\n",
              "    }\n",
              "\n",
              "    .colab-df-buttons div {\n",
              "      margin-bottom: 4px;\n",
              "    }\n",
              "\n",
              "    [theme=dark] .colab-df-convert {\n",
              "      background-color: #3B4455;\n",
              "      fill: #D2E3FC;\n",
              "    }\n",
              "\n",
              "    [theme=dark] .colab-df-convert:hover {\n",
              "      background-color: #434B5C;\n",
              "      box-shadow: 0px 1px 3px 1px rgba(0, 0, 0, 0.15);\n",
              "      filter: drop-shadow(0px 1px 2px rgba(0, 0, 0, 0.3));\n",
              "      fill: #FFFFFF;\n",
              "    }\n",
              "  </style>\n",
              "\n",
              "    <script>\n",
              "      const buttonEl =\n",
              "        document.querySelector('#df-e93b40c1-5b81-4d75-81d8-156ea709c1e0 button.colab-df-convert');\n",
              "      buttonEl.style.display =\n",
              "        google.colab.kernel.accessAllowed ? 'block' : 'none';\n",
              "\n",
              "      async function convertToInteractive(key) {\n",
              "        const element = document.querySelector('#df-e93b40c1-5b81-4d75-81d8-156ea709c1e0');\n",
              "        const dataTable =\n",
              "          await google.colab.kernel.invokeFunction('convertToInteractive',\n",
              "                                                    [key], {});\n",
              "        if (!dataTable) return;\n",
              "\n",
              "        const docLinkHtml = 'Like what you see? Visit the ' +\n",
              "          '<a target=\"_blank\" href=https://colab.research.google.com/notebooks/data_table.ipynb>data table notebook</a>'\n",
              "          + ' to learn more about interactive tables.';\n",
              "        element.innerHTML = '';\n",
              "        dataTable['output_type'] = 'display_data';\n",
              "        await google.colab.output.renderOutput(dataTable, element);\n",
              "        const docLink = document.createElement('div');\n",
              "        docLink.innerHTML = docLinkHtml;\n",
              "        element.appendChild(docLink);\n",
              "      }\n",
              "    </script>\n",
              "  </div>\n",
              "\n",
              "\n",
              "<div id=\"df-fdd3a8f2-6733-48ed-abdb-7f6d7de1d38e\">\n",
              "  <button class=\"colab-df-quickchart\" onclick=\"quickchart('df-fdd3a8f2-6733-48ed-abdb-7f6d7de1d38e')\"\n",
              "            title=\"Suggest charts\"\n",
              "            style=\"display:none;\">\n",
              "\n",
              "<svg xmlns=\"http://www.w3.org/2000/svg\" height=\"24px\"viewBox=\"0 0 24 24\"\n",
              "     width=\"24px\">\n",
              "    <g>\n",
              "        <path d=\"M19 3H5c-1.1 0-2 .9-2 2v14c0 1.1.9 2 2 2h14c1.1 0 2-.9 2-2V5c0-1.1-.9-2-2-2zM9 17H7v-7h2v7zm4 0h-2V7h2v10zm4 0h-2v-4h2v4z\"/>\n",
              "    </g>\n",
              "</svg>\n",
              "  </button>\n",
              "\n",
              "<style>\n",
              "  .colab-df-quickchart {\n",
              "      --bg-color: #E8F0FE;\n",
              "      --fill-color: #1967D2;\n",
              "      --hover-bg-color: #E2EBFA;\n",
              "      --hover-fill-color: #174EA6;\n",
              "      --disabled-fill-color: #AAA;\n",
              "      --disabled-bg-color: #DDD;\n",
              "  }\n",
              "\n",
              "  [theme=dark] .colab-df-quickchart {\n",
              "      --bg-color: #3B4455;\n",
              "      --fill-color: #D2E3FC;\n",
              "      --hover-bg-color: #434B5C;\n",
              "      --hover-fill-color: #FFFFFF;\n",
              "      --disabled-bg-color: #3B4455;\n",
              "      --disabled-fill-color: #666;\n",
              "  }\n",
              "\n",
              "  .colab-df-quickchart {\n",
              "    background-color: var(--bg-color);\n",
              "    border: none;\n",
              "    border-radius: 50%;\n",
              "    cursor: pointer;\n",
              "    display: none;\n",
              "    fill: var(--fill-color);\n",
              "    height: 32px;\n",
              "    padding: 0;\n",
              "    width: 32px;\n",
              "  }\n",
              "\n",
              "  .colab-df-quickchart:hover {\n",
              "    background-color: var(--hover-bg-color);\n",
              "    box-shadow: 0 1px 2px rgba(60, 64, 67, 0.3), 0 1px 3px 1px rgba(60, 64, 67, 0.15);\n",
              "    fill: var(--button-hover-fill-color);\n",
              "  }\n",
              "\n",
              "  .colab-df-quickchart-complete:disabled,\n",
              "  .colab-df-quickchart-complete:disabled:hover {\n",
              "    background-color: var(--disabled-bg-color);\n",
              "    fill: var(--disabled-fill-color);\n",
              "    box-shadow: none;\n",
              "  }\n",
              "\n",
              "  .colab-df-spinner {\n",
              "    border: 2px solid var(--fill-color);\n",
              "    border-color: transparent;\n",
              "    border-bottom-color: var(--fill-color);\n",
              "    animation:\n",
              "      spin 1s steps(1) infinite;\n",
              "  }\n",
              "\n",
              "  @keyframes spin {\n",
              "    0% {\n",
              "      border-color: transparent;\n",
              "      border-bottom-color: var(--fill-color);\n",
              "      border-left-color: var(--fill-color);\n",
              "    }\n",
              "    20% {\n",
              "      border-color: transparent;\n",
              "      border-left-color: var(--fill-color);\n",
              "      border-top-color: var(--fill-color);\n",
              "    }\n",
              "    30% {\n",
              "      border-color: transparent;\n",
              "      border-left-color: var(--fill-color);\n",
              "      border-top-color: var(--fill-color);\n",
              "      border-right-color: var(--fill-color);\n",
              "    }\n",
              "    40% {\n",
              "      border-color: transparent;\n",
              "      border-right-color: var(--fill-color);\n",
              "      border-top-color: var(--fill-color);\n",
              "    }\n",
              "    60% {\n",
              "      border-color: transparent;\n",
              "      border-right-color: var(--fill-color);\n",
              "    }\n",
              "    80% {\n",
              "      border-color: transparent;\n",
              "      border-right-color: var(--fill-color);\n",
              "      border-bottom-color: var(--fill-color);\n",
              "    }\n",
              "    90% {\n",
              "      border-color: transparent;\n",
              "      border-bottom-color: var(--fill-color);\n",
              "    }\n",
              "  }\n",
              "</style>\n",
              "\n",
              "  <script>\n",
              "    async function quickchart(key) {\n",
              "      const quickchartButtonEl =\n",
              "        document.querySelector('#' + key + ' button');\n",
              "      quickchartButtonEl.disabled = true;  // To prevent multiple clicks.\n",
              "      quickchartButtonEl.classList.add('colab-df-spinner');\n",
              "      try {\n",
              "        const charts = await google.colab.kernel.invokeFunction(\n",
              "            'suggestCharts', [key], {});\n",
              "      } catch (error) {\n",
              "        console.error('Error during call to suggestCharts:', error);\n",
              "      }\n",
              "      quickchartButtonEl.classList.remove('colab-df-spinner');\n",
              "      quickchartButtonEl.classList.add('colab-df-quickchart-complete');\n",
              "    }\n",
              "    (() => {\n",
              "      let quickchartButtonEl =\n",
              "        document.querySelector('#df-fdd3a8f2-6733-48ed-abdb-7f6d7de1d38e button');\n",
              "      quickchartButtonEl.style.display =\n",
              "        google.colab.kernel.accessAllowed ? 'block' : 'none';\n",
              "    })();\n",
              "  </script>\n",
              "</div>\n",
              "    </div>\n",
              "  </div>\n"
            ],
            "application/vnd.google.colaboratory.intrinsic+json": {
              "type": "dataframe",
              "variable_name": "data",
              "summary": "{\n  \"name\": \"data\",\n  \"rows\": 20640,\n  \"fields\": [\n    {\n      \"column\": \"MedInc\",\n      \"properties\": {\n        \"dtype\": \"number\",\n        \"std\": 1.8998217179452688,\n        \"min\": 0.4999,\n        \"max\": 15.0001,\n        \"samples\": [\n          5.0286,\n          2.0433,\n          6.1228\n        ],\n        \"num_unique_values\": 12928,\n        \"semantic_type\": \"\",\n        \"description\": \"\"\n      }\n    },\n    {\n      \"column\": \"HouseAge\",\n      \"properties\": {\n        \"dtype\": \"number\",\n        \"std\": 12.58555761211165,\n        \"min\": 1.0,\n        \"max\": 52.0,\n        \"samples\": [\n          35.0,\n          25.0,\n          7.0\n        ],\n        \"num_unique_values\": 52,\n        \"semantic_type\": \"\",\n        \"description\": \"\"\n      }\n    },\n    {\n      \"column\": \"AveRooms\",\n      \"properties\": {\n        \"dtype\": \"number\",\n        \"std\": 2.4741731394243187,\n        \"min\": 0.8461538461538461,\n        \"max\": 141.9090909090909,\n        \"samples\": [\n          6.111269614835948,\n          5.912820512820513,\n          5.7924528301886795\n        ],\n        \"num_unique_values\": 19392,\n        \"semantic_type\": \"\",\n        \"description\": \"\"\n      }\n    },\n    {\n      \"column\": \"AveBedrms\",\n      \"properties\": {\n        \"dtype\": \"number\",\n        \"std\": 0.473910856795466,\n        \"min\": 0.3333333333333333,\n        \"max\": 34.06666666666667,\n        \"samples\": [\n          0.9906542056074766,\n          1.112099644128114,\n          1.0398230088495575\n        ],\n        \"num_unique_values\": 14233,\n        \"semantic_type\": \"\",\n        \"description\": \"\"\n      }\n    },\n    {\n      \"column\": \"Population\",\n      \"properties\": {\n        \"dtype\": \"number\",\n        \"std\": 1132.462121765341,\n        \"min\": 3.0,\n        \"max\": 35682.0,\n        \"samples\": [\n          4169.0,\n          636.0,\n          3367.0\n        ],\n        \"num_unique_values\": 3888,\n        \"semantic_type\": \"\",\n        \"description\": \"\"\n      }\n    },\n    {\n      \"column\": \"AveOccup\",\n      \"properties\": {\n        \"dtype\": \"number\",\n        \"std\": 10.386049562213618,\n        \"min\": 0.6923076923076923,\n        \"max\": 1243.3333333333333,\n        \"samples\": [\n          2.6939799331103678,\n          3.559375,\n          3.297082228116711\n        ],\n        \"num_unique_values\": 18841,\n        \"semantic_type\": \"\",\n        \"description\": \"\"\n      }\n    },\n    {\n      \"column\": \"Latitude\",\n      \"properties\": {\n        \"dtype\": \"number\",\n        \"std\": 2.1359523974571153,\n        \"min\": 32.54,\n        \"max\": 41.95,\n        \"samples\": [\n          33.7,\n          34.41,\n          38.24\n        ],\n        \"num_unique_values\": 862,\n        \"semantic_type\": \"\",\n        \"description\": \"\"\n      }\n    },\n    {\n      \"column\": \"Longitude\",\n      \"properties\": {\n        \"dtype\": \"number\",\n        \"std\": 2.0035317235025882,\n        \"min\": -124.35,\n        \"max\": -114.31,\n        \"samples\": [\n          -118.63,\n          -119.86,\n          -121.26\n        ],\n        \"num_unique_values\": 844,\n        \"semantic_type\": \"\",\n        \"description\": \"\"\n      }\n    },\n    {\n      \"column\": \"MedHouseVal\",\n      \"properties\": {\n        \"dtype\": \"number\",\n        \"std\": 1.1539561587441387,\n        \"min\": 0.14999,\n        \"max\": 5.00001,\n        \"samples\": [\n          1.943,\n          3.79,\n          2.301\n        ],\n        \"num_unique_values\": 3842,\n        \"semantic_type\": \"\",\n        \"description\": \"\"\n      }\n    }\n  ]\n}"
            }
          },
          "metadata": {},
          "execution_count": 27
        }
      ]
    },
    {
      "cell_type": "code",
      "source": [
        "data.info()"
      ],
      "metadata": {
        "colab": {
          "base_uri": "https://localhost:8080/"
        },
        "id": "iDD_RnRV9yay",
        "outputId": "6bcb0240-cd32-485e-d160-cf65d1e41b84"
      },
      "execution_count": null,
      "outputs": [
        {
          "output_type": "stream",
          "name": "stdout",
          "text": [
            "<class 'pandas.core.frame.DataFrame'>\n",
            "RangeIndex: 20640 entries, 0 to 20639\n",
            "Data columns (total 9 columns):\n",
            " #   Column       Non-Null Count  Dtype  \n",
            "---  ------       --------------  -----  \n",
            " 0   MedInc       20640 non-null  float64\n",
            " 1   HouseAge     20640 non-null  float64\n",
            " 2   AveRooms     20640 non-null  float64\n",
            " 3   AveBedrms    20640 non-null  float64\n",
            " 4   Population   20640 non-null  float64\n",
            " 5   AveOccup     20640 non-null  float64\n",
            " 6   Latitude     20640 non-null  float64\n",
            " 7   Longitude    20640 non-null  float64\n",
            " 8   MedHouseVal  20640 non-null  float64\n",
            "dtypes: float64(9)\n",
            "memory usage: 1.4 MB\n"
          ]
        }
      ]
    },
    {
      "cell_type": "markdown",
      "source": [
        "There are no missing values."
      ],
      "metadata": {
        "id": "Wf4sCNtM-D8n"
      }
    },
    {
      "cell_type": "markdown",
      "source": [
        "Let's split the dataset into training and testing subsets. We will build a linear regression model and calculate the RMSE and R² metrics on both the training and testing sets."
      ],
      "metadata": {
        "id": "eFoQT1Bm-GO3"
      }
    },
    {
      "cell_type": "code",
      "source": [
        "X = data[['MedInc', 'HouseAge', 'AveRooms', 'AveBedrms', 'Population', 'AveOccup', 'Latitude', 'Longitude']]"
      ],
      "metadata": {
        "id": "WmTGDVyb-KZw"
      },
      "execution_count": null,
      "outputs": []
    },
    {
      "cell_type": "code",
      "source": [
        "y = data['MedHouseVal']"
      ],
      "metadata": {
        "id": "mKpZCt7J-tlp"
      },
      "execution_count": null,
      "outputs": []
    },
    {
      "cell_type": "code",
      "source": [
        "X_train, X_test, y_train, y_test = train_test_split(X, y, test_size=0.2, random_state=42)"
      ],
      "metadata": {
        "id": "I1goYeO9An0s"
      },
      "execution_count": null,
      "outputs": []
    },
    {
      "cell_type": "code",
      "source": [
        "model = LinearRegression()"
      ],
      "metadata": {
        "id": "NcADNzlMA6aG"
      },
      "execution_count": null,
      "outputs": []
    },
    {
      "cell_type": "code",
      "source": [
        "model.fit(X_train, y_train)"
      ],
      "metadata": {
        "colab": {
          "base_uri": "https://localhost:8080/",
          "height": 74
        },
        "id": "GE8pXbDNBVI1",
        "outputId": "80f7da17-a37a-46ce-a9d6-278a4d1376e0"
      },
      "execution_count": null,
      "outputs": [
        {
          "output_type": "execute_result",
          "data": {
            "text/plain": [
              "LinearRegression()"
            ],
            "text/html": [
              "<style>#sk-container-id-1 {color: black;background-color: white;}#sk-container-id-1 pre{padding: 0;}#sk-container-id-1 div.sk-toggleable {background-color: white;}#sk-container-id-1 label.sk-toggleable__label {cursor: pointer;display: block;width: 100%;margin-bottom: 0;padding: 0.3em;box-sizing: border-box;text-align: center;}#sk-container-id-1 label.sk-toggleable__label-arrow:before {content: \"▸\";float: left;margin-right: 0.25em;color: #696969;}#sk-container-id-1 label.sk-toggleable__label-arrow:hover:before {color: black;}#sk-container-id-1 div.sk-estimator:hover label.sk-toggleable__label-arrow:before {color: black;}#sk-container-id-1 div.sk-toggleable__content {max-height: 0;max-width: 0;overflow: hidden;text-align: left;background-color: #f0f8ff;}#sk-container-id-1 div.sk-toggleable__content pre {margin: 0.2em;color: black;border-radius: 0.25em;background-color: #f0f8ff;}#sk-container-id-1 input.sk-toggleable__control:checked~div.sk-toggleable__content {max-height: 200px;max-width: 100%;overflow: auto;}#sk-container-id-1 input.sk-toggleable__control:checked~label.sk-toggleable__label-arrow:before {content: \"▾\";}#sk-container-id-1 div.sk-estimator input.sk-toggleable__control:checked~label.sk-toggleable__label {background-color: #d4ebff;}#sk-container-id-1 div.sk-label input.sk-toggleable__control:checked~label.sk-toggleable__label {background-color: #d4ebff;}#sk-container-id-1 input.sk-hidden--visually {border: 0;clip: rect(1px 1px 1px 1px);clip: rect(1px, 1px, 1px, 1px);height: 1px;margin: -1px;overflow: hidden;padding: 0;position: absolute;width: 1px;}#sk-container-id-1 div.sk-estimator {font-family: monospace;background-color: #f0f8ff;border: 1px dotted black;border-radius: 0.25em;box-sizing: border-box;margin-bottom: 0.5em;}#sk-container-id-1 div.sk-estimator:hover {background-color: #d4ebff;}#sk-container-id-1 div.sk-parallel-item::after {content: \"\";width: 100%;border-bottom: 1px solid gray;flex-grow: 1;}#sk-container-id-1 div.sk-label:hover label.sk-toggleable__label {background-color: #d4ebff;}#sk-container-id-1 div.sk-serial::before {content: \"\";position: absolute;border-left: 1px solid gray;box-sizing: border-box;top: 0;bottom: 0;left: 50%;z-index: 0;}#sk-container-id-1 div.sk-serial {display: flex;flex-direction: column;align-items: center;background-color: white;padding-right: 0.2em;padding-left: 0.2em;position: relative;}#sk-container-id-1 div.sk-item {position: relative;z-index: 1;}#sk-container-id-1 div.sk-parallel {display: flex;align-items: stretch;justify-content: center;background-color: white;position: relative;}#sk-container-id-1 div.sk-item::before, #sk-container-id-1 div.sk-parallel-item::before {content: \"\";position: absolute;border-left: 1px solid gray;box-sizing: border-box;top: 0;bottom: 0;left: 50%;z-index: -1;}#sk-container-id-1 div.sk-parallel-item {display: flex;flex-direction: column;z-index: 1;position: relative;background-color: white;}#sk-container-id-1 div.sk-parallel-item:first-child::after {align-self: flex-end;width: 50%;}#sk-container-id-1 div.sk-parallel-item:last-child::after {align-self: flex-start;width: 50%;}#sk-container-id-1 div.sk-parallel-item:only-child::after {width: 0;}#sk-container-id-1 div.sk-dashed-wrapped {border: 1px dashed gray;margin: 0 0.4em 0.5em 0.4em;box-sizing: border-box;padding-bottom: 0.4em;background-color: white;}#sk-container-id-1 div.sk-label label {font-family: monospace;font-weight: bold;display: inline-block;line-height: 1.2em;}#sk-container-id-1 div.sk-label-container {text-align: center;}#sk-container-id-1 div.sk-container {/* jupyter's `normalize.less` sets `[hidden] { display: none; }` but bootstrap.min.css set `[hidden] { display: none !important; }` so we also need the `!important` here to be able to override the default hidden behavior on the sphinx rendered scikit-learn.org. See: https://github.com/scikit-learn/scikit-learn/issues/21755 */display: inline-block !important;position: relative;}#sk-container-id-1 div.sk-text-repr-fallback {display: none;}</style><div id=\"sk-container-id-1\" class=\"sk-top-container\"><div class=\"sk-text-repr-fallback\"><pre>LinearRegression()</pre><b>In a Jupyter environment, please rerun this cell to show the HTML representation or trust the notebook. <br />On GitHub, the HTML representation is unable to render, please try loading this page with nbviewer.org.</b></div><div class=\"sk-container\" hidden><div class=\"sk-item\"><div class=\"sk-estimator sk-toggleable\"><input class=\"sk-toggleable__control sk-hidden--visually\" id=\"sk-estimator-id-1\" type=\"checkbox\" checked><label for=\"sk-estimator-id-1\" class=\"sk-toggleable__label sk-toggleable__label-arrow\">LinearRegression</label><div class=\"sk-toggleable__content\"><pre>LinearRegression()</pre></div></div></div></div></div>"
            ]
          },
          "metadata": {},
          "execution_count": 34
        }
      ]
    },
    {
      "cell_type": "code",
      "source": [
        "from sklearn.metrics import mean_squared_error"
      ],
      "metadata": {
        "id": "lwElTBWKBs2D"
      },
      "execution_count": null,
      "outputs": []
    },
    {
      "cell_type": "code",
      "source": [
        "y_pred_test = model.predict(X_test)"
      ],
      "metadata": {
        "id": "f8fYocvCC9vH"
      },
      "execution_count": null,
      "outputs": []
    },
    {
      "cell_type": "code",
      "source": [
        "y_pred_train = model.predict(X_train)"
      ],
      "metadata": {
        "id": "_ad4siFGDnXv"
      },
      "execution_count": null,
      "outputs": []
    },
    {
      "cell_type": "code",
      "source": [
        "rmse_train = mean_squared_error(y_train, y_pred_train)\n",
        "rmse_train"
      ],
      "metadata": {
        "colab": {
          "base_uri": "https://localhost:8080/"
        },
        "id": "u1-9Iy6tD7J6",
        "outputId": "b3dbb640-2af2-482c-fd4c-c2e7067ead99"
      },
      "execution_count": null,
      "outputs": [
        {
          "output_type": "execute_result",
          "data": {
            "text/plain": [
              "0.5179331255246699"
            ]
          },
          "metadata": {},
          "execution_count": 40
        }
      ]
    },
    {
      "cell_type": "code",
      "source": [
        "rmse_test = mean_squared_error(y_test, y_pred_test)\n",
        "rmse_test"
      ],
      "metadata": {
        "colab": {
          "base_uri": "https://localhost:8080/"
        },
        "id": "jV0Udr79EbCN",
        "outputId": "95045367-2195-49ba-eaf7-0ab85452a132"
      },
      "execution_count": null,
      "outputs": [
        {
          "output_type": "execute_result",
          "data": {
            "text/plain": [
              "0.5558915986952444"
            ]
          },
          "metadata": {},
          "execution_count": 42
        }
      ]
    },
    {
      "cell_type": "code",
      "source": [
        "from sklearn.metrics import r2_score"
      ],
      "metadata": {
        "id": "eBvbKwXuEvFf"
      },
      "execution_count": null,
      "outputs": []
    },
    {
      "cell_type": "code",
      "source": [
        "r2_train = r2_score(y_train, y_pred_train)\n",
        "r2_train"
      ],
      "metadata": {
        "colab": {
          "base_uri": "https://localhost:8080/"
        },
        "id": "DaiZLSZSE3eU",
        "outputId": "38bc648f-911d-4284-918f-82ad0106c14e"
      },
      "execution_count": null,
      "outputs": [
        {
          "output_type": "execute_result",
          "data": {
            "text/plain": [
              "0.6125511913966952"
            ]
          },
          "metadata": {},
          "execution_count": 44
        }
      ]
    },
    {
      "cell_type": "code",
      "source": [
        "r2_test = r2_score(y_test, y_pred_test)\n",
        "r2_test"
      ],
      "metadata": {
        "colab": {
          "base_uri": "https://localhost:8080/"
        },
        "id": "mYDltNa2FB9Z",
        "outputId": "a5d8db0e-2f2e-48c5-f84f-a16c7bf8b351"
      },
      "execution_count": null,
      "outputs": [
        {
          "output_type": "execute_result",
          "data": {
            "text/plain": [
              "0.5757877060324508"
            ]
          },
          "metadata": {},
          "execution_count": 45
        }
      ]
    },
    {
      "cell_type": "markdown",
      "source": [
        "Let's plot the distribution of the target variable."
      ],
      "metadata": {
        "id": "hhoqxkg5FnLY"
      }
    },
    {
      "cell_type": "code",
      "source": [
        "plt.boxplot(data[\"MedHouseVal\"])"
      ],
      "metadata": {
        "colab": {
          "base_uri": "https://localhost:8080/",
          "height": 569
        },
        "id": "1YVaNPoeFsI9",
        "outputId": "cf0bdc29-44d2-41e4-d28c-a18305e48e4a"
      },
      "execution_count": null,
      "outputs": [
        {
          "output_type": "execute_result",
          "data": {
            "text/plain": [
              "{'whiskers': [<matplotlib.lines.Line2D at 0x7f14eaa46110>,\n",
              "  <matplotlib.lines.Line2D at 0x7f14eaa46b60>],\n",
              " 'caps': [<matplotlib.lines.Line2D at 0x7f14eaa475b0>,\n",
              "  <matplotlib.lines.Line2D at 0x7f14eaa46ef0>],\n",
              " 'boxes': [<matplotlib.lines.Line2D at 0x7f14eaa45600>],\n",
              " 'medians': [<matplotlib.lines.Line2D at 0x7f14eaa463e0>],\n",
              " 'fliers': [<matplotlib.lines.Line2D at 0x7f14eaa47940>],\n",
              " 'means': []}"
            ]
          },
          "metadata": {},
          "execution_count": 49
        },
        {
          "output_type": "display_data",
          "data": {
            "text/plain": [
              "<Figure size 640x480 with 1 Axes>"
            ],
            "image/png": "[encoded data removed]"
          },
          "metadata": {}
        }
      ]
    },
    {
      "cell_type": "markdown",
      "source": [
        "We can see that there are outliers present."
      ],
      "metadata": {
        "id": "11NcmKhjH2uU"
      }
    },
    {
      "cell_type": "markdown",
      "source": [
        "We will calculate and display the correlation matrix. Based on the obtained values, we will make conclusions and remove features accordingly. After that, we will split the dataset again, build the model, and calculate the metrics."
      ],
      "metadata": {
        "id": "qNFD1O7yH7PY"
      }
    },
    {
      "cell_type": "code",
      "source": [
        "import seaborn as sns"
      ],
      "metadata": {
        "id": "VzAqTSMkICB5"
      },
      "execution_count": null,
      "outputs": []
    },
    {
      "cell_type": "code",
      "source": [
        "corr = data.corr()"
      ],
      "metadata": {
        "id": "WIZZDnbQIvid"
      },
      "execution_count": null,
      "outputs": []
    },
    {
      "cell_type": "code",
      "source": [
        "corr.style.background_gradient(cmap='RdYlGn')"
      ],
      "metadata": {
        "colab": {
          "base_uri": "https://localhost:8080/",
          "height": 331
        },
        "id": "zxlS3e96I7TH",
        "outputId": "8da6bcc0-5d7c-4943-f724-211568b55ea3"
      },
      "execution_count": null,
      "outputs": [
        {
          "output_type": "execute_result",
          "data": {
            "text/plain": [
              "<pandas.io.formats.style.Styler at 0x7f14ea167fa0>"
            ],
            "text/html": [
              "<style type=\"text/css\">\n",
              "#T_7cb4c_row0_col0, #T_7cb4c_row1_col1, #T_7cb4c_row2_col2, #T_7cb4c_row3_col3, #T_7cb4c_row4_col4, #T_7cb4c_row5_col5, #T_7cb4c_row6_col6, #T_7cb4c_row7_col7, #T_7cb4c_row8_col8 {\n",
              "  background-color: #006837;\n",
              "  color: #f1f1f1;\n",
              "}\n",
              "#T_7cb4c_row0_col1 {\n",
              "  background-color: #e14430;\n",
              "  color: #f1f1f1;\n",
              "}\n",
              "#T_7cb4c_row0_col2 {\n",
              "  background-color: #fee593;\n",
              "  color: #000000;\n",
              "}\n",
              "#T_7cb4c_row0_col3 {\n",
              "  background-color: #ab0626;\n",
              "  color: #f1f1f1;\n",
              "}\n",
              "#T_7cb4c_row0_col4 {\n",
              "  background-color: #f7814c;\n",
              "  color: #f1f1f1;\n",
              "}\n",
              "#T_7cb4c_row0_col5 {\n",
              "  background-color: #b91326;\n",
              "  color: #f1f1f1;\n",
              "}\n",
              "#T_7cb4c_row0_col6 {\n",
              "  background-color: #feec9f;\n",
              "  color: #000000;\n",
              "}\n",
              "#T_7cb4c_row0_col7 {\n",
              "  background-color: #fff6b0;\n",
              "  color: #000000;\n",
              "}\n",
              "#T_7cb4c_row0_col8 {\n",
              "  background-color: #93d168;\n",
              "  color: #000000;\n",
              "}\n",
              "#T_7cb4c_row1_col0, #T_7cb4c_row1_col2, #T_7cb4c_row1_col3, #T_7cb4c_row1_col4, #T_7cb4c_row4_col1, #T_7cb4c_row6_col7, #T_7cb4c_row6_col8, #T_7cb4c_row7_col6, #T_7cb4c_row8_col5 {\n",
              "  background-color: #a50026;\n",
              "  color: #f1f1f1;\n",
              "}\n",
              "#T_7cb4c_row1_col5 {\n",
              "  background-color: #b71126;\n",
              "  color: #f1f1f1;\n",
              "}\n",
              "#T_7cb4c_row1_col6, #T_7cb4c_row3_col7 {\n",
              "  background-color: #fffbb8;\n",
              "  color: #000000;\n",
              "}\n",
              "#T_7cb4c_row1_col7, #T_7cb4c_row4_col6 {\n",
              "  background-color: #fee797;\n",
              "  color: #000000;\n",
              "}\n",
              "#T_7cb4c_row1_col8 {\n",
              "  background-color: #f57748;\n",
              "  color: #f1f1f1;\n",
              "}\n",
              "#T_7cb4c_row2_col0 {\n",
              "  background-color: #fee08b;\n",
              "  color: #000000;\n",
              "}\n",
              "#T_7cb4c_row2_col1, #T_7cb4c_row4_col0 {\n",
              "  background-color: #da362a;\n",
              "  color: #f1f1f1;\n",
              "}\n",
              "#T_7cb4c_row2_col3 {\n",
              "  background-color: #39a758;\n",
              "  color: #f1f1f1;\n",
              "}\n",
              "#T_7cb4c_row2_col4 {\n",
              "  background-color: #ec5c3b;\n",
              "  color: #f1f1f1;\n",
              "}\n",
              "#T_7cb4c_row2_col5, #T_7cb4c_row3_col5 {\n",
              "  background-color: #ad0826;\n",
              "  color: #f1f1f1;\n",
              "}\n",
              "#T_7cb4c_row2_col6 {\n",
              "  background-color: #f1f9ac;\n",
              "  color: #000000;\n",
              "}\n",
              "#T_7cb4c_row2_col7 {\n",
              "  background-color: #fff5ae;\n",
              "  color: #000000;\n",
              "}\n",
              "#T_7cb4c_row2_col8 {\n",
              "  background-color: #f99355;\n",
              "  color: #000000;\n",
              "}\n",
              "#T_7cb4c_row3_col0 {\n",
              "  background-color: #be1827;\n",
              "  color: #f1f1f1;\n",
              "}\n",
              "#T_7cb4c_row3_col1 {\n",
              "  background-color: #eb5a3a;\n",
              "  color: #f1f1f1;\n",
              "}\n",
              "#T_7cb4c_row3_col2 {\n",
              "  background-color: #30a356;\n",
              "  color: #f1f1f1;\n",
              "}\n",
              "#T_7cb4c_row3_col4 {\n",
              "  background-color: #ed5f3c;\n",
              "  color: #f1f1f1;\n",
              "}\n",
              "#T_7cb4c_row3_col6 {\n",
              "  background-color: #f8fcb6;\n",
              "  color: #000000;\n",
              "}\n",
              "#T_7cb4c_row3_col8, #T_7cb4c_row7_col3, #T_7cb4c_row7_col8 {\n",
              "  background-color: #ce2827;\n",
              "  color: #f1f1f1;\n",
              "}\n",
              "#T_7cb4c_row4_col2 {\n",
              "  background-color: #c62027;\n",
              "  color: #f1f1f1;\n",
              "}\n",
              "#T_7cb4c_row4_col3 {\n",
              "  background-color: #a90426;\n",
              "  color: #f1f1f1;\n",
              "}\n",
              "#T_7cb4c_row4_col5, #T_7cb4c_row7_col0 {\n",
              "  background-color: #d22b27;\n",
              "  color: #f1f1f1;\n",
              "}\n",
              "#T_7cb4c_row4_col7 {\n",
              "  background-color: #f2faae;\n",
              "  color: #000000;\n",
              "}\n",
              "#T_7cb4c_row4_col8, #T_7cb4c_row5_col8 {\n",
              "  background-color: #d83128;\n",
              "  color: #f1f1f1;\n",
              "}\n",
              "#T_7cb4c_row5_col0 {\n",
              "  background-color: #dd3d2d;\n",
              "  color: #f1f1f1;\n",
              "}\n",
              "#T_7cb4c_row5_col1 {\n",
              "  background-color: #f8864f;\n",
              "  color: #f1f1f1;\n",
              "}\n",
              "#T_7cb4c_row5_col2 {\n",
              "  background-color: #de402e;\n",
              "  color: #f1f1f1;\n",
              "}\n",
              "#T_7cb4c_row5_col3 {\n",
              "  background-color: #c41e27;\n",
              "  color: #f1f1f1;\n",
              "}\n",
              "#T_7cb4c_row5_col4 {\n",
              "  background-color: #fba35c;\n",
              "  color: #000000;\n",
              "}\n",
              "#T_7cb4c_row5_col6, #T_7cb4c_row5_col7 {\n",
              "  background-color: #fffab6;\n",
              "  color: #000000;\n",
              "}\n",
              "#T_7cb4c_row6_col0 {\n",
              "  background-color: #b50f26;\n",
              "  color: #f1f1f1;\n",
              "}\n",
              "#T_7cb4c_row6_col1 {\n",
              "  background-color: #f7844e;\n",
              "  color: #f1f1f1;\n",
              "}\n",
              "#T_7cb4c_row6_col2 {\n",
              "  background-color: #f67c4a;\n",
              "  color: #f1f1f1;\n",
              "}\n",
              "#T_7cb4c_row6_col3 {\n",
              "  background-color: #e24731;\n",
              "  color: #f1f1f1;\n",
              "}\n",
              "#T_7cb4c_row6_col4, #T_7cb4c_row7_col1 {\n",
              "  background-color: #e44c34;\n",
              "  color: #f1f1f1;\n",
              "}\n",
              "#T_7cb4c_row6_col5, #T_7cb4c_row7_col5 {\n",
              "  background-color: #b10b26;\n",
              "  color: #f1f1f1;\n",
              "}\n",
              "#T_7cb4c_row7_col2 {\n",
              "  background-color: #d93429;\n",
              "  color: #f1f1f1;\n",
              "}\n",
              "#T_7cb4c_row7_col4 {\n",
              "  background-color: #fdb163;\n",
              "  color: #000000;\n",
              "}\n",
              "#T_7cb4c_row8_col0 {\n",
              "  background-color: #98d368;\n",
              "  color: #000000;\n",
              "}\n",
              "#T_7cb4c_row8_col1 {\n",
              "  background-color: #fdb365;\n",
              "  color: #000000;\n",
              "}\n",
              "#T_7cb4c_row8_col2 {\n",
              "  background-color: #fa9656;\n",
              "  color: #000000;\n",
              "}\n",
              "#T_7cb4c_row8_col3 {\n",
              "  background-color: #b30d26;\n",
              "  color: #f1f1f1;\n",
              "}\n",
              "#T_7cb4c_row8_col4 {\n",
              "  background-color: #f57245;\n",
              "  color: #f1f1f1;\n",
              "}\n",
              "#T_7cb4c_row8_col6 {\n",
              "  background-color: #fee18d;\n",
              "  color: #000000;\n",
              "}\n",
              "#T_7cb4c_row8_col7 {\n",
              "  background-color: #fff1a8;\n",
              "  color: #000000;\n",
              "}\n",
              "</style>\n",
              "<table id=\"T_7cb4c\" class=\"dataframe\">\n",
              "  <thead>\n",
              "    <tr>\n",
              "      <th class=\"blank level0\" >&nbsp;</th>\n",
              "      <th id=\"T_7cb4c_level0_col0\" class=\"col_heading level0 col0\" >MedInc</th>\n",
              "      <th id=\"T_7cb4c_level0_col1\" class=\"col_heading level0 col1\" >HouseAge</th>\n",
              "      <th id=\"T_7cb4c_level0_col2\" class=\"col_heading level0 col2\" >AveRooms</th>\n",
              "      <th id=\"T_7cb4c_level0_col3\" class=\"col_heading level0 col3\" >AveBedrms</th>\n",
              "      <th id=\"T_7cb4c_level0_col4\" class=\"col_heading level0 col4\" >Population</th>\n",
              "      <th id=\"T_7cb4c_level0_col5\" class=\"col_heading level0 col5\" >AveOccup</th>\n",
              "      <th id=\"T_7cb4c_level0_col6\" class=\"col_heading level0 col6\" >Latitude</th>\n",
              "      <th id=\"T_7cb4c_level0_col7\" class=\"col_heading level0 col7\" >Longitude</th>\n",
              "      <th id=\"T_7cb4c_level0_col8\" class=\"col_heading level0 col8\" >MedHouseVal</th>\n",
              "    </tr>\n",
              "  </thead>\n",
              "  <tbody>\n",
              "    <tr>\n",
              "      <th id=\"T_7cb4c_level0_row0\" class=\"row_heading level0 row0\" >MedInc</th>\n",
              "      <td id=\"T_7cb4c_row0_col0\" class=\"data row0 col0\" >1.000000</td>\n",
              "      <td id=\"T_7cb4c_row0_col1\" class=\"data row0 col1\" >-0.119034</td>\n",
              "      <td id=\"T_7cb4c_row0_col2\" class=\"data row0 col2\" >0.326895</td>\n",
              "      <td id=\"T_7cb4c_row0_col3\" class=\"data row0 col3\" >-0.062040</td>\n",
              "      <td id=\"T_7cb4c_row0_col4\" class=\"data row0 col4\" >0.004834</td>\n",
              "      <td id=\"T_7cb4c_row0_col5\" class=\"data row0 col5\" >0.018766</td>\n",
              "      <td id=\"T_7cb4c_row0_col6\" class=\"data row0 col6\" >-0.079809</td>\n",
              "      <td id=\"T_7cb4c_row0_col7\" class=\"data row0 col7\" >-0.015176</td>\n",
              "      <td id=\"T_7cb4c_row0_col8\" class=\"data row0 col8\" >0.688075</td>\n",
              "    </tr>\n",
              "    <tr>\n",
              "      <th id=\"T_7cb4c_level0_row1\" class=\"row_heading level0 row1\" >HouseAge</th>\n",
              "      <td id=\"T_7cb4c_row1_col0\" class=\"data row1 col0\" >-0.119034</td>\n",
              "      <td id=\"T_7cb4c_row1_col1\" class=\"data row1 col1\" >1.000000</td>\n",
              "      <td id=\"T_7cb4c_row1_col2\" class=\"data row1 col2\" >-0.153277</td>\n",
              "      <td id=\"T_7cb4c_row1_col3\" class=\"data row1 col3\" >-0.077747</td>\n",
              "      <td id=\"T_7cb4c_row1_col4\" class=\"data row1 col4\" >-0.296244</td>\n",
              "      <td id=\"T_7cb4c_row1_col5\" class=\"data row1 col5\" >0.013191</td>\n",
              "      <td id=\"T_7cb4c_row1_col6\" class=\"data row1 col6\" >0.011173</td>\n",
              "      <td id=\"T_7cb4c_row1_col7\" class=\"data row1 col7\" >-0.108197</td>\n",
              "      <td id=\"T_7cb4c_row1_col8\" class=\"data row1 col8\" >0.105623</td>\n",
              "    </tr>\n",
              "    <tr>\n",
              "      <th id=\"T_7cb4c_level0_row2\" class=\"row_heading level0 row2\" >AveRooms</th>\n",
              "      <td id=\"T_7cb4c_row2_col0\" class=\"data row2 col0\" >0.326895</td>\n",
              "      <td id=\"T_7cb4c_row2_col1\" class=\"data row2 col1\" >-0.153277</td>\n",
              "      <td id=\"T_7cb4c_row2_col2\" class=\"data row2 col2\" >1.000000</td>\n",
              "      <td id=\"T_7cb4c_row2_col3\" class=\"data row2 col3\" >0.847621</td>\n",
              "      <td id=\"T_7cb4c_row2_col4\" class=\"data row2 col4\" >-0.072213</td>\n",
              "      <td id=\"T_7cb4c_row2_col5\" class=\"data row2 col5\" >-0.004852</td>\n",
              "      <td id=\"T_7cb4c_row2_col6\" class=\"data row2 col6\" >0.106389</td>\n",
              "      <td id=\"T_7cb4c_row2_col7\" class=\"data row2 col7\" >-0.027540</td>\n",
              "      <td id=\"T_7cb4c_row2_col8\" class=\"data row2 col8\" >0.151948</td>\n",
              "    </tr>\n",
              "    <tr>\n",
              "      <th id=\"T_7cb4c_level0_row3\" class=\"row_heading level0 row3\" >AveBedrms</th>\n",
              "      <td id=\"T_7cb4c_row3_col0\" class=\"data row3 col0\" >-0.062040</td>\n",
              "      <td id=\"T_7cb4c_row3_col1\" class=\"data row3 col1\" >-0.077747</td>\n",
              "      <td id=\"T_7cb4c_row3_col2\" class=\"data row3 col2\" >0.847621</td>\n",
              "      <td id=\"T_7cb4c_row3_col3\" class=\"data row3 col3\" >1.000000</td>\n",
              "      <td id=\"T_7cb4c_row3_col4\" class=\"data row3 col4\" >-0.066197</td>\n",
              "      <td id=\"T_7cb4c_row3_col5\" class=\"data row3 col5\" >-0.006181</td>\n",
              "      <td id=\"T_7cb4c_row3_col6\" class=\"data row3 col6\" >0.069721</td>\n",
              "      <td id=\"T_7cb4c_row3_col7\" class=\"data row3 col7\" >0.013344</td>\n",
              "      <td id=\"T_7cb4c_row3_col8\" class=\"data row3 col8\" >-0.046701</td>\n",
              "    </tr>\n",
              "    <tr>\n",
              "      <th id=\"T_7cb4c_level0_row4\" class=\"row_heading level0 row4\" >Population</th>\n",
              "      <td id=\"T_7cb4c_row4_col0\" class=\"data row4 col0\" >0.004834</td>\n",
              "      <td id=\"T_7cb4c_row4_col1\" class=\"data row4 col1\" >-0.296244</td>\n",
              "      <td id=\"T_7cb4c_row4_col2\" class=\"data row4 col2\" >-0.072213</td>\n",
              "      <td id=\"T_7cb4c_row4_col3\" class=\"data row4 col3\" >-0.066197</td>\n",
              "      <td id=\"T_7cb4c_row4_col4\" class=\"data row4 col4\" >1.000000</td>\n",
              "      <td id=\"T_7cb4c_row4_col5\" class=\"data row4 col5\" >0.069863</td>\n",
              "      <td id=\"T_7cb4c_row4_col6\" class=\"data row4 col6\" >-0.108785</td>\n",
              "      <td id=\"T_7cb4c_row4_col7\" class=\"data row4 col7\" >0.099773</td>\n",
              "      <td id=\"T_7cb4c_row4_col8\" class=\"data row4 col8\" >-0.024650</td>\n",
              "    </tr>\n",
              "    <tr>\n",
              "      <th id=\"T_7cb4c_level0_row5\" class=\"row_heading level0 row5\" >AveOccup</th>\n",
              "      <td id=\"T_7cb4c_row5_col0\" class=\"data row5 col0\" >0.018766</td>\n",
              "      <td id=\"T_7cb4c_row5_col1\" class=\"data row5 col1\" >0.013191</td>\n",
              "      <td id=\"T_7cb4c_row5_col2\" class=\"data row5 col2\" >-0.004852</td>\n",
              "      <td id=\"T_7cb4c_row5_col3\" class=\"data row5 col3\" >-0.006181</td>\n",
              "      <td id=\"T_7cb4c_row5_col4\" class=\"data row5 col4\" >0.069863</td>\n",
              "      <td id=\"T_7cb4c_row5_col5\" class=\"data row5 col5\" >1.000000</td>\n",
              "      <td id=\"T_7cb4c_row5_col6\" class=\"data row5 col6\" >0.002366</td>\n",
              "      <td id=\"T_7cb4c_row5_col7\" class=\"data row5 col7\" >0.002476</td>\n",
              "      <td id=\"T_7cb4c_row5_col8\" class=\"data row5 col8\" >-0.023737</td>\n",
              "    </tr>\n",
              "    <tr>\n",
              "      <th id=\"T_7cb4c_level0_row6\" class=\"row_heading level0 row6\" >Latitude</th>\n",
              "      <td id=\"T_7cb4c_row6_col0\" class=\"data row6 col0\" >-0.079809</td>\n",
              "      <td id=\"T_7cb4c_row6_col1\" class=\"data row6 col1\" >0.011173</td>\n",
              "      <td id=\"T_7cb4c_row6_col2\" class=\"data row6 col2\" >0.106389</td>\n",
              "      <td id=\"T_7cb4c_row6_col3\" class=\"data row6 col3\" >0.069721</td>\n",
              "      <td id=\"T_7cb4c_row6_col4\" class=\"data row6 col4\" >-0.108785</td>\n",
              "      <td id=\"T_7cb4c_row6_col5\" class=\"data row6 col5\" >0.002366</td>\n",
              "      <td id=\"T_7cb4c_row6_col6\" class=\"data row6 col6\" >1.000000</td>\n",
              "      <td id=\"T_7cb4c_row6_col7\" class=\"data row6 col7\" >-0.924664</td>\n",
              "      <td id=\"T_7cb4c_row6_col8\" class=\"data row6 col8\" >-0.144160</td>\n",
              "    </tr>\n",
              "    <tr>\n",
              "      <th id=\"T_7cb4c_level0_row7\" class=\"row_heading level0 row7\" >Longitude</th>\n",
              "      <td id=\"T_7cb4c_row7_col0\" class=\"data row7 col0\" >-0.015176</td>\n",
              "      <td id=\"T_7cb4c_row7_col1\" class=\"data row7 col1\" >-0.108197</td>\n",
              "      <td id=\"T_7cb4c_row7_col2\" class=\"data row7 col2\" >-0.027540</td>\n",
              "      <td id=\"T_7cb4c_row7_col3\" class=\"data row7 col3\" >0.013344</td>\n",
              "      <td id=\"T_7cb4c_row7_col4\" class=\"data row7 col4\" >0.099773</td>\n",
              "      <td id=\"T_7cb4c_row7_col5\" class=\"data row7 col5\" >0.002476</td>\n",
              "      <td id=\"T_7cb4c_row7_col6\" class=\"data row7 col6\" >-0.924664</td>\n",
              "      <td id=\"T_7cb4c_row7_col7\" class=\"data row7 col7\" >1.000000</td>\n",
              "      <td id=\"T_7cb4c_row7_col8\" class=\"data row7 col8\" >-0.045967</td>\n",
              "    </tr>\n",
              "    <tr>\n",
              "      <th id=\"T_7cb4c_level0_row8\" class=\"row_heading level0 row8\" >MedHouseVal</th>\n",
              "      <td id=\"T_7cb4c_row8_col0\" class=\"data row8 col0\" >0.688075</td>\n",
              "      <td id=\"T_7cb4c_row8_col1\" class=\"data row8 col1\" >0.105623</td>\n",
              "      <td id=\"T_7cb4c_row8_col2\" class=\"data row8 col2\" >0.151948</td>\n",
              "      <td id=\"T_7cb4c_row8_col3\" class=\"data row8 col3\" >-0.046701</td>\n",
              "      <td id=\"T_7cb4c_row8_col4\" class=\"data row8 col4\" >-0.024650</td>\n",
              "      <td id=\"T_7cb4c_row8_col5\" class=\"data row8 col5\" >-0.023737</td>\n",
              "      <td id=\"T_7cb4c_row8_col6\" class=\"data row8 col6\" >-0.144160</td>\n",
              "      <td id=\"T_7cb4c_row8_col7\" class=\"data row8 col7\" >-0.045967</td>\n",
              "      <td id=\"T_7cb4c_row8_col8\" class=\"data row8 col8\" >1.000000</td>\n",
              "    </tr>\n",
              "  </tbody>\n",
              "</table>\n"
            ]
          },
          "metadata": {},
          "execution_count": 53
        }
      ]
    },
    {
      "cell_type": "markdown",
      "source": [
        "We can see that the highest correlation (0.847621) is between the features AveBedrms and AveRooms. Therefore, we can remove one of these features."
      ],
      "metadata": {
        "id": "O_iM1nVtKCst"
      }
    },
    {
      "cell_type": "code",
      "source": [
        "X1 = data[['MedInc', 'HouseAge', 'AveRooms', 'Population', 'AveOccup', 'Latitude', 'Longitude']]"
      ],
      "metadata": {
        "id": "Oe6g5L6zKVDq"
      },
      "execution_count": null,
      "outputs": []
    },
    {
      "cell_type": "code",
      "source": [
        "y1 = data['MedHouseVal']"
      ],
      "metadata": {
        "id": "nz214_-YMMD_"
      },
      "execution_count": null,
      "outputs": []
    },
    {
      "cell_type": "code",
      "source": [
        "X_train, X_test, y_train, y_test = train_test_split(X1, y1, test_size=0.2, random_state=42)"
      ],
      "metadata": {
        "id": "XjFN_f61MZRv"
      },
      "execution_count": null,
      "outputs": []
    },
    {
      "cell_type": "code",
      "source": [
        "model = LinearRegression()"
      ],
      "metadata": {
        "id": "HT4xhWWGMf6m"
      },
      "execution_count": null,
      "outputs": []
    },
    {
      "cell_type": "code",
      "source": [
        "model.fit(X_train, y_train)"
      ],
      "metadata": {
        "colab": {
          "base_uri": "https://localhost:8080/",
          "height": 74
        },
        "id": "psI32lSRMkaY",
        "outputId": "80a9bf92-4859-4963-9a47-f6010c2560f6"
      },
      "execution_count": null,
      "outputs": [
        {
          "output_type": "execute_result",
          "data": {
            "text/plain": [
              "LinearRegression()"
            ],
            "text/html": [
              "<style>#sk-container-id-2 {color: black;background-color: white;}#sk-container-id-2 pre{padding: 0;}#sk-container-id-2 div.sk-toggleable {background-color: white;}#sk-container-id-2 label.sk-toggleable__label {cursor: pointer;display: block;width: 100%;margin-bottom: 0;padding: 0.3em;box-sizing: border-box;text-align: center;}#sk-container-id-2 label.sk-toggleable__label-arrow:before {content: \"▸\";float: left;margin-right: 0.25em;color: #696969;}#sk-container-id-2 label.sk-toggleable__label-arrow:hover:before {color: black;}#sk-container-id-2 div.sk-estimator:hover label.sk-toggleable__label-arrow:before {color: black;}#sk-container-id-2 div.sk-toggleable__content {max-height: 0;max-width: 0;overflow: hidden;text-align: left;background-color: #f0f8ff;}#sk-container-id-2 div.sk-toggleable__content pre {margin: 0.2em;color: black;border-radius: 0.25em;background-color: #f0f8ff;}#sk-container-id-2 input.sk-toggleable__control:checked~div.sk-toggleable__content {max-height: 200px;max-width: 100%;overflow: auto;}#sk-container-id-2 input.sk-toggleable__control:checked~label.sk-toggleable__label-arrow:before {content: \"▾\";}#sk-container-id-2 div.sk-estimator input.sk-toggleable__control:checked~label.sk-toggleable__label {background-color: #d4ebff;}#sk-container-id-2 div.sk-label input.sk-toggleable__control:checked~label.sk-toggleable__label {background-color: #d4ebff;}#sk-container-id-2 input.sk-hidden--visually {border: 0;clip: rect(1px 1px 1px 1px);clip: rect(1px, 1px, 1px, 1px);height: 1px;margin: -1px;overflow: hidden;padding: 0;position: absolute;width: 1px;}#sk-container-id-2 div.sk-estimator {font-family: monospace;background-color: #f0f8ff;border: 1px dotted black;border-radius: 0.25em;box-sizing: border-box;margin-bottom: 0.5em;}#sk-container-id-2 div.sk-estimator:hover {background-color: #d4ebff;}#sk-container-id-2 div.sk-parallel-item::after {content: \"\";width: 100%;border-bottom: 1px solid gray;flex-grow: 1;}#sk-container-id-2 div.sk-label:hover label.sk-toggleable__label {background-color: #d4ebff;}#sk-container-id-2 div.sk-serial::before {content: \"\";position: absolute;border-left: 1px solid gray;box-sizing: border-box;top: 0;bottom: 0;left: 50%;z-index: 0;}#sk-container-id-2 div.sk-serial {display: flex;flex-direction: column;align-items: center;background-color: white;padding-right: 0.2em;padding-left: 0.2em;position: relative;}#sk-container-id-2 div.sk-item {position: relative;z-index: 1;}#sk-container-id-2 div.sk-parallel {display: flex;align-items: stretch;justify-content: center;background-color: white;position: relative;}#sk-container-id-2 div.sk-item::before, #sk-container-id-2 div.sk-parallel-item::before {content: \"\";position: absolute;border-left: 1px solid gray;box-sizing: border-box;top: 0;bottom: 0;left: 50%;z-index: -1;}#sk-container-id-2 div.sk-parallel-item {display: flex;flex-direction: column;z-index: 1;position: relative;background-color: white;}#sk-container-id-2 div.sk-parallel-item:first-child::after {align-self: flex-end;width: 50%;}#sk-container-id-2 div.sk-parallel-item:last-child::after {align-self: flex-start;width: 50%;}#sk-container-id-2 div.sk-parallel-item:only-child::after {width: 0;}#sk-container-id-2 div.sk-dashed-wrapped {border: 1px dashed gray;margin: 0 0.4em 0.5em 0.4em;box-sizing: border-box;padding-bottom: 0.4em;background-color: white;}#sk-container-id-2 div.sk-label label {font-family: monospace;font-weight: bold;display: inline-block;line-height: 1.2em;}#sk-container-id-2 div.sk-label-container {text-align: center;}#sk-container-id-2 div.sk-container {/* jupyter's `normalize.less` sets `[hidden] { display: none; }` but bootstrap.min.css set `[hidden] { display: none !important; }` so we also need the `!important` here to be able to override the default hidden behavior on the sphinx rendered scikit-learn.org. See: https://github.com/scikit-learn/scikit-learn/issues/21755 */display: inline-block !important;position: relative;}#sk-container-id-2 div.sk-text-repr-fallback {display: none;}</style><div id=\"sk-container-id-2\" class=\"sk-top-container\"><div class=\"sk-text-repr-fallback\"><pre>LinearRegression()</pre><b>In a Jupyter environment, please rerun this cell to show the HTML representation or trust the notebook. <br />On GitHub, the HTML representation is unable to render, please try loading this page with nbviewer.org.</b></div><div class=\"sk-container\" hidden><div class=\"sk-item\"><div class=\"sk-estimator sk-toggleable\"><input class=\"sk-toggleable__control sk-hidden--visually\" id=\"sk-estimator-id-2\" type=\"checkbox\" checked><label for=\"sk-estimator-id-2\" class=\"sk-toggleable__label sk-toggleable__label-arrow\">LinearRegression</label><div class=\"sk-toggleable__content\"><pre>LinearRegression()</pre></div></div></div></div></div>"
            ]
          },
          "metadata": {},
          "execution_count": 61
        }
      ]
    },
    {
      "cell_type": "code",
      "source": [
        "y_pred_test = model.predict(X_test)"
      ],
      "metadata": {
        "id": "e1b1k2koMmKk"
      },
      "execution_count": null,
      "outputs": []
    },
    {
      "cell_type": "code",
      "source": [
        "y_pred_train = model.predict(X_train)"
      ],
      "metadata": {
        "id": "e8uMWJhyMs_W"
      },
      "execution_count": null,
      "outputs": []
    },
    {
      "cell_type": "code",
      "source": [
        "rmse_train = mean_squared_error(y_train, y_pred_train)\n",
        "rmse_train"
      ],
      "metadata": {
        "colab": {
          "base_uri": "https://localhost:8080/"
        },
        "id": "t4oSfBWkMt7h",
        "outputId": "ed168471-8554-47ff-f107-c2f69e30ccc4"
      },
      "execution_count": null,
      "outputs": [
        {
          "output_type": "execute_result",
          "data": {
            "text/plain": [
              "0.5353477913864823"
            ]
          },
          "metadata": {},
          "execution_count": 64
        }
      ]
    },
    {
      "cell_type": "code",
      "source": [
        "rmse_test = mean_squared_error(y_test, y_pred_test)\n",
        "rmse_test"
      ],
      "metadata": {
        "colab": {
          "base_uri": "https://localhost:8080/"
        },
        "id": "0rVbmPN1MxzN",
        "outputId": "334b77fc-266a-48a4-a242-035599036119"
      },
      "execution_count": null,
      "outputs": [
        {
          "output_type": "execute_result",
          "data": {
            "text/plain": [
              "0.5473264990498136"
            ]
          },
          "metadata": {},
          "execution_count": 65
        }
      ]
    },
    {
      "cell_type": "code",
      "source": [
        "r2_train = r2_score(y_train, y_pred_train)\n",
        "r2_train"
      ],
      "metadata": {
        "colab": {
          "base_uri": "https://localhost:8080/"
        },
        "id": "NzSPxEYBM6FE",
        "outputId": "58c0c44c-1091-453c-956c-aa6d0d28f6d8"
      },
      "execution_count": null,
      "outputs": [
        {
          "output_type": "execute_result",
          "data": {
            "text/plain": [
              "0.5995238502055928"
            ]
          },
          "metadata": {},
          "execution_count": 66
        }
      ]
    },
    {
      "cell_type": "code",
      "source": [
        "r2_test = r2_score(y_test, y_pred_test)\n",
        "r2_test"
      ],
      "metadata": {
        "colab": {
          "base_uri": "https://localhost:8080/"
        },
        "id": "8IigA_KZM-4q",
        "outputId": "378e7f16-6d2e-47c5-a401-206209c501c6"
      },
      "execution_count": null,
      "outputs": [
        {
          "output_type": "execute_result",
          "data": {
            "text/plain": [
              "0.5823239094526445"
            ]
          },
          "metadata": {},
          "execution_count": 67
        }
      ]
    },
    {
      "cell_type": "markdown",
      "source": [
        "The model's performance did not change much."
      ],
      "metadata": {
        "id": "AZzPTukNPxzk"
      }
    },
    {
      "cell_type": "markdown",
      "source": [
        "Let's examine the remaining features for outliers and remove any outliers if found. Then, we will split the dataset again, build the model, and calculate the metrics."
      ],
      "metadata": {
        "id": "vDytf2ZoNP_-"
      }
    },
    {
      "cell_type": "code",
      "source": [
        "data1 = data[['MedInc', 'HouseAge', 'AveRooms',  'Population', 'AveOccup', 'Latitude', 'Longitude', 'MedHouseVal']]"
      ],
      "metadata": {
        "id": "iQLUGxyhNRse"
      },
      "execution_count": null,
      "outputs": []
    },
    {
      "cell_type": "code",
      "source": [
        "plt.boxplot(data1[\"MedHouseVal\"])"
      ],
      "metadata": {
        "colab": {
          "base_uri": "https://localhost:8080/",
          "height": 569
        },
        "id": "-3TEh7P0Nx88",
        "outputId": "5ddff0fe-28a1-49b7-a5e4-c0228e23b763"
      },
      "execution_count": null,
      "outputs": [
        {
          "output_type": "execute_result",
          "data": {
            "text/plain": [
              "{'whiskers': [<matplotlib.lines.Line2D at 0x7f14e9f38940>,\n",
              "  <matplotlib.lines.Line2D at 0x7f14e9f38be0>],\n",
              " 'caps': [<matplotlib.lines.Line2D at 0x7f14e9f38e80>,\n",
              "  <matplotlib.lines.Line2D at 0x7f14e9f39120>],\n",
              " 'boxes': [<matplotlib.lines.Line2D at 0x7f14e9f386a0>],\n",
              " 'medians': [<matplotlib.lines.Line2D at 0x7f14e9f393c0>],\n",
              " 'fliers': [<matplotlib.lines.Line2D at 0x7f14e9f39660>],\n",
              " 'means': []}"
            ]
          },
          "metadata": {},
          "execution_count": 69
        },
        {
          "output_type": "display_data",
          "data": {
            "text/plain": [
              "<Figure size 640x480 with 1 Axes>"
            ],
            "image/png": "[encoded data removed]"
          },
          "metadata": {}
        }
      ]
    },
    {
      "cell_type": "code",
      "source": [
        "data1 = data1[data1.MedHouseVal < 4.7]"
      ],
      "metadata": {
        "id": "7UXIRhQPOGhe"
      },
      "execution_count": null,
      "outputs": []
    },
    {
      "cell_type": "code",
      "source": [
        "X2 = data1[['MedInc', 'HouseAge', 'AveRooms', 'Population', 'AveOccup', 'Latitude', 'Longitude']]"
      ],
      "metadata": {
        "id": "lvT0UO3BOSDM"
      },
      "execution_count": null,
      "outputs": []
    },
    {
      "cell_type": "code",
      "source": [
        "y2 = data1['MedHouseVal']"
      ],
      "metadata": {
        "id": "zrdVa8gIO1f_"
      },
      "execution_count": null,
      "outputs": []
    },
    {
      "cell_type": "code",
      "source": [
        "X_train, X_test, y_train, y_test = train_test_split(X2, y2, test_size=0.2, random_state=42)"
      ],
      "metadata": {
        "id": "b-O9G98-O-ex"
      },
      "execution_count": null,
      "outputs": []
    },
    {
      "cell_type": "code",
      "source": [
        "model = LinearRegression()"
      ],
      "metadata": {
        "id": "nK1op2qQPDKN"
      },
      "execution_count": null,
      "outputs": []
    },
    {
      "cell_type": "code",
      "source": [
        "model.fit(X_train, y_train)"
      ],
      "metadata": {
        "colab": {
          "base_uri": "https://localhost:8080/",
          "height": 74
        },
        "id": "IIKo9ysTPGW5",
        "outputId": "0a6dfc8a-a430-464b-dba1-19eff8e1c3e8"
      },
      "execution_count": null,
      "outputs": [
        {
          "output_type": "execute_result",
          "data": {
            "text/plain": [
              "LinearRegression()"
            ],
            "text/html": [
              "<style>#sk-container-id-3 {color: black;background-color: white;}#sk-container-id-3 pre{padding: 0;}#sk-container-id-3 div.sk-toggleable {background-color: white;}#sk-container-id-3 label.sk-toggleable__label {cursor: pointer;display: block;width: 100%;margin-bottom: 0;padding: 0.3em;box-sizing: border-box;text-align: center;}#sk-container-id-3 label.sk-toggleable__label-arrow:before {content: \"▸\";float: left;margin-right: 0.25em;color: #696969;}#sk-container-id-3 label.sk-toggleable__label-arrow:hover:before {color: black;}#sk-container-id-3 div.sk-estimator:hover label.sk-toggleable__label-arrow:before {color: black;}#sk-container-id-3 div.sk-toggleable__content {max-height: 0;max-width: 0;overflow: hidden;text-align: left;background-color: #f0f8ff;}#sk-container-id-3 div.sk-toggleable__content pre {margin: 0.2em;color: black;border-radius: 0.25em;background-color: #f0f8ff;}#sk-container-id-3 input.sk-toggleable__control:checked~div.sk-toggleable__content {max-height: 200px;max-width: 100%;overflow: auto;}#sk-container-id-3 input.sk-toggleable__control:checked~label.sk-toggleable__label-arrow:before {content: \"▾\";}#sk-container-id-3 div.sk-estimator input.sk-toggleable__control:checked~label.sk-toggleable__label {background-color: #d4ebff;}#sk-container-id-3 div.sk-label input.sk-toggleable__control:checked~label.sk-toggleable__label {background-color: #d4ebff;}#sk-container-id-3 input.sk-hidden--visually {border: 0;clip: rect(1px 1px 1px 1px);clip: rect(1px, 1px, 1px, 1px);height: 1px;margin: -1px;overflow: hidden;padding: 0;position: absolute;width: 1px;}#sk-container-id-3 div.sk-estimator {font-family: monospace;background-color: #f0f8ff;border: 1px dotted black;border-radius: 0.25em;box-sizing: border-box;margin-bottom: 0.5em;}#sk-container-id-3 div.sk-estimator:hover {background-color: #d4ebff;}#sk-container-id-3 div.sk-parallel-item::after {content: \"\";width: 100%;border-bottom: 1px solid gray;flex-grow: 1;}#sk-container-id-3 div.sk-label:hover label.sk-toggleable__label {background-color: #d4ebff;}#sk-container-id-3 div.sk-serial::before {content: \"\";position: absolute;border-left: 1px solid gray;box-sizing: border-box;top: 0;bottom: 0;left: 50%;z-index: 0;}#sk-container-id-3 div.sk-serial {display: flex;flex-direction: column;align-items: center;background-color: white;padding-right: 0.2em;padding-left: 0.2em;position: relative;}#sk-container-id-3 div.sk-item {position: relative;z-index: 1;}#sk-container-id-3 div.sk-parallel {display: flex;align-items: stretch;justify-content: center;background-color: white;position: relative;}#sk-container-id-3 div.sk-item::before, #sk-container-id-3 div.sk-parallel-item::before {content: \"\";position: absolute;border-left: 1px solid gray;box-sizing: border-box;top: 0;bottom: 0;left: 50%;z-index: -1;}#sk-container-id-3 div.sk-parallel-item {display: flex;flex-direction: column;z-index: 1;position: relative;background-color: white;}#sk-container-id-3 div.sk-parallel-item:first-child::after {align-self: flex-end;width: 50%;}#sk-container-id-3 div.sk-parallel-item:last-child::after {align-self: flex-start;width: 50%;}#sk-container-id-3 div.sk-parallel-item:only-child::after {width: 0;}#sk-container-id-3 div.sk-dashed-wrapped {border: 1px dashed gray;margin: 0 0.4em 0.5em 0.4em;box-sizing: border-box;padding-bottom: 0.4em;background-color: white;}#sk-container-id-3 div.sk-label label {font-family: monospace;font-weight: bold;display: inline-block;line-height: 1.2em;}#sk-container-id-3 div.sk-label-container {text-align: center;}#sk-container-id-3 div.sk-container {/* jupyter's `normalize.less` sets `[hidden] { display: none; }` but bootstrap.min.css set `[hidden] { display: none !important; }` so we also need the `!important` here to be able to override the default hidden behavior on the sphinx rendered scikit-learn.org. See: https://github.com/scikit-learn/scikit-learn/issues/21755 */display: inline-block !important;position: relative;}#sk-container-id-3 div.sk-text-repr-fallback {display: none;}</style><div id=\"sk-container-id-3\" class=\"sk-top-container\"><div class=\"sk-text-repr-fallback\"><pre>LinearRegression()</pre><b>In a Jupyter environment, please rerun this cell to show the HTML representation or trust the notebook. <br />On GitHub, the HTML representation is unable to render, please try loading this page with nbviewer.org.</b></div><div class=\"sk-container\" hidden><div class=\"sk-item\"><div class=\"sk-estimator sk-toggleable\"><input class=\"sk-toggleable__control sk-hidden--visually\" id=\"sk-estimator-id-3\" type=\"checkbox\" checked><label for=\"sk-estimator-id-3\" class=\"sk-toggleable__label sk-toggleable__label-arrow\">LinearRegression</label><div class=\"sk-toggleable__content\"><pre>LinearRegression()</pre></div></div></div></div></div>"
            ]
          },
          "metadata": {},
          "execution_count": 76
        }
      ]
    },
    {
      "cell_type": "code",
      "source": [
        "y_pred_test = model.predict(X_test)"
      ],
      "metadata": {
        "id": "GYCj00imPJ81"
      },
      "execution_count": null,
      "outputs": []
    },
    {
      "cell_type": "code",
      "source": [
        "y_pred_train = model.predict(X_train)"
      ],
      "metadata": {
        "id": "4uu3ImgFPMwp"
      },
      "execution_count": null,
      "outputs": []
    },
    {
      "cell_type": "code",
      "source": [
        "rmse_train = mean_squared_error(y_train, y_pred_train)\n",
        "rmse_train"
      ],
      "metadata": {
        "colab": {
          "base_uri": "https://localhost:8080/"
        },
        "id": "jOpzV7AoPQJb",
        "outputId": "31a9e629-5857-4c99-d485-36220280a644"
      },
      "execution_count": null,
      "outputs": [
        {
          "output_type": "execute_result",
          "data": {
            "text/plain": [
              "0.39110282806990876"
            ]
          },
          "metadata": {},
          "execution_count": 79
        }
      ]
    },
    {
      "cell_type": "code",
      "source": [
        "rmse_test = mean_squared_error(y_test, y_pred_test)\n",
        "rmse_test"
      ],
      "metadata": {
        "colab": {
          "base_uri": "https://localhost:8080/"
        },
        "id": "oTf2w9drPUj7",
        "outputId": "b1f964ef-8cb3-4bbe-ce9c-bec93ca0e2e1"
      },
      "execution_count": null,
      "outputs": [
        {
          "output_type": "execute_result",
          "data": {
            "text/plain": [
              "0.382346689244797"
            ]
          },
          "metadata": {},
          "execution_count": 80
        }
      ]
    },
    {
      "cell_type": "code",
      "source": [
        "r2_train = r2_score(y_train, y_pred_train)\n",
        "r2_train"
      ],
      "metadata": {
        "colab": {
          "base_uri": "https://localhost:8080/"
        },
        "id": "1uWJht5XPX8f",
        "outputId": "96257894-9848-4b66-b8eb-66d8b9362818"
      },
      "execution_count": null,
      "outputs": [
        {
          "output_type": "execute_result",
          "data": {
            "text/plain": [
              "0.5567144456393807"
            ]
          },
          "metadata": {},
          "execution_count": 81
        }
      ]
    },
    {
      "cell_type": "code",
      "source": [
        "r2_test = r2_score(y_test, y_pred_test)\n",
        "r2_test"
      ],
      "metadata": {
        "colab": {
          "base_uri": "https://localhost:8080/"
        },
        "id": "UD6jLHHYPbTz",
        "outputId": "84abe93a-339b-42cc-f086-2c5f9e45d5e3"
      },
      "execution_count": null,
      "outputs": [
        {
          "output_type": "execute_result",
          "data": {
            "text/plain": [
              "0.5782141336815032"
            ]
          },
          "metadata": {},
          "execution_count": 82
        }
      ]
    },
    {
      "cell_type": "markdown",
      "source": [
        "We see that the model's performance has worsened, which means that removing outliers was not advisable."
      ],
      "metadata": {
        "id": "lLcmvbqsPiSK"
      }
    },
    {
      "cell_type": "markdown",
      "source": [
        "Three classification models were trained: one using all unchanged features, one using features selected based on correlation values, and one using features selected based on correlation values with outliers removed. The RMSE and R² metrics for the models were computed. After removing one of the features, the model's performance changed little, while removing outliers led to a deterioration in performance."
      ],
      "metadata": {
        "id": "jtvaJfAhPqP8"
      }
    }
  ]
}