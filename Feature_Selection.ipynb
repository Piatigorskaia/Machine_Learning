{
  "nbformat": 4,
  "nbformat_minor": 0,
  "metadata": {
    "colab": {
      "provenance": []
    },
    "kernelspec": {
      "name": "python3",
      "display_name": "Python 3"
    },
    "language_info": {
      "name": "python"
    }
  },
  "cells": [
    {
      "cell_type": "markdown",
      "source": [
        "The goal of this project is to study feature selection methods for effective machine learning model training."
      ],
      "metadata": {
        "id": "MiFSE3R1Mz2B"
      }
    },
    {
      "cell_type": "markdown",
      "source": [
        "Let's generate data, build a logistic regression model, and evaluate the average accuracy."
      ],
      "metadata": {
        "id": "UtigPNPM7g8G"
      }
    },
    {
      "cell_type": "code",
      "source": [
        "import pandas as pd\n",
        "import numpy as np\n",
        "from matplotlib import pyplot as plt\n",
        "import seaborn as sns"
      ],
      "metadata": {
        "id": "hC3SpjLb-TIq"
      },
      "execution_count": null,
      "outputs": []
    },
    {
      "cell_type": "code",
      "source": [
        "from sklearn.datasets import make_classification"
      ],
      "metadata": {
        "id": "-WFyE1Zm7lDZ"
      },
      "execution_count": null,
      "outputs": []
    },
    {
      "cell_type": "code",
      "source": [
        "x_data_generated, y_data_generated = make_classification(scale=1)"
      ],
      "metadata": {
        "id": "rsz_KWg97uCj"
      },
      "execution_count": null,
      "outputs": []
    },
    {
      "cell_type": "code",
      "source": [
        "from sklearn.linear_model import LogisticRegression"
      ],
      "metadata": {
        "id": "lvrBU_U77zg5"
      },
      "execution_count": null,
      "outputs": []
    },
    {
      "cell_type": "code",
      "source": [
        "from sklearn.model_selection import cross_val_score"
      ],
      "metadata": {
        "id": "gFJ8mgNP8Nai"
      },
      "execution_count": null,
      "outputs": []
    },
    {
      "cell_type": "code",
      "source": [
        "cross_val_score(LogisticRegression(), x_data_generated, y_data_generated, scoring='accuracy').mean()"
      ],
      "metadata": {
        "colab": {
          "base_uri": "https://localhost:8080/"
        },
        "id": "i-lO-KSC7-IX",
        "outputId": "08cb0673-5a8e-4cd5-8e5b-eea92dfbff0c"
      },
      "execution_count": null,
      "outputs": [
        {
          "output_type": "execute_result",
          "data": {
            "text/plain": [
              "0.76"
            ]
          },
          "metadata": {},
          "execution_count": 21
        }
      ]
    },
    {
      "cell_type": "markdown",
      "source": [
        "I will use statistical methods for feature selection: select features based on the correlation matrix, remove low-variance features using VarianceThreshold, then build the logistic regression model again and evaluate the average accuracy."
      ],
      "metadata": {
        "id": "yHd6SSJz8UWO"
      }
    },
    {
      "cell_type": "code",
      "source": [
        "data = pd.DataFrame(x_data_generated,y_data_generated)"
      ],
      "metadata": {
        "id": "LMqPo0p78cmp"
      },
      "execution_count": null,
      "outputs": []
    },
    {
      "cell_type": "code",
      "source": [
        "data.shape"
      ],
      "metadata": {
        "colab": {
          "base_uri": "https://localhost:8080/"
        },
        "id": "kToZgBHECpo0",
        "outputId": "8fde0030-d489-44c2-83ee-78e06321d5a1"
      },
      "execution_count": null,
      "outputs": [
        {
          "output_type": "execute_result",
          "data": {
            "text/plain": [
              "(100, 20)"
            ]
          },
          "metadata": {},
          "execution_count": 28
        }
      ]
    },
    {
      "cell_type": "code",
      "source": [
        "corr = data.corr()"
      ],
      "metadata": {
        "id": "jw--77c79rbK"
      },
      "execution_count": null,
      "outputs": []
    },
    {
      "cell_type": "code",
      "source": [
        "corr.style.background_gradient(cmap='RdYlGn')"
      ],
      "metadata": {
        "colab": {
          "base_uri": "https://localhost:8080/",
          "height": 696
        },
        "id": "22uimctu-zzE",
        "outputId": "d4e07f37-5fac-406f-b558-f3e220e13978"
      },
      "execution_count": null,
      "outputs": [
        {
          "output_type": "execute_result",
          "data": {
            "text/plain": [
              "<pandas.io.formats.style.Styler at 0x7a4bdb82f5e0>"
            ],
            "text/html": [
              "<style type=\"text/css\">\n",
              "#T_8205b_row0_col0, #T_8205b_row1_col1, #T_8205b_row2_col2, #T_8205b_row3_col3, #T_8205b_row4_col4, #T_8205b_row5_col5, #T_8205b_row6_col6, #T_8205b_row7_col7, #T_8205b_row8_col8, #T_8205b_row9_col9, #T_8205b_row10_col10, #T_8205b_row11_col11, #T_8205b_row12_col12, #T_8205b_row13_col13, #T_8205b_row14_col14, #T_8205b_row15_col15, #T_8205b_row16_col16, #T_8205b_row17_col17, #T_8205b_row18_col18, #T_8205b_row19_col19 {\n",
              "  background-color: #006837;\n",
              "  color: #f1f1f1;\n",
              "}\n",
              "#T_8205b_row0_col1, #T_8205b_row1_col0, #T_8205b_row1_col13, #T_8205b_row6_col12, #T_8205b_row11_col14, #T_8205b_row12_col15, #T_8205b_row14_col11, #T_8205b_row19_col13 {\n",
              "  background-color: #f47044;\n",
              "  color: #f1f1f1;\n",
              "}\n",
              "#T_8205b_row0_col2, #T_8205b_row5_col9, #T_8205b_row9_col15, #T_8205b_row9_col19, #T_8205b_row10_col16, #T_8205b_row13_col5, #T_8205b_row15_col4, #T_8205b_row19_col3 {\n",
              "  background-color: #e65036;\n",
              "  color: #f1f1f1;\n",
              "}\n",
              "#T_8205b_row0_col3, #T_8205b_row2_col15, #T_8205b_row17_col11 {\n",
              "  background-color: #fa9857;\n",
              "  color: #000000;\n",
              "}\n",
              "#T_8205b_row0_col4 {\n",
              "  background-color: #fec877;\n",
              "  color: #000000;\n",
              "}\n",
              "#T_8205b_row0_col5, #T_8205b_row13_col18 {\n",
              "  background-color: #ad0826;\n",
              "  color: #f1f1f1;\n",
              "}\n",
              "#T_8205b_row0_col6, #T_8205b_row2_col10, #T_8205b_row11_col10, #T_8205b_row18_col6 {\n",
              "  background-color: #fee695;\n",
              "  color: #000000;\n",
              "}\n",
              "#T_8205b_row0_col7, #T_8205b_row13_col12 {\n",
              "  background-color: #de402e;\n",
              "  color: #f1f1f1;\n",
              "}\n",
              "#T_8205b_row0_col8, #T_8205b_row3_col7, #T_8205b_row6_col2, #T_8205b_row12_col5, #T_8205b_row13_col3, #T_8205b_row14_col3 {\n",
              "  background-color: #f26841;\n",
              "  color: #f1f1f1;\n",
              "}\n",
              "#T_8205b_row0_col9, #T_8205b_row1_col8, #T_8205b_row4_col13, #T_8205b_row13_col0, #T_8205b_row13_col14, #T_8205b_row14_col12, #T_8205b_row17_col12 {\n",
              "  background-color: #dd3d2d;\n",
              "  color: #f1f1f1;\n",
              "}\n",
              "#T_8205b_row0_col10, #T_8205b_row2_col6 {\n",
              "  background-color: #fff7b2;\n",
              "  color: #000000;\n",
              "}\n",
              "#T_8205b_row0_col11, #T_8205b_row8_col1, #T_8205b_row16_col2, #T_8205b_row16_col3, #T_8205b_row18_col1 {\n",
              "  background-color: #ed5f3c;\n",
              "  color: #f1f1f1;\n",
              "}\n",
              "#T_8205b_row0_col12, #T_8205b_row2_col3, #T_8205b_row8_col5, #T_8205b_row9_col14, #T_8205b_row10_col9 {\n",
              "  background-color: #ee613e;\n",
              "  color: #f1f1f1;\n",
              "}\n",
              "#T_8205b_row0_col13, #T_8205b_row3_col1, #T_8205b_row16_col8 {\n",
              "  background-color: #ca2427;\n",
              "  color: #f1f1f1;\n",
              "}\n",
              "#T_8205b_row0_col14, #T_8205b_row14_col7, #T_8205b_row15_col2 {\n",
              "  background-color: #f57547;\n",
              "  color: #f1f1f1;\n",
              "}\n",
              "#T_8205b_row0_col15, #T_8205b_row7_col12, #T_8205b_row10_col0, #T_8205b_row10_col5, #T_8205b_row15_col12, #T_8205b_row18_col9 {\n",
              "  background-color: #f67c4a;\n",
              "  color: #f1f1f1;\n",
              "}\n",
              "#T_8205b_row0_col16, #T_8205b_row5_col7, #T_8205b_row13_col16, #T_8205b_row16_col1 {\n",
              "  background-color: #c62027;\n",
              "  color: #f1f1f1;\n",
              "}\n",
              "#T_8205b_row0_col17, #T_8205b_row3_col5, #T_8205b_row4_col19, #T_8205b_row6_col4, #T_8205b_row6_col13, #T_8205b_row14_col1, #T_8205b_row17_col2, #T_8205b_row18_col4 {\n",
              "  background-color: #ea5739;\n",
              "  color: #f1f1f1;\n",
              "}\n",
              "#T_8205b_row0_col18, #T_8205b_row2_col8, #T_8205b_row2_col18, #T_8205b_row13_col17, #T_8205b_row19_col7 {\n",
              "  background-color: #e95538;\n",
              "  color: #f1f1f1;\n",
              "}\n",
              "#T_8205b_row0_col19, #T_8205b_row2_col0, #T_8205b_row11_col2, #T_8205b_row18_col2, #T_8205b_row18_col5 {\n",
              "  background-color: #f16640;\n",
              "  color: #f1f1f1;\n",
              "}\n",
              "#T_8205b_row1_col2, #T_8205b_row3_col8, #T_8205b_row19_col11 {\n",
              "  background-color: #a70226;\n",
              "  color: #f1f1f1;\n",
              "}\n",
              "#T_8205b_row1_col3, #T_8205b_row1_col14, #T_8205b_row15_col19, #T_8205b_row16_col9 {\n",
              "  background-color: #e34933;\n",
              "  color: #f1f1f1;\n",
              "}\n",
              "#T_8205b_row1_col4, #T_8205b_row3_col6, #T_8205b_row10_col7 {\n",
              "  background-color: #feca79;\n",
              "  color: #000000;\n",
              "}\n",
              "#T_8205b_row1_col5, #T_8205b_row4_col15, #T_8205b_row5_col8, #T_8205b_row10_col2, #T_8205b_row15_col18, #T_8205b_row16_col15, #T_8205b_row19_col8 {\n",
              "  background-color: #d93429;\n",
              "  color: #f1f1f1;\n",
              "}\n",
              "#T_8205b_row1_col6 {\n",
              "  background-color: #fff1a8;\n",
              "  color: #000000;\n",
              "}\n",
              "#T_8205b_row1_col7 {\n",
              "  background-color: #fdaf62;\n",
              "  color: #000000;\n",
              "}\n",
              "#T_8205b_row1_col9, #T_8205b_row7_col1, #T_8205b_row8_col12, #T_8205b_row13_col4, #T_8205b_row14_col0, #T_8205b_row18_col12 {\n",
              "  background-color: #f7844e;\n",
              "  color: #f1f1f1;\n",
              "}\n",
              "#T_8205b_row1_col10 {\n",
              "  background-color: #fee593;\n",
              "  color: #000000;\n",
              "}\n",
              "#T_8205b_row1_col11, #T_8205b_row4_col18 {\n",
              "  background-color: #b10b26;\n",
              "  color: #f1f1f1;\n",
              "}\n",
              "#T_8205b_row1_col12, #T_8205b_row3_col15, #T_8205b_row3_col19, #T_8205b_row7_col19, #T_8205b_row8_col11 {\n",
              "  background-color: #c01a27;\n",
              "  color: #f1f1f1;\n",
              "}\n",
              "#T_8205b_row1_col15, #T_8205b_row1_col19, #T_8205b_row5_col12, #T_8205b_row8_col14, #T_8205b_row15_col17 {\n",
              "  background-color: #f67f4b;\n",
              "  color: #f1f1f1;\n",
              "}\n",
              "#T_8205b_row1_col16, #T_8205b_row2_col9, #T_8205b_row2_col13, #T_8205b_row3_col17, #T_8205b_row4_col7, #T_8205b_row4_col12, #T_8205b_row5_col0, #T_8205b_row6_col10, #T_8205b_row6_col16, #T_8205b_row7_col4, #T_8205b_row7_col5, #T_8205b_row9_col2, #T_8205b_row10_col6, #T_8205b_row10_col15, #T_8205b_row11_col19, #T_8205b_row12_col1, #T_8205b_row12_col11, #T_8205b_row14_col2, #T_8205b_row17_col3, #T_8205b_row17_col8, #T_8205b_row17_col14, #T_8205b_row17_col16, #T_8205b_row17_col18 {\n",
              "  background-color: #a50026;\n",
              "  color: #f1f1f1;\n",
              "}\n",
              "#T_8205b_row1_col17, #T_8205b_row4_col0, #T_8205b_row9_col7 {\n",
              "  background-color: #fcaa5f;\n",
              "  color: #000000;\n",
              "}\n",
              "#T_8205b_row1_col18, #T_8205b_row9_col8, #T_8205b_row9_col12, #T_8205b_row10_col11, #T_8205b_row10_col19 {\n",
              "  background-color: #dc3b2c;\n",
              "  color: #f1f1f1;\n",
              "}\n",
              "#T_8205b_row2_col1, #T_8205b_row3_col12, #T_8205b_row12_col14 {\n",
              "  background-color: #bb1526;\n",
              "  color: #f1f1f1;\n",
              "}\n",
              "#T_8205b_row2_col4, #T_8205b_row9_col4 {\n",
              "  background-color: #fdb567;\n",
              "  color: #000000;\n",
              "}\n",
              "#T_8205b_row2_col5, #T_8205b_row6_col5, #T_8205b_row11_col15 {\n",
              "  background-color: #da362a;\n",
              "  color: #f1f1f1;\n",
              "}\n",
              "#T_8205b_row2_col7, #T_8205b_row8_col3, #T_8205b_row8_col18, #T_8205b_row11_col7, #T_8205b_row12_col17, #T_8205b_row18_col17 {\n",
              "  background-color: #e14430;\n",
              "  color: #f1f1f1;\n",
              "}\n",
              "#T_8205b_row2_col11, #T_8205b_row6_col1, #T_8205b_row15_col0, #T_8205b_row17_col15, #T_8205b_row18_col15, #T_8205b_row19_col2 {\n",
              "  background-color: #f36b42;\n",
              "  color: #f1f1f1;\n",
              "}\n",
              "#T_8205b_row2_col12, #T_8205b_row6_col19, #T_8205b_row8_col19, #T_8205b_row10_col1, #T_8205b_row12_col16, #T_8205b_row16_col17, #T_8205b_row18_col8, #T_8205b_row19_col12 {\n",
              "  background-color: #e24731;\n",
              "  color: #f1f1f1;\n",
              "}\n",
              "#T_8205b_row2_col14, #T_8205b_row13_col2 {\n",
              "  background-color: #ab0626;\n",
              "  color: #f1f1f1;\n",
              "}\n",
              "#T_8205b_row2_col16, #T_8205b_row6_col8, #T_8205b_row7_col8, #T_8205b_row15_col7, #T_8205b_row19_col9 {\n",
              "  background-color: #e54e35;\n",
              "  color: #f1f1f1;\n",
              "}\n",
              "#T_8205b_row2_col17, #T_8205b_row5_col4, #T_8205b_row16_col7, #T_8205b_row19_col1 {\n",
              "  background-color: #f99153;\n",
              "  color: #000000;\n",
              "}\n",
              "#T_8205b_row2_col19, #T_8205b_row4_col5, #T_8205b_row4_col14, #T_8205b_row7_col9, #T_8205b_row7_col17, #T_8205b_row9_col5, #T_8205b_row9_col18, #T_8205b_row11_col0, #T_8205b_row14_col8, #T_8205b_row15_col1, #T_8205b_row16_col19, #T_8205b_row19_col15 {\n",
              "  background-color: #f46d43;\n",
              "  color: #f1f1f1;\n",
              "}\n",
              "#T_8205b_row3_col0, #T_8205b_row5_col3, #T_8205b_row17_col7, #T_8205b_row17_col9 {\n",
              "  background-color: #f57245;\n",
              "  color: #f1f1f1;\n",
              "}\n",
              "#T_8205b_row3_col2, #T_8205b_row6_col11, #T_8205b_row11_col12 {\n",
              "  background-color: #ce2827;\n",
              "  color: #f1f1f1;\n",
              "}\n",
              "#T_8205b_row3_col4 {\n",
              "  background-color: #fdc171;\n",
              "  color: #000000;\n",
              "}\n",
              "#T_8205b_row3_col9, #T_8205b_row4_col1, #T_8205b_row15_col10 {\n",
              "  background-color: #fdad60;\n",
              "  color: #000000;\n",
              "}\n",
              "#T_8205b_row3_col10 {\n",
              "  background-color: #feefa3;\n",
              "  color: #000000;\n",
              "}\n",
              "#T_8205b_row3_col11, #T_8205b_row11_col1, #T_8205b_row12_col19, #T_8205b_row15_col11, #T_8205b_row17_col13 {\n",
              "  background-color: #be1827;\n",
              "  color: #f1f1f1;\n",
              "}\n",
              "#T_8205b_row3_col13, #T_8205b_row4_col16, #T_8205b_row5_col17, #T_8205b_row9_col11, #T_8205b_row13_col8, #T_8205b_row13_col9, #T_8205b_row15_col9, #T_8205b_row16_col13 {\n",
              "  background-color: #d02927;\n",
              "  color: #f1f1f1;\n",
              "}\n",
              "#T_8205b_row3_col14, #T_8205b_row7_col15, #T_8205b_row8_col13, #T_8205b_row10_col14, #T_8205b_row14_col13, #T_8205b_row17_col0 {\n",
              "  background-color: #d83128;\n",
              "  color: #f1f1f1;\n",
              "}\n",
              "#T_8205b_row3_col16, #T_8205b_row4_col8, #T_8205b_row7_col0, #T_8205b_row12_col2, #T_8205b_row19_col14 {\n",
              "  background-color: #bd1726;\n",
              "  color: #f1f1f1;\n",
              "}\n",
              "#T_8205b_row3_col18, #T_8205b_row4_col2, #T_8205b_row4_col9, #T_8205b_row10_col12, #T_8205b_row16_col4, #T_8205b_row16_col14, #T_8205b_row18_col0 {\n",
              "  background-color: #f67a49;\n",
              "  color: #f1f1f1;\n",
              "}\n",
              "#T_8205b_row4_col3, #T_8205b_row18_col7 {\n",
              "  background-color: #fdbd6d;\n",
              "  color: #000000;\n",
              "}\n",
              "#T_8205b_row4_col6 {\n",
              "  background-color: #fed884;\n",
              "  color: #000000;\n",
              "}\n",
              "#T_8205b_row4_col10, #T_8205b_row12_col10 {\n",
              "  background-color: #feeda1;\n",
              "  color: #000000;\n",
              "}\n",
              "#T_8205b_row4_col11, #T_8205b_row7_col13, #T_8205b_row14_col9, #T_8205b_row18_col19, #T_8205b_row19_col16 {\n",
              "  background-color: #ec5c3b;\n",
              "  color: #f1f1f1;\n",
              "}\n",
              "#T_8205b_row4_col17, #T_8205b_row9_col0 {\n",
              "  background-color: #e75337;\n",
              "  color: #f1f1f1;\n",
              "}\n",
              "#T_8205b_row5_col1, #T_8205b_row5_col13, #T_8205b_row15_col3 {\n",
              "  background-color: #d22b27;\n",
              "  color: #f1f1f1;\n",
              "}\n",
              "#T_8205b_row5_col2, #T_8205b_row12_col3, #T_8205b_row16_col18, #T_8205b_row18_col16 {\n",
              "  background-color: #c21c27;\n",
              "  color: #f1f1f1;\n",
              "}\n",
              "#T_8205b_row5_col6, #T_8205b_row9_col6 {\n",
              "  background-color: #feda86;\n",
              "  color: #000000;\n",
              "}\n",
              "#T_8205b_row5_col10, #T_8205b_row9_col10, #T_8205b_row16_col10 {\n",
              "  background-color: #fff5ae;\n",
              "  color: #000000;\n",
              "}\n",
              "#T_8205b_row5_col11, #T_8205b_row7_col11, #T_8205b_row12_col4, #T_8205b_row12_col9 {\n",
              "  background-color: #b30d26;\n",
              "  color: #f1f1f1;\n",
              "}\n",
              "#T_8205b_row5_col14 {\n",
              "  background-color: #fca55d;\n",
              "  color: #000000;\n",
              "}\n",
              "#T_8205b_row5_col15, #T_8205b_row5_col16, #T_8205b_row6_col0, #T_8205b_row8_col9, #T_8205b_row11_col3, #T_8205b_row15_col13, #T_8205b_row19_col5, #T_8205b_row19_col18 {\n",
              "  background-color: #e44c34;\n",
              "  color: #f1f1f1;\n",
              "}\n",
              "#T_8205b_row5_col18, #T_8205b_row6_col3, #T_8205b_row7_col14, #T_8205b_row9_col16 {\n",
              "  background-color: #db382b;\n",
              "  color: #f1f1f1;\n",
              "}\n",
              "#T_8205b_row5_col19, #T_8205b_row10_col17, #T_8205b_row13_col11 {\n",
              "  background-color: #d62f27;\n",
              "  color: #f1f1f1;\n",
              "}\n",
              "#T_8205b_row6_col7, #T_8205b_row14_col17 {\n",
              "  background-color: #d42d27;\n",
              "  color: #f1f1f1;\n",
              "}\n",
              "#T_8205b_row6_col9, #T_8205b_row10_col13, #T_8205b_row16_col11 {\n",
              "  background-color: #c41e27;\n",
              "  color: #f1f1f1;\n",
              "}\n",
              "#T_8205b_row6_col14, #T_8205b_row10_col4, #T_8205b_row13_col1 {\n",
              "  background-color: #f88c51;\n",
              "  color: #f1f1f1;\n",
              "}\n",
              "#T_8205b_row6_col15 {\n",
              "  background-color: #3faa59;\n",
              "  color: #f1f1f1;\n",
              "}\n",
              "#T_8205b_row6_col17, #T_8205b_row9_col17, #T_8205b_row14_col4 {\n",
              "  background-color: #fca85e;\n",
              "  color: #000000;\n",
              "}\n",
              "#T_8205b_row6_col18, #T_8205b_row11_col9, #T_8205b_row11_col13, #T_8205b_row18_col11, #T_8205b_row18_col14 {\n",
              "  background-color: #cc2627;\n",
              "  color: #f1f1f1;\n",
              "}\n",
              "#T_8205b_row7_col2, #T_8205b_row11_col8, #T_8205b_row11_col16, #T_8205b_row12_col13 {\n",
              "  background-color: #af0926;\n",
              "  color: #f1f1f1;\n",
              "}\n",
              "#T_8205b_row7_col3, #T_8205b_row8_col2, #T_8205b_row8_col4, #T_8205b_row14_col16 {\n",
              "  background-color: #ef633f;\n",
              "  color: #f1f1f1;\n",
              "}\n",
              "#T_8205b_row7_col6 {\n",
              "  background-color: #fdbf6f;\n",
              "  color: #000000;\n",
              "}\n",
              "#T_8205b_row7_col10 {\n",
              "  background-color: #f5fbb2;\n",
              "  color: #000000;\n",
              "}\n",
              "#T_8205b_row7_col16, #T_8205b_row8_col17, #T_8205b_row10_col18, #T_8205b_row12_col0, #T_8205b_row12_col8, #T_8205b_row12_col18, #T_8205b_row15_col5, #T_8205b_row16_col0, #T_8205b_row19_col17 {\n",
              "  background-color: #e0422f;\n",
              "  color: #f1f1f1;\n",
              "}\n",
              "#T_8205b_row7_col18, #T_8205b_row13_col15, #T_8205b_row13_col19, #T_8205b_row16_col5, #T_8205b_row19_col0 {\n",
              "  background-color: #f57748;\n",
              "  color: #f1f1f1;\n",
              "}\n",
              "#T_8205b_row8_col0, #T_8205b_row12_col7, #T_8205b_row16_col12 {\n",
              "  background-color: #f88950;\n",
              "  color: #f1f1f1;\n",
              "}\n",
              "#T_8205b_row8_col6, #T_8205b_row13_col6 {\n",
              "  background-color: #fff3ac;\n",
              "  color: #000000;\n",
              "}\n",
              "#T_8205b_row8_col7 {\n",
              "  background-color: #fa9b58;\n",
              "  color: #000000;\n",
              "}\n",
              "#T_8205b_row8_col10 {\n",
              "  background-color: #73c264;\n",
              "  color: #000000;\n",
              "}\n",
              "#T_8205b_row8_col15 {\n",
              "  background-color: #a7d96b;\n",
              "  color: #000000;\n",
              "}\n",
              "#T_8205b_row8_col16, #T_8205b_row9_col13, #T_8205b_row11_col5 {\n",
              "  background-color: #c82227;\n",
              "  color: #f1f1f1;\n",
              "}\n",
              "#T_8205b_row9_col1, #T_8205b_row11_col4, #T_8205b_row19_col4 {\n",
              "  background-color: #fa9656;\n",
              "  color: #000000;\n",
              "}\n",
              "#T_8205b_row9_col3 {\n",
              "  background-color: #fed27f;\n",
              "  color: #000000;\n",
              "}\n",
              "#T_8205b_row10_col3, #T_8205b_row17_col1 {\n",
              "  background-color: #f8864f;\n",
              "  color: #f1f1f1;\n",
              "}\n",
              "#T_8205b_row10_col8 {\n",
              "  background-color: #bde379;\n",
              "  color: #000000;\n",
              "}\n",
              "#T_8205b_row11_col6, #T_8205b_row13_col10 {\n",
              "  background-color: #fede89;\n",
              "  color: #000000;\n",
              "}\n",
              "#T_8205b_row11_col17, #T_8205b_row17_col10 {\n",
              "  background-color: #fdc372;\n",
              "  color: #000000;\n",
              "}\n",
              "#T_8205b_row11_col18, #T_8205b_row14_col18, #T_8205b_row14_col19 {\n",
              "  background-color: #b91326;\n",
              "  color: #f1f1f1;\n",
              "}\n",
              "#T_8205b_row12_col6 {\n",
              "  background-color: #feea9b;\n",
              "  color: #000000;\n",
              "}\n",
              "#T_8205b_row13_col7 {\n",
              "  background-color: #fba35c;\n",
              "  color: #000000;\n",
              "}\n",
              "#T_8205b_row14_col5 {\n",
              "  background-color: #fdb768;\n",
              "  color: #000000;\n",
              "}\n",
              "#T_8205b_row14_col6 {\n",
              "  background-color: #fdfebc;\n",
              "  color: #000000;\n",
              "}\n",
              "#T_8205b_row14_col10 {\n",
              "  background-color: #fee491;\n",
              "  color: #000000;\n",
              "}\n",
              "#T_8205b_row14_col15 {\n",
              "  background-color: #fdb96a;\n",
              "  color: #000000;\n",
              "}\n",
              "#T_8205b_row15_col6 {\n",
              "  background-color: #1e9a51;\n",
              "  color: #f1f1f1;\n",
              "}\n",
              "#T_8205b_row15_col8 {\n",
              "  background-color: #b7e075;\n",
              "  color: #000000;\n",
              "}\n",
              "#T_8205b_row15_col14 {\n",
              "  background-color: #fba05b;\n",
              "  color: #000000;\n",
              "}\n",
              "#T_8205b_row15_col16 {\n",
              "  background-color: #a90426;\n",
              "  color: #f1f1f1;\n",
              "}\n",
              "#T_8205b_row16_col6 {\n",
              "  background-color: #fed07e;\n",
              "  color: #000000;\n",
              "}\n",
              "#T_8205b_row17_col4 {\n",
              "  background-color: #eb5a3a;\n",
              "  color: #f1f1f1;\n",
              "}\n",
              "#T_8205b_row17_col5, #T_8205b_row17_col19, #T_8205b_row18_col13 {\n",
              "  background-color: #b50f26;\n",
              "  color: #f1f1f1;\n",
              "}\n",
              "#T_8205b_row17_col6 {\n",
              "  background-color: #fffbb8;\n",
              "  color: #000000;\n",
              "}\n",
              "#T_8205b_row18_col3 {\n",
              "  background-color: #fdbb6c;\n",
              "  color: #000000;\n",
              "}\n",
              "#T_8205b_row18_col10 {\n",
              "  background-color: #fff0a6;\n",
              "  color: #000000;\n",
              "}\n",
              "#T_8205b_row19_col6 {\n",
              "  background-color: #feec9f;\n",
              "  color: #000000;\n",
              "}\n",
              "#T_8205b_row19_col10 {\n",
              "  background-color: #fee797;\n",
              "  color: #000000;\n",
              "}\n",
              "</style>\n",
              "<table id=\"T_8205b\" class=\"dataframe\">\n",
              "  <thead>\n",
              "    <tr>\n",
              "      <th class=\"blank level0\" >&nbsp;</th>\n",
              "      <th id=\"T_8205b_level0_col0\" class=\"col_heading level0 col0\" >0</th>\n",
              "      <th id=\"T_8205b_level0_col1\" class=\"col_heading level0 col1\" >1</th>\n",
              "      <th id=\"T_8205b_level0_col2\" class=\"col_heading level0 col2\" >2</th>\n",
              "      <th id=\"T_8205b_level0_col3\" class=\"col_heading level0 col3\" >3</th>\n",
              "      <th id=\"T_8205b_level0_col4\" class=\"col_heading level0 col4\" >4</th>\n",
              "      <th id=\"T_8205b_level0_col5\" class=\"col_heading level0 col5\" >5</th>\n",
              "      <th id=\"T_8205b_level0_col6\" class=\"col_heading level0 col6\" >6</th>\n",
              "      <th id=\"T_8205b_level0_col7\" class=\"col_heading level0 col7\" >7</th>\n",
              "      <th id=\"T_8205b_level0_col8\" class=\"col_heading level0 col8\" >8</th>\n",
              "      <th id=\"T_8205b_level0_col9\" class=\"col_heading level0 col9\" >9</th>\n",
              "      <th id=\"T_8205b_level0_col10\" class=\"col_heading level0 col10\" >10</th>\n",
              "      <th id=\"T_8205b_level0_col11\" class=\"col_heading level0 col11\" >11</th>\n",
              "      <th id=\"T_8205b_level0_col12\" class=\"col_heading level0 col12\" >12</th>\n",
              "      <th id=\"T_8205b_level0_col13\" class=\"col_heading level0 col13\" >13</th>\n",
              "      <th id=\"T_8205b_level0_col14\" class=\"col_heading level0 col14\" >14</th>\n",
              "      <th id=\"T_8205b_level0_col15\" class=\"col_heading level0 col15\" >15</th>\n",
              "      <th id=\"T_8205b_level0_col16\" class=\"col_heading level0 col16\" >16</th>\n",
              "      <th id=\"T_8205b_level0_col17\" class=\"col_heading level0 col17\" >17</th>\n",
              "      <th id=\"T_8205b_level0_col18\" class=\"col_heading level0 col18\" >18</th>\n",
              "      <th id=\"T_8205b_level0_col19\" class=\"col_heading level0 col19\" >19</th>\n",
              "    </tr>\n",
              "  </thead>\n",
              "  <tbody>\n",
              "    <tr>\n",
              "      <th id=\"T_8205b_level0_row0\" class=\"row_heading level0 row0\" >0</th>\n",
              "      <td id=\"T_8205b_row0_col0\" class=\"data row0 col0\" >1.000000</td>\n",
              "      <td id=\"T_8205b_row0_col1\" class=\"data row0 col1\" >0.060049</td>\n",
              "      <td id=\"T_8205b_row0_col2\" class=\"data row0 col2\" >0.038222</td>\n",
              "      <td id=\"T_8205b_row0_col3\" class=\"data row0 col3\" >0.065344</td>\n",
              "      <td id=\"T_8205b_row0_col4\" class=\"data row0 col4\" >0.162921</td>\n",
              "      <td id=\"T_8205b_row0_col5\" class=\"data row0 col5\" >-0.184014</td>\n",
              "      <td id=\"T_8205b_row0_col6\" class=\"data row0 col6\" >-0.012553</td>\n",
              "      <td id=\"T_8205b_row0_col7\" class=\"data row0 col7\" >-0.127270</td>\n",
              "      <td id=\"T_8205b_row0_col8\" class=\"data row0 col8\" >0.105779</td>\n",
              "      <td id=\"T_8205b_row0_col9\" class=\"data row0 col9\" >0.002115</td>\n",
              "      <td id=\"T_8205b_row0_col10\" class=\"data row0 col10\" >0.080021</td>\n",
              "      <td id=\"T_8205b_row0_col11\" class=\"data row0 col11\" >0.052013</td>\n",
              "      <td id=\"T_8205b_row0_col12\" class=\"data row0 col12\" >-0.026934</td>\n",
              "      <td id=\"T_8205b_row0_col13\" class=\"data row0 col13\" >-0.038838</td>\n",
              "      <td id=\"T_8205b_row0_col14\" class=\"data row0 col14\" >0.096511</td>\n",
              "      <td id=\"T_8205b_row0_col15\" class=\"data row0 col15\" >0.051789</td>\n",
              "      <td id=\"T_8205b_row0_col16\" class=\"data row0 col16\" >-0.027978</td>\n",
              "      <td id=\"T_8205b_row0_col17\" class=\"data row0 col17\" >-0.060304</td>\n",
              "      <td id=\"T_8205b_row0_col18\" class=\"data row0 col18\" >0.075137</td>\n",
              "      <td id=\"T_8205b_row0_col19\" class=\"data row0 col19\" >0.073765</td>\n",
              "    </tr>\n",
              "    <tr>\n",
              "      <th id=\"T_8205b_level0_row1\" class=\"row_heading level0 row1\" >1</th>\n",
              "      <td id=\"T_8205b_row1_col0\" class=\"data row1 col0\" >0.060049</td>\n",
              "      <td id=\"T_8205b_row1_col1\" class=\"data row1 col1\" >1.000000</td>\n",
              "      <td id=\"T_8205b_row1_col2\" class=\"data row1 col2\" >-0.132698</td>\n",
              "      <td id=\"T_8205b_row1_col3\" class=\"data row1 col3\" >-0.093770</td>\n",
              "      <td id=\"T_8205b_row1_col4\" class=\"data row1 col4\" >0.168758</td>\n",
              "      <td id=\"T_8205b_row1_col5\" class=\"data row1 col5\" >-0.076571</td>\n",
              "      <td id=\"T_8205b_row1_col6\" class=\"data row1 col6\" >0.049050</td>\n",
              "      <td id=\"T_8205b_row1_col7\" class=\"data row1 col7\" >0.097316</td>\n",
              "      <td id=\"T_8205b_row1_col8\" class=\"data row1 col8\" >0.027742</td>\n",
              "      <td id=\"T_8205b_row1_col9\" class=\"data row1 col9\" >0.127665</td>\n",
              "      <td id=\"T_8205b_row1_col10\" class=\"data row1 col10\" >-0.020312</td>\n",
              "      <td id=\"T_8205b_row1_col11\" class=\"data row1 col11\" >-0.123894</td>\n",
              "      <td id=\"T_8205b_row1_col12\" class=\"data row1 col12\" >-0.184228</td>\n",
              "      <td id=\"T_8205b_row1_col13\" class=\"data row1 col13\" >0.107929</td>\n",
              "      <td id=\"T_8205b_row1_col14\" class=\"data row1 col14\" >0.014269</td>\n",
              "      <td id=\"T_8205b_row1_col15\" class=\"data row1 col15\" >0.054378</td>\n",
              "      <td id=\"T_8205b_row1_col16\" class=\"data row1 col16\" >-0.103446</td>\n",
              "      <td id=\"T_8205b_row1_col17\" class=\"data row1 col17\" >0.099394</td>\n",
              "      <td id=\"T_8205b_row1_col18\" class=\"data row1 col18\" >0.025584</td>\n",
              "      <td id=\"T_8205b_row1_col19\" class=\"data row1 col19\" >0.118083</td>\n",
              "    </tr>\n",
              "    <tr>\n",
              "      <th id=\"T_8205b_level0_row2\" class=\"row_heading level0 row2\" >2</th>\n",
              "      <td id=\"T_8205b_row2_col0\" class=\"data row2 col0\" >0.038222</td>\n",
              "      <td id=\"T_8205b_row2_col1\" class=\"data row2 col1\" >-0.132698</td>\n",
              "      <td id=\"T_8205b_row2_col2\" class=\"data row2 col2\" >1.000000</td>\n",
              "      <td id=\"T_8205b_row2_col3\" class=\"data row2 col3\" >-0.045122</td>\n",
              "      <td id=\"T_8205b_row2_col4\" class=\"data row2 col4\" >0.112697</td>\n",
              "      <td id=\"T_8205b_row2_col5\" class=\"data row2 col5\" >-0.071741</td>\n",
              "      <td id=\"T_8205b_row2_col6\" class=\"data row2 col6\" >0.078896</td>\n",
              "      <td id=\"T_8205b_row2_col7\" class=\"data row2 col7\" >-0.115383</td>\n",
              "      <td id=\"T_8205b_row2_col8\" class=\"data row2 col8\" >0.070748</td>\n",
              "      <td id=\"T_8205b_row2_col9\" class=\"data row2 col9\" >-0.139404</td>\n",
              "      <td id=\"T_8205b_row2_col10\" class=\"data row2 col10\" >-0.015354</td>\n",
              "      <td id=\"T_8205b_row2_col11\" class=\"data row2 col11\" >0.077814</td>\n",
              "      <td id=\"T_8205b_row2_col12\" class=\"data row2 col12\" >-0.082135</td>\n",
              "      <td id=\"T_8205b_row2_col13\" class=\"data row2 col13\" >-0.124304</td>\n",
              "      <td id=\"T_8205b_row2_col14\" class=\"data row2 col14\" >-0.135378</td>\n",
              "      <td id=\"T_8205b_row2_col15\" class=\"data row2 col15\" >0.102673</td>\n",
              "      <td id=\"T_8205b_row2_col16\" class=\"data row2 col16\" >0.063235</td>\n",
              "      <td id=\"T_8205b_row2_col17\" class=\"data row2 col17\" >0.051747</td>\n",
              "      <td id=\"T_8205b_row2_col18\" class=\"data row2 col18\" >0.076876</td>\n",
              "      <td id=\"T_8205b_row2_col19\" class=\"data row2 col19\" >0.085550</td>\n",
              "    </tr>\n",
              "    <tr>\n",
              "      <th id=\"T_8205b_level0_row3\" class=\"row_heading level0 row3\" >3</th>\n",
              "      <td id=\"T_8205b_row3_col0\" class=\"data row3 col0\" >0.065344</td>\n",
              "      <td id=\"T_8205b_row3_col1\" class=\"data row3 col1\" >-0.093770</td>\n",
              "      <td id=\"T_8205b_row3_col2\" class=\"data row3 col2\" >-0.045122</td>\n",
              "      <td id=\"T_8205b_row3_col3\" class=\"data row3 col3\" >1.000000</td>\n",
              "      <td id=\"T_8205b_row3_col4\" class=\"data row3 col4\" >0.147090</td>\n",
              "      <td id=\"T_8205b_row3_col5\" class=\"data row3 col5\" >-0.006924</td>\n",
              "      <td id=\"T_8205b_row3_col6\" class=\"data row3 col6\" >-0.127268</td>\n",
              "      <td id=\"T_8205b_row3_col7\" class=\"data row3 col7\" >-0.039623</td>\n",
              "      <td id=\"T_8205b_row3_col8\" class=\"data row3 col8\" >-0.100963</td>\n",
              "      <td id=\"T_8205b_row3_col9\" class=\"data row3 col9\" >0.200769</td>\n",
              "      <td id=\"T_8205b_row3_col10\" class=\"data row3 col10\" >0.033491</td>\n",
              "      <td id=\"T_8205b_row3_col11\" class=\"data row3 col11\" >-0.090065</td>\n",
              "      <td id=\"T_8205b_row3_col12\" class=\"data row3 col12\" >-0.198557</td>\n",
              "      <td id=\"T_8205b_row3_col13\" class=\"data row3 col13\" >-0.025956</td>\n",
              "      <td id=\"T_8205b_row3_col14\" class=\"data row3 col14\" >-0.029308</td>\n",
              "      <td id=\"T_8205b_row3_col15\" class=\"data row3 col15\" >-0.157963</td>\n",
              "      <td id=\"T_8205b_row3_col16\" class=\"data row3 col16\" >-0.048419</td>\n",
              "      <td id=\"T_8205b_row3_col17\" class=\"data row3 col17\" >-0.274255</td>\n",
              "      <td id=\"T_8205b_row3_col18\" class=\"data row3 col18\" >0.140142</td>\n",
              "      <td id=\"T_8205b_row3_col19\" class=\"data row3 col19\" >-0.076963</td>\n",
              "    </tr>\n",
              "    <tr>\n",
              "      <th id=\"T_8205b_level0_row4\" class=\"row_heading level0 row4\" >4</th>\n",
              "      <td id=\"T_8205b_row4_col0\" class=\"data row4 col0\" >0.162921</td>\n",
              "      <td id=\"T_8205b_row4_col1\" class=\"data row4 col1\" >0.168758</td>\n",
              "      <td id=\"T_8205b_row4_col2\" class=\"data row4 col2\" >0.112697</td>\n",
              "      <td id=\"T_8205b_row4_col3\" class=\"data row4 col3\" >0.147090</td>\n",
              "      <td id=\"T_8205b_row4_col4\" class=\"data row4 col4\" >1.000000</td>\n",
              "      <td id=\"T_8205b_row4_col5\" class=\"data row4 col5\" >0.037544</td>\n",
              "      <td id=\"T_8205b_row4_col6\" class=\"data row4 col6\" >-0.079786</td>\n",
              "      <td id=\"T_8205b_row4_col7\" class=\"data row4 col7\" >-0.291851</td>\n",
              "      <td id=\"T_8205b_row4_col8\" class=\"data row4 col8\" >-0.051106</td>\n",
              "      <td id=\"T_8205b_row4_col9\" class=\"data row4 col9\" >0.112206</td>\n",
              "      <td id=\"T_8205b_row4_col10\" class=\"data row4 col10\" >0.029076</td>\n",
              "      <td id=\"T_8205b_row4_col11\" class=\"data row4 col11\" >0.049959</td>\n",
              "      <td id=\"T_8205b_row4_col12\" class=\"data row4 col12\" >-0.256341</td>\n",
              "      <td id=\"T_8205b_row4_col13\" class=\"data row4 col13\" >0.011919</td>\n",
              "      <td id=\"T_8205b_row4_col14\" class=\"data row4 col14\" >0.082976</td>\n",
              "      <td id=\"T_8205b_row4_col15\" class=\"data row4 col15\" >-0.091933</td>\n",
              "      <td id=\"T_8205b_row4_col16\" class=\"data row4 col16\" >-0.005678</td>\n",
              "      <td id=\"T_8205b_row4_col17\" class=\"data row4 col17\" >-0.073995</td>\n",
              "      <td id=\"T_8205b_row4_col18\" class=\"data row4 col18\" >-0.077312</td>\n",
              "      <td id=\"T_8205b_row4_col19\" class=\"data row4 col19\" >0.046621</td>\n",
              "    </tr>\n",
              "    <tr>\n",
              "      <th id=\"T_8205b_level0_row5\" class=\"row_heading level0 row5\" >5</th>\n",
              "      <td id=\"T_8205b_row5_col0\" class=\"data row5 col0\" >-0.184014</td>\n",
              "      <td id=\"T_8205b_row5_col1\" class=\"data row5 col1\" >-0.076571</td>\n",
              "      <td id=\"T_8205b_row5_col2\" class=\"data row5 col2\" >-0.071741</td>\n",
              "      <td id=\"T_8205b_row5_col3\" class=\"data row5 col3\" >-0.006924</td>\n",
              "      <td id=\"T_8205b_row5_col4\" class=\"data row5 col4\" >0.037544</td>\n",
              "      <td id=\"T_8205b_row5_col5\" class=\"data row5 col5\" >1.000000</td>\n",
              "      <td id=\"T_8205b_row5_col6\" class=\"data row5 col6\" >-0.071562</td>\n",
              "      <td id=\"T_8205b_row5_col7\" class=\"data row5 col7\" >-0.205127</td>\n",
              "      <td id=\"T_8205b_row5_col8\" class=\"data row5 col8\" >0.013573</td>\n",
              "      <td id=\"T_8205b_row5_col9\" class=\"data row5 col9\" >0.036082</td>\n",
              "      <td id=\"T_8205b_row5_col10\" class=\"data row5 col10\" >0.065460</td>\n",
              "      <td id=\"T_8205b_row5_col11\" class=\"data row5 col11\" >-0.117160</td>\n",
              "      <td id=\"T_8205b_row5_col12\" class=\"data row5 col12\" >0.029221</td>\n",
              "      <td id=\"T_8205b_row5_col13\" class=\"data row5 col13\" >-0.020173</td>\n",
              "      <td id=\"T_8205b_row5_col14\" class=\"data row5 col14\" >0.179775</td>\n",
              "      <td id=\"T_8205b_row5_col15\" class=\"data row5 col15\" >-0.047875</td>\n",
              "      <td id=\"T_8205b_row5_col16\" class=\"data row5 col16\" >0.058298</td>\n",
              "      <td id=\"T_8205b_row5_col17\" class=\"data row5 col17\" >-0.163573</td>\n",
              "      <td id=\"T_8205b_row5_col18\" class=\"data row5 col18\" >0.022760</td>\n",
              "      <td id=\"T_8205b_row5_col19\" class=\"data row5 col19\" >-0.029259</td>\n",
              "    </tr>\n",
              "    <tr>\n",
              "      <th id=\"T_8205b_level0_row6\" class=\"row_heading level0 row6\" >6</th>\n",
              "      <td id=\"T_8205b_row6_col0\" class=\"data row6 col0\" >-0.012553</td>\n",
              "      <td id=\"T_8205b_row6_col1\" class=\"data row6 col1\" >0.049050</td>\n",
              "      <td id=\"T_8205b_row6_col2\" class=\"data row6 col2\" >0.078896</td>\n",
              "      <td id=\"T_8205b_row6_col3\" class=\"data row6 col3\" >-0.127268</td>\n",
              "      <td id=\"T_8205b_row6_col4\" class=\"data row6 col4\" >-0.079786</td>\n",
              "      <td id=\"T_8205b_row6_col5\" class=\"data row6 col5\" >-0.071562</td>\n",
              "      <td id=\"T_8205b_row6_col6\" class=\"data row6 col6\" >1.000000</td>\n",
              "      <td id=\"T_8205b_row6_col7\" class=\"data row6 col7\" >-0.167610</td>\n",
              "      <td id=\"T_8205b_row6_col8\" class=\"data row6 col8\" >0.059185</td>\n",
              "      <td id=\"T_8205b_row6_col9\" class=\"data row6 col9\" >-0.066809</td>\n",
              "      <td id=\"T_8205b_row6_col10\" class=\"data row6 col10\" >-0.749775</td>\n",
              "      <td id=\"T_8205b_row6_col11\" class=\"data row6 col11\" >-0.052965</td>\n",
              "      <td id=\"T_8205b_row6_col12\" class=\"data row6 col12\" >0.003301</td>\n",
              "      <td id=\"T_8205b_row6_col13\" class=\"data row6 col13\" >0.060168</td>\n",
              "      <td id=\"T_8205b_row6_col14\" class=\"data row6 col14\" >0.133328</td>\n",
              "      <td id=\"T_8205b_row6_col15\" class=\"data row6 col15\" >0.813850</td>\n",
              "      <td id=\"T_8205b_row6_col16\" class=\"data row6 col16\" >-0.101642</td>\n",
              "      <td id=\"T_8205b_row6_col17\" class=\"data row6 col17\" >0.098735</td>\n",
              "      <td id=\"T_8205b_row6_col18\" class=\"data row6 col18\" >-0.013932</td>\n",
              "      <td id=\"T_8205b_row6_col19\" class=\"data row6 col19\" >0.017641</td>\n",
              "    </tr>\n",
              "    <tr>\n",
              "      <th id=\"T_8205b_level0_row7\" class=\"row_heading level0 row7\" >7</th>\n",
              "      <td id=\"T_8205b_row7_col0\" class=\"data row7 col0\" >-0.127270</td>\n",
              "      <td id=\"T_8205b_row7_col1\" class=\"data row7 col1\" >0.097316</td>\n",
              "      <td id=\"T_8205b_row7_col2\" class=\"data row7 col2\" >-0.115383</td>\n",
              "      <td id=\"T_8205b_row7_col3\" class=\"data row7 col3\" >-0.039623</td>\n",
              "      <td id=\"T_8205b_row7_col4\" class=\"data row7 col4\" >-0.291851</td>\n",
              "      <td id=\"T_8205b_row7_col5\" class=\"data row7 col5\" >-0.205127</td>\n",
              "      <td id=\"T_8205b_row7_col6\" class=\"data row7 col6\" >-0.167610</td>\n",
              "      <td id=\"T_8205b_row7_col7\" class=\"data row7 col7\" >1.000000</td>\n",
              "      <td id=\"T_8205b_row7_col8\" class=\"data row7 col8\" >0.058655</td>\n",
              "      <td id=\"T_8205b_row7_col9\" class=\"data row7 col9\" >0.088768</td>\n",
              "      <td id=\"T_8205b_row7_col10\" class=\"data row7 col10\" >0.171125</td>\n",
              "      <td id=\"T_8205b_row7_col11\" class=\"data row7 col11\" >-0.117349</td>\n",
              "      <td id=\"T_8205b_row7_col12\" class=\"data row7 col12\" >0.023935</td>\n",
              "      <td id=\"T_8205b_row7_col13\" class=\"data row7 col13\" >0.071926</td>\n",
              "      <td id=\"T_8205b_row7_col14\" class=\"data row7 col14\" >-0.019313</td>\n",
              "      <td id=\"T_8205b_row7_col15\" class=\"data row7 col15\" >-0.096492</td>\n",
              "      <td id=\"T_8205b_row7_col16\" class=\"data row7 col16\" >0.040382</td>\n",
              "      <td id=\"T_8205b_row7_col17\" class=\"data row7 col17\" >-0.019897</td>\n",
              "      <td id=\"T_8205b_row7_col18\" class=\"data row7 col18\" >0.133483</td>\n",
              "      <td id=\"T_8205b_row7_col19\" class=\"data row7 col19\" >-0.080199</td>\n",
              "    </tr>\n",
              "    <tr>\n",
              "      <th id=\"T_8205b_level0_row8\" class=\"row_heading level0 row8\" >8</th>\n",
              "      <td id=\"T_8205b_row8_col0\" class=\"data row8 col0\" >0.105779</td>\n",
              "      <td id=\"T_8205b_row8_col1\" class=\"data row8 col1\" >0.027742</td>\n",
              "      <td id=\"T_8205b_row8_col2\" class=\"data row8 col2\" >0.070748</td>\n",
              "      <td id=\"T_8205b_row8_col3\" class=\"data row8 col3\" >-0.100963</td>\n",
              "      <td id=\"T_8205b_row8_col4\" class=\"data row8 col4\" >-0.051106</td>\n",
              "      <td id=\"T_8205b_row8_col5\" class=\"data row8 col5\" >0.013573</td>\n",
              "      <td id=\"T_8205b_row8_col6\" class=\"data row8 col6\" >0.059185</td>\n",
              "      <td id=\"T_8205b_row8_col7\" class=\"data row8 col7\" >0.058655</td>\n",
              "      <td id=\"T_8205b_row8_col8\" class=\"data row8 col8\" >1.000000</td>\n",
              "      <td id=\"T_8205b_row8_col9\" class=\"data row8 col9\" >0.025637</td>\n",
              "      <td id=\"T_8205b_row8_col10\" class=\"data row8 col10\" >0.616158</td>\n",
              "      <td id=\"T_8205b_row8_col11\" class=\"data row8 col11\" >-0.084419</td>\n",
              "      <td id=\"T_8205b_row8_col12\" class=\"data row8 col12\" >0.038299</td>\n",
              "      <td id=\"T_8205b_row8_col13\" class=\"data row8 col13\" >-0.009578</td>\n",
              "      <td id=\"T_8205b_row8_col14\" class=\"data row8 col14\" >0.114451</td>\n",
              "      <td id=\"T_8205b_row8_col15\" class=\"data row8 col15\" >0.628224</td>\n",
              "      <td id=\"T_8205b_row8_col16\" class=\"data row8 col16\" >-0.021788</td>\n",
              "      <td id=\"T_8205b_row8_col17\" class=\"data row8 col17\" >-0.106855</td>\n",
              "      <td id=\"T_8205b_row8_col18\" class=\"data row8 col18\" >0.045951</td>\n",
              "      <td id=\"T_8205b_row8_col19\" class=\"data row8 col19\" >0.013553</td>\n",
              "    </tr>\n",
              "    <tr>\n",
              "      <th id=\"T_8205b_level0_row9\" class=\"row_heading level0 row9\" >9</th>\n",
              "      <td id=\"T_8205b_row9_col0\" class=\"data row9 col0\" >0.002115</td>\n",
              "      <td id=\"T_8205b_row9_col1\" class=\"data row9 col1\" >0.127665</td>\n",
              "      <td id=\"T_8205b_row9_col2\" class=\"data row9 col2\" >-0.139404</td>\n",
              "      <td id=\"T_8205b_row9_col3\" class=\"data row9 col3\" >0.200769</td>\n",
              "      <td id=\"T_8205b_row9_col4\" class=\"data row9 col4\" >0.112206</td>\n",
              "      <td id=\"T_8205b_row9_col5\" class=\"data row9 col5\" >0.036082</td>\n",
              "      <td id=\"T_8205b_row9_col6\" class=\"data row9 col6\" >-0.066809</td>\n",
              "      <td id=\"T_8205b_row9_col7\" class=\"data row9 col7\" >0.088768</td>\n",
              "      <td id=\"T_8205b_row9_col8\" class=\"data row9 col8\" >0.025637</td>\n",
              "      <td id=\"T_8205b_row9_col9\" class=\"data row9 col9\" >1.000000</td>\n",
              "      <td id=\"T_8205b_row9_col10\" class=\"data row9 col10\" >0.069706</td>\n",
              "      <td id=\"T_8205b_row9_col11\" class=\"data row9 col11\" >-0.049856</td>\n",
              "      <td id=\"T_8205b_row9_col12\" class=\"data row9 col12\" >-0.106012</td>\n",
              "      <td id=\"T_8205b_row9_col13\" class=\"data row9 col13\" >-0.041093</td>\n",
              "      <td id=\"T_8205b_row9_col14\" class=\"data row9 col14\" >0.060134</td>\n",
              "      <td id=\"T_8205b_row9_col15\" class=\"data row9 col15\" >-0.037148</td>\n",
              "      <td id=\"T_8205b_row9_col16\" class=\"data row9 col16\" >0.021766</td>\n",
              "      <td id=\"T_8205b_row9_col17\" class=\"data row9 col17\" >0.097349</td>\n",
              "      <td id=\"T_8205b_row9_col18\" class=\"data row9 col18\" >0.116861</td>\n",
              "      <td id=\"T_8205b_row9_col19\" class=\"data row9 col19\" >0.031930</td>\n",
              "    </tr>\n",
              "    <tr>\n",
              "      <th id=\"T_8205b_level0_row10\" class=\"row_heading level0 row10\" >10</th>\n",
              "      <td id=\"T_8205b_row10_col0\" class=\"data row10 col0\" >0.080021</td>\n",
              "      <td id=\"T_8205b_row10_col1\" class=\"data row10 col1\" >-0.020312</td>\n",
              "      <td id=\"T_8205b_row10_col2\" class=\"data row10 col2\" >-0.015354</td>\n",
              "      <td id=\"T_8205b_row10_col3\" class=\"data row10 col3\" >0.033491</td>\n",
              "      <td id=\"T_8205b_row10_col4\" class=\"data row10 col4\" >0.029076</td>\n",
              "      <td id=\"T_8205b_row10_col5\" class=\"data row10 col5\" >0.065460</td>\n",
              "      <td id=\"T_8205b_row10_col6\" class=\"data row10 col6\" >-0.749775</td>\n",
              "      <td id=\"T_8205b_row10_col7\" class=\"data row10 col7\" >0.171125</td>\n",
              "      <td id=\"T_8205b_row10_col8\" class=\"data row10 col8\" >0.616158</td>\n",
              "      <td id=\"T_8205b_row10_col9\" class=\"data row10 col9\" >0.069706</td>\n",
              "      <td id=\"T_8205b_row10_col10\" class=\"data row10 col10\" >1.000000</td>\n",
              "      <td id=\"T_8205b_row10_col11\" class=\"data row10 col11\" >-0.014168</td>\n",
              "      <td id=\"T_8205b_row10_col12\" class=\"data row10 col12\" >0.022782</td>\n",
              "      <td id=\"T_8205b_row10_col13\" class=\"data row10 col13\" >-0.053822</td>\n",
              "      <td id=\"T_8205b_row10_col14\" class=\"data row10 col14\" >-0.029332</td>\n",
              "      <td id=\"T_8205b_row10_col15\" class=\"data row10 col15\" >-0.225711</td>\n",
              "      <td id=\"T_8205b_row10_col16\" class=\"data row10 col16\" >0.065754</td>\n",
              "      <td id=\"T_8205b_row10_col17\" class=\"data row10 col17\" >-0.148732</td>\n",
              "      <td id=\"T_8205b_row10_col18\" class=\"data row10 col18\" >0.041451</td>\n",
              "      <td id=\"T_8205b_row10_col19\" class=\"data row10 col19\" >-0.004935</td>\n",
              "    </tr>\n",
              "    <tr>\n",
              "      <th id=\"T_8205b_level0_row11\" class=\"row_heading level0 row11\" >11</th>\n",
              "      <td id=\"T_8205b_row11_col0\" class=\"data row11 col0\" >0.052013</td>\n",
              "      <td id=\"T_8205b_row11_col1\" class=\"data row11 col1\" >-0.123894</td>\n",
              "      <td id=\"T_8205b_row11_col2\" class=\"data row11 col2\" >0.077814</td>\n",
              "      <td id=\"T_8205b_row11_col3\" class=\"data row11 col3\" >-0.090065</td>\n",
              "      <td id=\"T_8205b_row11_col4\" class=\"data row11 col4\" >0.049959</td>\n",
              "      <td id=\"T_8205b_row11_col5\" class=\"data row11 col5\" >-0.117160</td>\n",
              "      <td id=\"T_8205b_row11_col6\" class=\"data row11 col6\" >-0.052965</td>\n",
              "      <td id=\"T_8205b_row11_col7\" class=\"data row11 col7\" >-0.117349</td>\n",
              "      <td id=\"T_8205b_row11_col8\" class=\"data row11 col8\" >-0.084419</td>\n",
              "      <td id=\"T_8205b_row11_col9\" class=\"data row11 col9\" >-0.049856</td>\n",
              "      <td id=\"T_8205b_row11_col10\" class=\"data row11 col10\" >-0.014168</td>\n",
              "      <td id=\"T_8205b_row11_col11\" class=\"data row11 col11\" >1.000000</td>\n",
              "      <td id=\"T_8205b_row11_col12\" class=\"data row11 col12\" >-0.150877</td>\n",
              "      <td id=\"T_8205b_row11_col13\" class=\"data row11 col13\" >-0.035154</td>\n",
              "      <td id=\"T_8205b_row11_col14\" class=\"data row11 col14\" >0.086693</td>\n",
              "      <td id=\"T_8205b_row11_col15\" class=\"data row11 col15\" >-0.090420</td>\n",
              "      <td id=\"T_8205b_row11_col16\" class=\"data row11 col16\" >-0.078497</td>\n",
              "      <td id=\"T_8205b_row11_col17\" class=\"data row11 col17\" >0.159309</td>\n",
              "      <td id=\"T_8205b_row11_col18\" class=\"data row11 col18\" >-0.057862</td>\n",
              "      <td id=\"T_8205b_row11_col19\" class=\"data row11 col19\" >-0.142809</td>\n",
              "    </tr>\n",
              "    <tr>\n",
              "      <th id=\"T_8205b_level0_row12\" class=\"row_heading level0 row12\" >12</th>\n",
              "      <td id=\"T_8205b_row12_col0\" class=\"data row12 col0\" >-0.026934</td>\n",
              "      <td id=\"T_8205b_row12_col1\" class=\"data row12 col1\" >-0.184228</td>\n",
              "      <td id=\"T_8205b_row12_col2\" class=\"data row12 col2\" >-0.082135</td>\n",
              "      <td id=\"T_8205b_row12_col3\" class=\"data row12 col3\" >-0.198557</td>\n",
              "      <td id=\"T_8205b_row12_col4\" class=\"data row12 col4\" >-0.256341</td>\n",
              "      <td id=\"T_8205b_row12_col5\" class=\"data row12 col5\" >0.029221</td>\n",
              "      <td id=\"T_8205b_row12_col6\" class=\"data row12 col6\" >0.003301</td>\n",
              "      <td id=\"T_8205b_row12_col7\" class=\"data row12 col7\" >0.023935</td>\n",
              "      <td id=\"T_8205b_row12_col8\" class=\"data row12 col8\" >0.038299</td>\n",
              "      <td id=\"T_8205b_row12_col9\" class=\"data row12 col9\" >-0.106012</td>\n",
              "      <td id=\"T_8205b_row12_col10\" class=\"data row12 col10\" >0.022782</td>\n",
              "      <td id=\"T_8205b_row12_col11\" class=\"data row12 col11\" >-0.150877</td>\n",
              "      <td id=\"T_8205b_row12_col12\" class=\"data row12 col12\" >1.000000</td>\n",
              "      <td id=\"T_8205b_row12_col13\" class=\"data row12 col13\" >-0.098674</td>\n",
              "      <td id=\"T_8205b_row12_col14\" class=\"data row12 col14\" >-0.100298</td>\n",
              "      <td id=\"T_8205b_row12_col15\" class=\"data row12 col15\" >0.024866</td>\n",
              "      <td id=\"T_8205b_row12_col16\" class=\"data row12 col16\" >0.050834</td>\n",
              "      <td id=\"T_8205b_row12_col17\" class=\"data row12 col17\" >-0.100945</td>\n",
              "      <td id=\"T_8205b_row12_col18\" class=\"data row12 col18\" >0.040720</td>\n",
              "      <td id=\"T_8205b_row12_col19\" class=\"data row12 col19\" >-0.080928</td>\n",
              "    </tr>\n",
              "    <tr>\n",
              "      <th id=\"T_8205b_level0_row13\" class=\"row_heading level0 row13\" >13</th>\n",
              "      <td id=\"T_8205b_row13_col0\" class=\"data row13 col0\" >-0.038838</td>\n",
              "      <td id=\"T_8205b_row13_col1\" class=\"data row13 col1\" >0.107929</td>\n",
              "      <td id=\"T_8205b_row13_col2\" class=\"data row13 col2\" >-0.124304</td>\n",
              "      <td id=\"T_8205b_row13_col3\" class=\"data row13 col3\" >-0.025956</td>\n",
              "      <td id=\"T_8205b_row13_col4\" class=\"data row13 col4\" >0.011919</td>\n",
              "      <td id=\"T_8205b_row13_col5\" class=\"data row13 col5\" >-0.020173</td>\n",
              "      <td id=\"T_8205b_row13_col6\" class=\"data row13 col6\" >0.060168</td>\n",
              "      <td id=\"T_8205b_row13_col7\" class=\"data row13 col7\" >0.071926</td>\n",
              "      <td id=\"T_8205b_row13_col8\" class=\"data row13 col8\" >-0.009578</td>\n",
              "      <td id=\"T_8205b_row13_col9\" class=\"data row13 col9\" >-0.041093</td>\n",
              "      <td id=\"T_8205b_row13_col10\" class=\"data row13 col10\" >-0.053822</td>\n",
              "      <td id=\"T_8205b_row13_col11\" class=\"data row13 col11\" >-0.035154</td>\n",
              "      <td id=\"T_8205b_row13_col12\" class=\"data row13 col12\" >-0.098674</td>\n",
              "      <td id=\"T_8205b_row13_col13\" class=\"data row13 col13\" >1.000000</td>\n",
              "      <td id=\"T_8205b_row13_col14\" class=\"data row13 col14\" >-0.008789</td>\n",
              "      <td id=\"T_8205b_row13_col15\" class=\"data row13 col15\" >0.041319</td>\n",
              "      <td id=\"T_8205b_row13_col16\" class=\"data row13 col16\" >-0.026134</td>\n",
              "      <td id=\"T_8205b_row13_col17\" class=\"data row13 col17\" >-0.066848</td>\n",
              "      <td id=\"T_8205b_row13_col18\" class=\"data row13 col18\" >-0.085026</td>\n",
              "      <td id=\"T_8205b_row13_col19\" class=\"data row13 col19\" >0.107103</td>\n",
              "    </tr>\n",
              "    <tr>\n",
              "      <th id=\"T_8205b_level0_row14\" class=\"row_heading level0 row14\" >14</th>\n",
              "      <td id=\"T_8205b_row14_col0\" class=\"data row14 col0\" >0.096511</td>\n",
              "      <td id=\"T_8205b_row14_col1\" class=\"data row14 col1\" >0.014269</td>\n",
              "      <td id=\"T_8205b_row14_col2\" class=\"data row14 col2\" >-0.135378</td>\n",
              "      <td id=\"T_8205b_row14_col3\" class=\"data row14 col3\" >-0.029308</td>\n",
              "      <td id=\"T_8205b_row14_col4\" class=\"data row14 col4\" >0.082976</td>\n",
              "      <td id=\"T_8205b_row14_col5\" class=\"data row14 col5\" >0.179775</td>\n",
              "      <td id=\"T_8205b_row14_col6\" class=\"data row14 col6\" >0.133328</td>\n",
              "      <td id=\"T_8205b_row14_col7\" class=\"data row14 col7\" >-0.019313</td>\n",
              "      <td id=\"T_8205b_row14_col8\" class=\"data row14 col8\" >0.114451</td>\n",
              "      <td id=\"T_8205b_row14_col9\" class=\"data row14 col9\" >0.060134</td>\n",
              "      <td id=\"T_8205b_row14_col10\" class=\"data row14 col10\" >-0.029332</td>\n",
              "      <td id=\"T_8205b_row14_col11\" class=\"data row14 col11\" >0.086693</td>\n",
              "      <td id=\"T_8205b_row14_col12\" class=\"data row14 col12\" >-0.100298</td>\n",
              "      <td id=\"T_8205b_row14_col13\" class=\"data row14 col13\" >-0.008789</td>\n",
              "      <td id=\"T_8205b_row14_col14\" class=\"data row14 col14\" >1.000000</td>\n",
              "      <td id=\"T_8205b_row14_col15\" class=\"data row14 col15\" >0.170537</td>\n",
              "      <td id=\"T_8205b_row14_col16\" class=\"data row14 col16\" >0.102148</td>\n",
              "      <td id=\"T_8205b_row14_col17\" class=\"data row14 col17\" >-0.150446</td>\n",
              "      <td id=\"T_8205b_row14_col18\" class=\"data row14 col18\" >-0.058193</td>\n",
              "      <td id=\"T_8205b_row14_col19\" class=\"data row14 col19\" >-0.095972</td>\n",
              "    </tr>\n",
              "    <tr>\n",
              "      <th id=\"T_8205b_level0_row15\" class=\"row_heading level0 row15\" >15</th>\n",
              "      <td id=\"T_8205b_row15_col0\" class=\"data row15 col0\" >0.051789</td>\n",
              "      <td id=\"T_8205b_row15_col1\" class=\"data row15 col1\" >0.054378</td>\n",
              "      <td id=\"T_8205b_row15_col2\" class=\"data row15 col2\" >0.102673</td>\n",
              "      <td id=\"T_8205b_row15_col3\" class=\"data row15 col3\" >-0.157963</td>\n",
              "      <td id=\"T_8205b_row15_col4\" class=\"data row15 col4\" >-0.091933</td>\n",
              "      <td id=\"T_8205b_row15_col5\" class=\"data row15 col5\" >-0.047875</td>\n",
              "      <td id=\"T_8205b_row15_col6\" class=\"data row15 col6\" >0.813850</td>\n",
              "      <td id=\"T_8205b_row15_col7\" class=\"data row15 col7\" >-0.096492</td>\n",
              "      <td id=\"T_8205b_row15_col8\" class=\"data row15 col8\" >0.628224</td>\n",
              "      <td id=\"T_8205b_row15_col9\" class=\"data row15 col9\" >-0.037148</td>\n",
              "      <td id=\"T_8205b_row15_col10\" class=\"data row15 col10\" >-0.225711</td>\n",
              "      <td id=\"T_8205b_row15_col11\" class=\"data row15 col11\" >-0.090420</td>\n",
              "      <td id=\"T_8205b_row15_col12\" class=\"data row15 col12\" >0.024866</td>\n",
              "      <td id=\"T_8205b_row15_col13\" class=\"data row15 col13\" >0.041319</td>\n",
              "      <td id=\"T_8205b_row15_col14\" class=\"data row15 col14\" >0.170537</td>\n",
              "      <td id=\"T_8205b_row15_col15\" class=\"data row15 col15\" >1.000000</td>\n",
              "      <td id=\"T_8205b_row15_col16\" class=\"data row15 col16\" >-0.091903</td>\n",
              "      <td id=\"T_8205b_row15_col17\" class=\"data row15 col17\" >0.014754</td>\n",
              "      <td id=\"T_8205b_row15_col18\" class=\"data row15 col18\" >0.015889</td>\n",
              "      <td id=\"T_8205b_row15_col19\" class=\"data row15 col19\" >0.021638</td>\n",
              "    </tr>\n",
              "    <tr>\n",
              "      <th id=\"T_8205b_level0_row16\" class=\"row_heading level0 row16\" >16</th>\n",
              "      <td id=\"T_8205b_row16_col0\" class=\"data row16 col0\" >-0.027978</td>\n",
              "      <td id=\"T_8205b_row16_col1\" class=\"data row16 col1\" >-0.103446</td>\n",
              "      <td id=\"T_8205b_row16_col2\" class=\"data row16 col2\" >0.063235</td>\n",
              "      <td id=\"T_8205b_row16_col3\" class=\"data row16 col3\" >-0.048419</td>\n",
              "      <td id=\"T_8205b_row16_col4\" class=\"data row16 col4\" >-0.005678</td>\n",
              "      <td id=\"T_8205b_row16_col5\" class=\"data row16 col5\" >0.058298</td>\n",
              "      <td id=\"T_8205b_row16_col6\" class=\"data row16 col6\" >-0.101642</td>\n",
              "      <td id=\"T_8205b_row16_col7\" class=\"data row16 col7\" >0.040382</td>\n",
              "      <td id=\"T_8205b_row16_col8\" class=\"data row16 col8\" >-0.021788</td>\n",
              "      <td id=\"T_8205b_row16_col9\" class=\"data row16 col9\" >0.021766</td>\n",
              "      <td id=\"T_8205b_row16_col10\" class=\"data row16 col10\" >0.065754</td>\n",
              "      <td id=\"T_8205b_row16_col11\" class=\"data row16 col11\" >-0.078497</td>\n",
              "      <td id=\"T_8205b_row16_col12\" class=\"data row16 col12\" >0.050834</td>\n",
              "      <td id=\"T_8205b_row16_col13\" class=\"data row16 col13\" >-0.026134</td>\n",
              "      <td id=\"T_8205b_row16_col14\" class=\"data row16 col14\" >0.102148</td>\n",
              "      <td id=\"T_8205b_row16_col15\" class=\"data row16 col15\" >-0.091903</td>\n",
              "      <td id=\"T_8205b_row16_col16\" class=\"data row16 col16\" >1.000000</td>\n",
              "      <td id=\"T_8205b_row16_col17\" class=\"data row16 col17\" >-0.099420</td>\n",
              "      <td id=\"T_8205b_row16_col18\" class=\"data row16 col18\" >-0.036463</td>\n",
              "      <td id=\"T_8205b_row16_col19\" class=\"data row16 col19\" >0.088953</td>\n",
              "    </tr>\n",
              "    <tr>\n",
              "      <th id=\"T_8205b_level0_row17\" class=\"row_heading level0 row17\" >17</th>\n",
              "      <td id=\"T_8205b_row17_col0\" class=\"data row17 col0\" >-0.060304</td>\n",
              "      <td id=\"T_8205b_row17_col1\" class=\"data row17 col1\" >0.099394</td>\n",
              "      <td id=\"T_8205b_row17_col2\" class=\"data row17 col2\" >0.051747</td>\n",
              "      <td id=\"T_8205b_row17_col3\" class=\"data row17 col3\" >-0.274255</td>\n",
              "      <td id=\"T_8205b_row17_col4\" class=\"data row17 col4\" >-0.073995</td>\n",
              "      <td id=\"T_8205b_row17_col5\" class=\"data row17 col5\" >-0.163573</td>\n",
              "      <td id=\"T_8205b_row17_col6\" class=\"data row17 col6\" >0.098735</td>\n",
              "      <td id=\"T_8205b_row17_col7\" class=\"data row17 col7\" >-0.019897</td>\n",
              "      <td id=\"T_8205b_row17_col8\" class=\"data row17 col8\" >-0.106855</td>\n",
              "      <td id=\"T_8205b_row17_col9\" class=\"data row17 col9\" >0.097349</td>\n",
              "      <td id=\"T_8205b_row17_col10\" class=\"data row17 col10\" >-0.148732</td>\n",
              "      <td id=\"T_8205b_row17_col11\" class=\"data row17 col11\" >0.159309</td>\n",
              "      <td id=\"T_8205b_row17_col12\" class=\"data row17 col12\" >-0.100945</td>\n",
              "      <td id=\"T_8205b_row17_col13\" class=\"data row17 col13\" >-0.066848</td>\n",
              "      <td id=\"T_8205b_row17_col14\" class=\"data row17 col14\" >-0.150446</td>\n",
              "      <td id=\"T_8205b_row17_col15\" class=\"data row17 col15\" >0.014754</td>\n",
              "      <td id=\"T_8205b_row17_col16\" class=\"data row17 col16\" >-0.099420</td>\n",
              "      <td id=\"T_8205b_row17_col17\" class=\"data row17 col17\" >1.000000</td>\n",
              "      <td id=\"T_8205b_row17_col18\" class=\"data row17 col18\" >-0.103805</td>\n",
              "      <td id=\"T_8205b_row17_col19\" class=\"data row17 col19\" >-0.106346</td>\n",
              "    </tr>\n",
              "    <tr>\n",
              "      <th id=\"T_8205b_level0_row18\" class=\"row_heading level0 row18\" >18</th>\n",
              "      <td id=\"T_8205b_row18_col0\" class=\"data row18 col0\" >0.075137</td>\n",
              "      <td id=\"T_8205b_row18_col1\" class=\"data row18 col1\" >0.025584</td>\n",
              "      <td id=\"T_8205b_row18_col2\" class=\"data row18 col2\" >0.076876</td>\n",
              "      <td id=\"T_8205b_row18_col3\" class=\"data row18 col3\" >0.140142</td>\n",
              "      <td id=\"T_8205b_row18_col4\" class=\"data row18 col4\" >-0.077312</td>\n",
              "      <td id=\"T_8205b_row18_col5\" class=\"data row18 col5\" >0.022760</td>\n",
              "      <td id=\"T_8205b_row18_col6\" class=\"data row18 col6\" >-0.013932</td>\n",
              "      <td id=\"T_8205b_row18_col7\" class=\"data row18 col7\" >0.133483</td>\n",
              "      <td id=\"T_8205b_row18_col8\" class=\"data row18 col8\" >0.045951</td>\n",
              "      <td id=\"T_8205b_row18_col9\" class=\"data row18 col9\" >0.116861</td>\n",
              "      <td id=\"T_8205b_row18_col10\" class=\"data row18 col10\" >0.041451</td>\n",
              "      <td id=\"T_8205b_row18_col11\" class=\"data row18 col11\" >-0.057862</td>\n",
              "      <td id=\"T_8205b_row18_col12\" class=\"data row18 col12\" >0.040720</td>\n",
              "      <td id=\"T_8205b_row18_col13\" class=\"data row18 col13\" >-0.085026</td>\n",
              "      <td id=\"T_8205b_row18_col14\" class=\"data row18 col14\" >-0.058193</td>\n",
              "      <td id=\"T_8205b_row18_col15\" class=\"data row18 col15\" >0.015889</td>\n",
              "      <td id=\"T_8205b_row18_col16\" class=\"data row18 col16\" >-0.036463</td>\n",
              "      <td id=\"T_8205b_row18_col17\" class=\"data row18 col17\" >-0.103805</td>\n",
              "      <td id=\"T_8205b_row18_col18\" class=\"data row18 col18\" >1.000000</td>\n",
              "      <td id=\"T_8205b_row18_col19\" class=\"data row18 col19\" >0.057179</td>\n",
              "    </tr>\n",
              "    <tr>\n",
              "      <th id=\"T_8205b_level0_row19\" class=\"row_heading level0 row19\" >19</th>\n",
              "      <td id=\"T_8205b_row19_col0\" class=\"data row19 col0\" >0.073765</td>\n",
              "      <td id=\"T_8205b_row19_col1\" class=\"data row19 col1\" >0.118083</td>\n",
              "      <td id=\"T_8205b_row19_col2\" class=\"data row19 col2\" >0.085550</td>\n",
              "      <td id=\"T_8205b_row19_col3\" class=\"data row19 col3\" >-0.076963</td>\n",
              "      <td id=\"T_8205b_row19_col4\" class=\"data row19 col4\" >0.046621</td>\n",
              "      <td id=\"T_8205b_row19_col5\" class=\"data row19 col5\" >-0.029259</td>\n",
              "      <td id=\"T_8205b_row19_col6\" class=\"data row19 col6\" >0.017641</td>\n",
              "      <td id=\"T_8205b_row19_col7\" class=\"data row19 col7\" >-0.080199</td>\n",
              "      <td id=\"T_8205b_row19_col8\" class=\"data row19 col8\" >0.013553</td>\n",
              "      <td id=\"T_8205b_row19_col9\" class=\"data row19 col9\" >0.031930</td>\n",
              "      <td id=\"T_8205b_row19_col10\" class=\"data row19 col10\" >-0.004935</td>\n",
              "      <td id=\"T_8205b_row19_col11\" class=\"data row19 col11\" >-0.142809</td>\n",
              "      <td id=\"T_8205b_row19_col12\" class=\"data row19 col12\" >-0.080928</td>\n",
              "      <td id=\"T_8205b_row19_col13\" class=\"data row19 col13\" >0.107103</td>\n",
              "      <td id=\"T_8205b_row19_col14\" class=\"data row19 col14\" >-0.095972</td>\n",
              "      <td id=\"T_8205b_row19_col15\" class=\"data row19 col15\" >0.021638</td>\n",
              "      <td id=\"T_8205b_row19_col16\" class=\"data row19 col16\" >0.088953</td>\n",
              "      <td id=\"T_8205b_row19_col17\" class=\"data row19 col17\" >-0.106346</td>\n",
              "      <td id=\"T_8205b_row19_col18\" class=\"data row19 col18\" >0.057179</td>\n",
              "      <td id=\"T_8205b_row19_col19\" class=\"data row19 col19\" >1.000000</td>\n",
              "    </tr>\n",
              "  </tbody>\n",
              "</table>\n"
            ]
          },
          "metadata": {},
          "execution_count": 24
        }
      ]
    },
    {
      "cell_type": "markdown",
      "source": [
        "We see that the highest correlation is between features 6 and 15, 8 and 10, 15 and 8, and 9 and 3. I think we can remove features 15 and 8."
      ],
      "metadata": {
        "id": "8zHZhWAlAcyh"
      }
    },
    {
      "cell_type": "code",
      "source": [
        "data1 = data.loc[:, (data.columns != 15) & (data.columns != 8)]"
      ],
      "metadata": {
        "id": "8UBhIMXjAsCl"
      },
      "execution_count": null,
      "outputs": []
    },
    {
      "cell_type": "code",
      "source": [
        "data1.shape"
      ],
      "metadata": {
        "colab": {
          "base_uri": "https://localhost:8080/"
        },
        "id": "0vrt2jbaCuew",
        "outputId": "8cfb4355-6431-407c-e36f-e75e437cb884"
      },
      "execution_count": null,
      "outputs": [
        {
          "output_type": "execute_result",
          "data": {
            "text/plain": [
              "(100, 18)"
            ]
          },
          "metadata": {},
          "execution_count": 29
        }
      ]
    },
    {
      "cell_type": "code",
      "source": [
        "x_cor = data1"
      ],
      "metadata": {
        "id": "Hn39Zn_mVwh6"
      },
      "execution_count": null,
      "outputs": []
    },
    {
      "cell_type": "code",
      "source": [
        "cross_val_score(LogisticRegression(), x_cor, y_data_generated, scoring='accuracy').mean()"
      ],
      "metadata": {
        "colab": {
          "base_uri": "https://localhost:8080/"
        },
        "id": "EijW3mgiVpPO",
        "outputId": "caa038d0-90b6-499a-9e17-b43c905e2a99"
      },
      "execution_count": null,
      "outputs": [
        {
          "output_type": "execute_result",
          "data": {
            "text/plain": [
              "0.77"
            ]
          },
          "metadata": {},
          "execution_count": 89
        }
      ]
    },
    {
      "cell_type": "code",
      "source": [
        "from sklearn.feature_selection import VarianceThreshold"
      ],
      "metadata": {
        "id": "tFVGxFILBUTq"
      },
      "execution_count": null,
      "outputs": []
    },
    {
      "cell_type": "code",
      "source": [
        "selector = VarianceThreshold(threshold=1)"
      ],
      "metadata": {
        "id": "s2blwa8ABZcA"
      },
      "execution_count": null,
      "outputs": []
    },
    {
      "cell_type": "code",
      "source": [
        "data2 = selector.fit_transform(data1)"
      ],
      "metadata": {
        "id": "IcAtTP_zCeKV"
      },
      "execution_count": null,
      "outputs": []
    },
    {
      "cell_type": "code",
      "source": [
        "data2.shape"
      ],
      "metadata": {
        "colab": {
          "base_uri": "https://localhost:8080/"
        },
        "id": "77Ezm90bCxjo",
        "outputId": "ba682070-8eee-464b-d1dd-801ac005172f"
      },
      "execution_count": null,
      "outputs": [
        {
          "output_type": "execute_result",
          "data": {
            "text/plain": [
              "(100, 9)"
            ]
          },
          "metadata": {},
          "execution_count": 36
        }
      ]
    },
    {
      "cell_type": "code",
      "source": [
        "data2 = pd.DataFrame(data2)"
      ],
      "metadata": {
        "id": "IWJWI71AEaQZ"
      },
      "execution_count": null,
      "outputs": []
    },
    {
      "cell_type": "code",
      "source": [
        "x = data2"
      ],
      "metadata": {
        "id": "KvpovWSbDiJR"
      },
      "execution_count": null,
      "outputs": []
    },
    {
      "cell_type": "code",
      "source": [
        "y = y_data_generated"
      ],
      "metadata": {
        "id": "CgnsYG6BDnCS"
      },
      "execution_count": null,
      "outputs": []
    },
    {
      "cell_type": "code",
      "source": [
        "cross_val_score(LogisticRegression(), x, y, scoring='accuracy').mean()"
      ],
      "metadata": {
        "colab": {
          "base_uri": "https://localhost:8080/"
        },
        "id": "SHElbMeID3Cw",
        "outputId": "407c9c46-e307-415c-ebf6-47089ae04699"
      },
      "execution_count": null,
      "outputs": [
        {
          "output_type": "execute_result",
          "data": {
            "text/plain": [
              "0.7500000000000001"
            ]
          },
          "metadata": {},
          "execution_count": 54
        }
      ]
    },
    {
      "cell_type": "markdown",
      "source": [
        "I will perform feature selection based on analysis of variance: select the top 5 features using the scoring function for classification f_classif (SelectKBest(f_classif, k=5)), then build the logistic regression model again and evaluate the average accuracy."
      ],
      "metadata": {
        "id": "dLZRJ1cHHiWX"
      }
    },
    {
      "cell_type": "code",
      "source": [
        "from sklearn.feature_selection import SelectKBest, f_classif"
      ],
      "metadata": {
        "id": "o-kLMgbBHmps"
      },
      "execution_count": null,
      "outputs": []
    },
    {
      "cell_type": "code",
      "source": [
        "cross_val_score(LogisticRegression(), SelectKBest(f_classif, k=5).fit_transform(x_data_generated, y_data_generated), y_data_generated, scoring=\"accuracy\").mean()"
      ],
      "metadata": {
        "colab": {
          "base_uri": "https://localhost:8080/"
        },
        "id": "dR4TXbX-LTKd",
        "outputId": "1ad162e6-cb16-483b-da06-b9b58be99622"
      },
      "execution_count": null,
      "outputs": [
        {
          "output_type": "execute_result",
          "data": {
            "text/plain": [
              "0.79"
            ]
          },
          "metadata": {},
          "execution_count": 59
        }
      ]
    },
    {
      "cell_type": "markdown",
      "source": [
        "I will implement feature selection using logistic regression. The selected features will then be used as input to the logistic regression model itself (SelectFromModel). I will use L1 regularization. Next, I will perform feature selection using the RandomForest model and its built-in feature_importance attribute, then build the logistic regression model again and evaluate the average accuracy."
      ],
      "metadata": {
        "id": "GdPfmdmnLj3p"
      }
    },
    {
      "cell_type": "code",
      "source": [
        "from sklearn.feature_selection import SelectFromModel\n",
        "from sklearn.ensemble import RandomForestClassifier"
      ],
      "metadata": {
        "id": "iZVuddLhM0ll"
      },
      "execution_count": null,
      "outputs": []
    },
    {
      "cell_type": "code",
      "source": [
        "model =  LogisticRegression(penalty='l1', solver='liblinear')"
      ],
      "metadata": {
        "id": "mUtrIc7OLrjb"
      },
      "execution_count": null,
      "outputs": []
    },
    {
      "cell_type": "code",
      "source": [
        "model.fit(x_data_generated, y_data_generated)"
      ],
      "metadata": {
        "colab": {
          "base_uri": "https://localhost:8080/",
          "height": 74
        },
        "id": "b0JP90DTMlyc",
        "outputId": "62b6de2d-0f29-4c28-98f1-1df164e309ae"
      },
      "execution_count": null,
      "outputs": [
        {
          "output_type": "execute_result",
          "data": {
            "text/plain": [
              "LogisticRegression(penalty='l1', solver='liblinear')"
            ],
            "text/html": [
              "<style>#sk-container-id-1 {color: black;background-color: white;}#sk-container-id-1 pre{padding: 0;}#sk-container-id-1 div.sk-toggleable {background-color: white;}#sk-container-id-1 label.sk-toggleable__label {cursor: pointer;display: block;width: 100%;margin-bottom: 0;padding: 0.3em;box-sizing: border-box;text-align: center;}#sk-container-id-1 label.sk-toggleable__label-arrow:before {content: \"▸\";float: left;margin-right: 0.25em;color: #696969;}#sk-container-id-1 label.sk-toggleable__label-arrow:hover:before {color: black;}#sk-container-id-1 div.sk-estimator:hover label.sk-toggleable__label-arrow:before {color: black;}#sk-container-id-1 div.sk-toggleable__content {max-height: 0;max-width: 0;overflow: hidden;text-align: left;background-color: #f0f8ff;}#sk-container-id-1 div.sk-toggleable__content pre {margin: 0.2em;color: black;border-radius: 0.25em;background-color: #f0f8ff;}#sk-container-id-1 input.sk-toggleable__control:checked~div.sk-toggleable__content {max-height: 200px;max-width: 100%;overflow: auto;}#sk-container-id-1 input.sk-toggleable__control:checked~label.sk-toggleable__label-arrow:before {content: \"▾\";}#sk-container-id-1 div.sk-estimator input.sk-toggleable__control:checked~label.sk-toggleable__label {background-color: #d4ebff;}#sk-container-id-1 div.sk-label input.sk-toggleable__control:checked~label.sk-toggleable__label {background-color: #d4ebff;}#sk-container-id-1 input.sk-hidden--visually {border: 0;clip: rect(1px 1px 1px 1px);clip: rect(1px, 1px, 1px, 1px);height: 1px;margin: -1px;overflow: hidden;padding: 0;position: absolute;width: 1px;}#sk-container-id-1 div.sk-estimator {font-family: monospace;background-color: #f0f8ff;border: 1px dotted black;border-radius: 0.25em;box-sizing: border-box;margin-bottom: 0.5em;}#sk-container-id-1 div.sk-estimator:hover {background-color: #d4ebff;}#sk-container-id-1 div.sk-parallel-item::after {content: \"\";width: 100%;border-bottom: 1px solid gray;flex-grow: 1;}#sk-container-id-1 div.sk-label:hover label.sk-toggleable__label {background-color: #d4ebff;}#sk-container-id-1 div.sk-serial::before {content: \"\";position: absolute;border-left: 1px solid gray;box-sizing: border-box;top: 0;bottom: 0;left: 50%;z-index: 0;}#sk-container-id-1 div.sk-serial {display: flex;flex-direction: column;align-items: center;background-color: white;padding-right: 0.2em;padding-left: 0.2em;position: relative;}#sk-container-id-1 div.sk-item {position: relative;z-index: 1;}#sk-container-id-1 div.sk-parallel {display: flex;align-items: stretch;justify-content: center;background-color: white;position: relative;}#sk-container-id-1 div.sk-item::before, #sk-container-id-1 div.sk-parallel-item::before {content: \"\";position: absolute;border-left: 1px solid gray;box-sizing: border-box;top: 0;bottom: 0;left: 50%;z-index: -1;}#sk-container-id-1 div.sk-parallel-item {display: flex;flex-direction: column;z-index: 1;position: relative;background-color: white;}#sk-container-id-1 div.sk-parallel-item:first-child::after {align-self: flex-end;width: 50%;}#sk-container-id-1 div.sk-parallel-item:last-child::after {align-self: flex-start;width: 50%;}#sk-container-id-1 div.sk-parallel-item:only-child::after {width: 0;}#sk-container-id-1 div.sk-dashed-wrapped {border: 1px dashed gray;margin: 0 0.4em 0.5em 0.4em;box-sizing: border-box;padding-bottom: 0.4em;background-color: white;}#sk-container-id-1 div.sk-label label {font-family: monospace;font-weight: bold;display: inline-block;line-height: 1.2em;}#sk-container-id-1 div.sk-label-container {text-align: center;}#sk-container-id-1 div.sk-container {/* jupyter's `normalize.less` sets `[hidden] { display: none; }` but bootstrap.min.css set `[hidden] { display: none !important; }` so we also need the `!important` here to be able to override the default hidden behavior on the sphinx rendered scikit-learn.org. See: https://github.com/scikit-learn/scikit-learn/issues/21755 */display: inline-block !important;position: relative;}#sk-container-id-1 div.sk-text-repr-fallback {display: none;}</style><div id=\"sk-container-id-1\" class=\"sk-top-container\"><div class=\"sk-text-repr-fallback\"><pre>LogisticRegression(penalty=&#x27;l1&#x27;, solver=&#x27;liblinear&#x27;)</pre><b>In a Jupyter environment, please rerun this cell to show the HTML representation or trust the notebook. <br />On GitHub, the HTML representation is unable to render, please try loading this page with nbviewer.org.</b></div><div class=\"sk-container\" hidden><div class=\"sk-item\"><div class=\"sk-estimator sk-toggleable\"><input class=\"sk-toggleable__control sk-hidden--visually\" id=\"sk-estimator-id-1\" type=\"checkbox\" checked><label for=\"sk-estimator-id-1\" class=\"sk-toggleable__label sk-toggleable__label-arrow\">LogisticRegression</label><div class=\"sk-toggleable__content\"><pre>LogisticRegression(penalty=&#x27;l1&#x27;, solver=&#x27;liblinear&#x27;)</pre></div></div></div></div></div>"
            ]
          },
          "metadata": {},
          "execution_count": 61
        }
      ]
    },
    {
      "cell_type": "code",
      "source": [
        "selection_mlr = SelectFromModel(model)"
      ],
      "metadata": {
        "id": "vXunm8FaM8vf"
      },
      "execution_count": null,
      "outputs": []
    },
    {
      "cell_type": "code",
      "source": [
        "x_selected_mlr = selection_mlr.transform(x_data_generated)"
      ],
      "metadata": {
        "id": "YmOCbTADNT_E"
      },
      "execution_count": null,
      "outputs": []
    },
    {
      "cell_type": "code",
      "source": [
        "x_selected_mlr.shape"
      ],
      "metadata": {
        "colab": {
          "base_uri": "https://localhost:8080/"
        },
        "id": "h5qGhcRePWX9",
        "outputId": "36bfdc78-328e-40da-b86f-6d67b273a9a3"
      },
      "execution_count": null,
      "outputs": [
        {
          "output_type": "execute_result",
          "data": {
            "text/plain": [
              "(100, 13)"
            ]
          },
          "metadata": {},
          "execution_count": 69
        }
      ]
    },
    {
      "cell_type": "code",
      "source": [
        "cross_val_score(LogisticRegression(), x_selected_mlr, y_data_generated, scoring='accuracy').mean()"
      ],
      "metadata": {
        "colab": {
          "base_uri": "https://localhost:8080/"
        },
        "id": "ta1xPdOwNhXm",
        "outputId": "92d31ad3-4382-4461-bebc-3e4332215f04"
      },
      "execution_count": null,
      "outputs": [
        {
          "output_type": "execute_result",
          "data": {
            "text/plain": [
              "0.7700000000000001"
            ]
          },
          "metadata": {},
          "execution_count": 66
        }
      ]
    },
    {
      "cell_type": "code",
      "source": [
        "model_rf = RandomForestClassifier()"
      ],
      "metadata": {
        "id": "Bedsd72COjtT"
      },
      "execution_count": null,
      "outputs": []
    },
    {
      "cell_type": "code",
      "source": [
        "model_rf.fit(x_data_generated, y_data_generated)"
      ],
      "metadata": {
        "colab": {
          "base_uri": "https://localhost:8080/",
          "height": 74
        },
        "id": "gEEhqkkTOqwl",
        "outputId": "ce11f068-6f5b-4850-93eb-ed7d693ad895"
      },
      "execution_count": null,
      "outputs": [
        {
          "output_type": "execute_result",
          "data": {
            "text/plain": [
              "RandomForestClassifier()"
            ],
            "text/html": [
              "<style>#sk-container-id-4 {color: black;background-color: white;}#sk-container-id-4 pre{padding: 0;}#sk-container-id-4 div.sk-toggleable {background-color: white;}#sk-container-id-4 label.sk-toggleable__label {cursor: pointer;display: block;width: 100%;margin-bottom: 0;padding: 0.3em;box-sizing: border-box;text-align: center;}#sk-container-id-4 label.sk-toggleable__label-arrow:before {content: \"▸\";float: left;margin-right: 0.25em;color: #696969;}#sk-container-id-4 label.sk-toggleable__label-arrow:hover:before {color: black;}#sk-container-id-4 div.sk-estimator:hover label.sk-toggleable__label-arrow:before {color: black;}#sk-container-id-4 div.sk-toggleable__content {max-height: 0;max-width: 0;overflow: hidden;text-align: left;background-color: #f0f8ff;}#sk-container-id-4 div.sk-toggleable__content pre {margin: 0.2em;color: black;border-radius: 0.25em;background-color: #f0f8ff;}#sk-container-id-4 input.sk-toggleable__control:checked~div.sk-toggleable__content {max-height: 200px;max-width: 100%;overflow: auto;}#sk-container-id-4 input.sk-toggleable__control:checked~label.sk-toggleable__label-arrow:before {content: \"▾\";}#sk-container-id-4 div.sk-estimator input.sk-toggleable__control:checked~label.sk-toggleable__label {background-color: #d4ebff;}#sk-container-id-4 div.sk-label input.sk-toggleable__control:checked~label.sk-toggleable__label {background-color: #d4ebff;}#sk-container-id-4 input.sk-hidden--visually {border: 0;clip: rect(1px 1px 1px 1px);clip: rect(1px, 1px, 1px, 1px);height: 1px;margin: -1px;overflow: hidden;padding: 0;position: absolute;width: 1px;}#sk-container-id-4 div.sk-estimator {font-family: monospace;background-color: #f0f8ff;border: 1px dotted black;border-radius: 0.25em;box-sizing: border-box;margin-bottom: 0.5em;}#sk-container-id-4 div.sk-estimator:hover {background-color: #d4ebff;}#sk-container-id-4 div.sk-parallel-item::after {content: \"\";width: 100%;border-bottom: 1px solid gray;flex-grow: 1;}#sk-container-id-4 div.sk-label:hover label.sk-toggleable__label {background-color: #d4ebff;}#sk-container-id-4 div.sk-serial::before {content: \"\";position: absolute;border-left: 1px solid gray;box-sizing: border-box;top: 0;bottom: 0;left: 50%;z-index: 0;}#sk-container-id-4 div.sk-serial {display: flex;flex-direction: column;align-items: center;background-color: white;padding-right: 0.2em;padding-left: 0.2em;position: relative;}#sk-container-id-4 div.sk-item {position: relative;z-index: 1;}#sk-container-id-4 div.sk-parallel {display: flex;align-items: stretch;justify-content: center;background-color: white;position: relative;}#sk-container-id-4 div.sk-item::before, #sk-container-id-4 div.sk-parallel-item::before {content: \"\";position: absolute;border-left: 1px solid gray;box-sizing: border-box;top: 0;bottom: 0;left: 50%;z-index: -1;}#sk-container-id-4 div.sk-parallel-item {display: flex;flex-direction: column;z-index: 1;position: relative;background-color: white;}#sk-container-id-4 div.sk-parallel-item:first-child::after {align-self: flex-end;width: 50%;}#sk-container-id-4 div.sk-parallel-item:last-child::after {align-self: flex-start;width: 50%;}#sk-container-id-4 div.sk-parallel-item:only-child::after {width: 0;}#sk-container-id-4 div.sk-dashed-wrapped {border: 1px dashed gray;margin: 0 0.4em 0.5em 0.4em;box-sizing: border-box;padding-bottom: 0.4em;background-color: white;}#sk-container-id-4 div.sk-label label {font-family: monospace;font-weight: bold;display: inline-block;line-height: 1.2em;}#sk-container-id-4 div.sk-label-container {text-align: center;}#sk-container-id-4 div.sk-container {/* jupyter's `normalize.less` sets `[hidden] { display: none; }` but bootstrap.min.css set `[hidden] { display: none !important; }` so we also need the `!important` here to be able to override the default hidden behavior on the sphinx rendered scikit-learn.org. See: https://github.com/scikit-learn/scikit-learn/issues/21755 */display: inline-block !important;position: relative;}#sk-container-id-4 div.sk-text-repr-fallback {display: none;}</style><div id=\"sk-container-id-4\" class=\"sk-top-container\"><div class=\"sk-text-repr-fallback\"><pre>RandomForestClassifier()</pre><b>In a Jupyter environment, please rerun this cell to show the HTML representation or trust the notebook. <br />On GitHub, the HTML representation is unable to render, please try loading this page with nbviewer.org.</b></div><div class=\"sk-container\" hidden><div class=\"sk-item\"><div class=\"sk-estimator sk-toggleable\"><input class=\"sk-toggleable__control sk-hidden--visually\" id=\"sk-estimator-id-4\" type=\"checkbox\" checked><label for=\"sk-estimator-id-4\" class=\"sk-toggleable__label sk-toggleable__label-arrow\">RandomForestClassifier</label><div class=\"sk-toggleable__content\"><pre>RandomForestClassifier()</pre></div></div></div></div></div>"
            ]
          },
          "metadata": {},
          "execution_count": 74
        }
      ]
    },
    {
      "cell_type": "code",
      "source": [
        "feature_importances = model_rf.feature_importances_"
      ],
      "metadata": {
        "id": "SDbzpmBoPuCV"
      },
      "execution_count": null,
      "outputs": []
    },
    {
      "cell_type": "code",
      "source": [
        "threshold = np.mean(feature_importances)"
      ],
      "metadata": {
        "id": "ALPjTY7pP9-q"
      },
      "execution_count": null,
      "outputs": []
    },
    {
      "cell_type": "code",
      "source": [
        "feature_selection_model_rf = SelectFromModel(model_rf, threshold=threshold)"
      ],
      "metadata": {
        "id": "G5gvK_GZQEko"
      },
      "execution_count": null,
      "outputs": []
    },
    {
      "cell_type": "code",
      "source": [
        "x_selected_rf = feature_selection_model_rf.transform(x_data_generated)"
      ],
      "metadata": {
        "id": "GK-BhEWXQNMM"
      },
      "execution_count": null,
      "outputs": []
    },
    {
      "cell_type": "code",
      "source": [
        "x_selected_rf.shape"
      ],
      "metadata": {
        "colab": {
          "base_uri": "https://localhost:8080/"
        },
        "id": "t82iVJsDQQ7k",
        "outputId": "a7a4f00b-d048-41bb-f3e8-5c6455b40020"
      },
      "execution_count": null,
      "outputs": [
        {
          "output_type": "execute_result",
          "data": {
            "text/plain": [
              "(100, 4)"
            ]
          },
          "metadata": {},
          "execution_count": 79
        }
      ]
    },
    {
      "cell_type": "code",
      "source": [
        "cross_val_score(LogisticRegression(), x_selected_rf, y_data_generated, scoring='accuracy').mean()"
      ],
      "metadata": {
        "colab": {
          "base_uri": "https://localhost:8080/"
        },
        "id": "-YLuDoIdQVFW",
        "outputId": "b6979f7b-e330-48f2-ce8e-dcd8da889004"
      },
      "execution_count": null,
      "outputs": [
        {
          "output_type": "execute_result",
          "data": {
            "text/plain": [
              "0.8400000000000001"
            ]
          },
          "metadata": {},
          "execution_count": 80
        }
      ]
    },
    {
      "cell_type": "markdown",
      "source": [
        "Ш will perform feature selection using SequentialFeatureSelector, then build the logistic regression model again and evaluate the average accuracy."
      ],
      "metadata": {
        "id": "7Pgcp7aZQfLO"
      }
    },
    {
      "cell_type": "code",
      "source": [
        "from sklearn.feature_selection import SequentialFeatureSelector"
      ],
      "metadata": {
        "id": "shhmwbgJQhKs"
      },
      "execution_count": null,
      "outputs": []
    },
    {
      "cell_type": "code",
      "source": [
        "sfs_forward = SequentialFeatureSelector(\n",
        "    RandomForestClassifier(), n_features_to_select=10, direction=\"forward\"\n",
        ")\n",
        "sfs_forward.fit(x_data_generated, y_data_generated)"
      ],
      "metadata": {
        "colab": {
          "base_uri": "https://localhost:8080/",
          "height": 117
        },
        "id": "oOaHtYOlRM-5",
        "outputId": "cdad4820-4231-4758-c6ce-d6a646abbae3"
      },
      "execution_count": null,
      "outputs": [
        {
          "output_type": "execute_result",
          "data": {
            "text/plain": [
              "SequentialFeatureSelector(estimator=RandomForestClassifier(),\n",
              "                          n_features_to_select=10)"
            ],
            "text/html": [
              "<style>#sk-container-id-5 {color: black;background-color: white;}#sk-container-id-5 pre{padding: 0;}#sk-container-id-5 div.sk-toggleable {background-color: white;}#sk-container-id-5 label.sk-toggleable__label {cursor: pointer;display: block;width: 100%;margin-bottom: 0;padding: 0.3em;box-sizing: border-box;text-align: center;}#sk-container-id-5 label.sk-toggleable__label-arrow:before {content: \"▸\";float: left;margin-right: 0.25em;color: #696969;}#sk-container-id-5 label.sk-toggleable__label-arrow:hover:before {color: black;}#sk-container-id-5 div.sk-estimator:hover label.sk-toggleable__label-arrow:before {color: black;}#sk-container-id-5 div.sk-toggleable__content {max-height: 0;max-width: 0;overflow: hidden;text-align: left;background-color: #f0f8ff;}#sk-container-id-5 div.sk-toggleable__content pre {margin: 0.2em;color: black;border-radius: 0.25em;background-color: #f0f8ff;}#sk-container-id-5 input.sk-toggleable__control:checked~div.sk-toggleable__content {max-height: 200px;max-width: 100%;overflow: auto;}#sk-container-id-5 input.sk-toggleable__control:checked~label.sk-toggleable__label-arrow:before {content: \"▾\";}#sk-container-id-5 div.sk-estimator input.sk-toggleable__control:checked~label.sk-toggleable__label {background-color: #d4ebff;}#sk-container-id-5 div.sk-label input.sk-toggleable__control:checked~label.sk-toggleable__label {background-color: #d4ebff;}#sk-container-id-5 input.sk-hidden--visually {border: 0;clip: rect(1px 1px 1px 1px);clip: rect(1px, 1px, 1px, 1px);height: 1px;margin: -1px;overflow: hidden;padding: 0;position: absolute;width: 1px;}#sk-container-id-5 div.sk-estimator {font-family: monospace;background-color: #f0f8ff;border: 1px dotted black;border-radius: 0.25em;box-sizing: border-box;margin-bottom: 0.5em;}#sk-container-id-5 div.sk-estimator:hover {background-color: #d4ebff;}#sk-container-id-5 div.sk-parallel-item::after {content: \"\";width: 100%;border-bottom: 1px solid gray;flex-grow: 1;}#sk-container-id-5 div.sk-label:hover label.sk-toggleable__label {background-color: #d4ebff;}#sk-container-id-5 div.sk-serial::before {content: \"\";position: absolute;border-left: 1px solid gray;box-sizing: border-box;top: 0;bottom: 0;left: 50%;z-index: 0;}#sk-container-id-5 div.sk-serial {display: flex;flex-direction: column;align-items: center;background-color: white;padding-right: 0.2em;padding-left: 0.2em;position: relative;}#sk-container-id-5 div.sk-item {position: relative;z-index: 1;}#sk-container-id-5 div.sk-parallel {display: flex;align-items: stretch;justify-content: center;background-color: white;position: relative;}#sk-container-id-5 div.sk-item::before, #sk-container-id-5 div.sk-parallel-item::before {content: \"\";position: absolute;border-left: 1px solid gray;box-sizing: border-box;top: 0;bottom: 0;left: 50%;z-index: -1;}#sk-container-id-5 div.sk-parallel-item {display: flex;flex-direction: column;z-index: 1;position: relative;background-color: white;}#sk-container-id-5 div.sk-parallel-item:first-child::after {align-self: flex-end;width: 50%;}#sk-container-id-5 div.sk-parallel-item:last-child::after {align-self: flex-start;width: 50%;}#sk-container-id-5 div.sk-parallel-item:only-child::after {width: 0;}#sk-container-id-5 div.sk-dashed-wrapped {border: 1px dashed gray;margin: 0 0.4em 0.5em 0.4em;box-sizing: border-box;padding-bottom: 0.4em;background-color: white;}#sk-container-id-5 div.sk-label label {font-family: monospace;font-weight: bold;display: inline-block;line-height: 1.2em;}#sk-container-id-5 div.sk-label-container {text-align: center;}#sk-container-id-5 div.sk-container {/* jupyter's `normalize.less` sets `[hidden] { display: none; }` but bootstrap.min.css set `[hidden] { display: none !important; }` so we also need the `!important` here to be able to override the default hidden behavior on the sphinx rendered scikit-learn.org. See: https://github.com/scikit-learn/scikit-learn/issues/21755 */display: inline-block !important;position: relative;}#sk-container-id-5 div.sk-text-repr-fallback {display: none;}</style><div id=\"sk-container-id-5\" class=\"sk-top-container\"><div class=\"sk-text-repr-fallback\"><pre>SequentialFeatureSelector(estimator=RandomForestClassifier(),\n",
              "                          n_features_to_select=10)</pre><b>In a Jupyter environment, please rerun this cell to show the HTML representation or trust the notebook. <br />On GitHub, the HTML representation is unable to render, please try loading this page with nbviewer.org.</b></div><div class=\"sk-container\" hidden><div class=\"sk-item sk-dashed-wrapped\"><div class=\"sk-label-container\"><div class=\"sk-label sk-toggleable\"><input class=\"sk-toggleable__control sk-hidden--visually\" id=\"sk-estimator-id-5\" type=\"checkbox\" ><label for=\"sk-estimator-id-5\" class=\"sk-toggleable__label sk-toggleable__label-arrow\">SequentialFeatureSelector</label><div class=\"sk-toggleable__content\"><pre>SequentialFeatureSelector(estimator=RandomForestClassifier(),\n",
              "                          n_features_to_select=10)</pre></div></div></div><div class=\"sk-parallel\"><div class=\"sk-parallel-item\"><div class=\"sk-item\"><div class=\"sk-label-container\"><div class=\"sk-label sk-toggleable\"><input class=\"sk-toggleable__control sk-hidden--visually\" id=\"sk-estimator-id-6\" type=\"checkbox\" ><label for=\"sk-estimator-id-6\" class=\"sk-toggleable__label sk-toggleable__label-arrow\">estimator: RandomForestClassifier</label><div class=\"sk-toggleable__content\"><pre>RandomForestClassifier()</pre></div></div></div><div class=\"sk-serial\"><div class=\"sk-item\"><div class=\"sk-estimator sk-toggleable\"><input class=\"sk-toggleable__control sk-hidden--visually\" id=\"sk-estimator-id-7\" type=\"checkbox\" ><label for=\"sk-estimator-id-7\" class=\"sk-toggleable__label sk-toggleable__label-arrow\">RandomForestClassifier</label><div class=\"sk-toggleable__content\"><pre>RandomForestClassifier()</pre></div></div></div></div></div></div></div></div></div></div>"
            ]
          },
          "metadata": {},
          "execution_count": 83
        }
      ]
    },
    {
      "cell_type": "code",
      "source": [
        "x_tr = sfs_forward.transform(x_data_generated)"
      ],
      "metadata": {
        "id": "MzCGyWjDT6Qy"
      },
      "execution_count": null,
      "outputs": []
    },
    {
      "cell_type": "code",
      "source": [
        "x_tr.shape"
      ],
      "metadata": {
        "colab": {
          "base_uri": "https://localhost:8080/"
        },
        "id": "kmEGsSCsUEmc",
        "outputId": "5b305c08-dcfc-477c-c814-28d4c82f7a17"
      },
      "execution_count": null,
      "outputs": [
        {
          "output_type": "execute_result",
          "data": {
            "text/plain": [
              "(100, 10)"
            ]
          },
          "metadata": {},
          "execution_count": 85
        }
      ]
    },
    {
      "cell_type": "code",
      "source": [
        "cross_val_score(LogisticRegression(), x_tr, y_data_generated, scoring='accuracy').mean()"
      ],
      "metadata": {
        "colab": {
          "base_uri": "https://localhost:8080/"
        },
        "id": "n9qDi_ANULMf",
        "outputId": "f0d008f2-01b5-41a6-da67-dda25525050b"
      },
      "execution_count": null,
      "outputs": [
        {
          "output_type": "execute_result",
          "data": {
            "text/plain": [
              "0.78"
            ]
          },
          "metadata": {},
          "execution_count": 86
        }
      ]
    },
    {
      "cell_type": "markdown",
      "source": [
        "To summarize the results, we will create a table with the following format:\n",
        "\n",
        "| Feature Selection Method | Number of Features | Average Model Accuracy |"
      ],
      "metadata": {
        "id": "XPkcH3uVUgCu"
      }
    },
    {
      "cell_type": "code",
      "source": [
        "itog = pd.DataFrame(columns=[\"Способ выбора признаков\", \"Количество признаков\", \"Средняя точность модели\"])"
      ],
      "metadata": {
        "id": "Ojx09ILPUhjC"
      },
      "execution_count": null,
      "outputs": []
    },
    {
      "cell_type": "code",
      "source": [
        "itog.loc[len(itog)]=['Изначально', 20, 0.76]\n",
        "itog.loc[len(itog)]=['На основе матрицы корреляций', 18, 0.77]\n",
        "itog.loc[len(itog)]=['VarianceThreshold', 9, 0.75]\n",
        "itog.loc[len(itog)]=['SelectKBest', 5, 0.79]\n",
        "itog.loc[len(itog)]=['Логистическая регрессия SelectFromModel', 13, 0.77]\n",
        "itog.loc[len(itog)]=['RandomForestClassifier SelectFromModel', 4, 0.84]\n",
        "itog.loc[len(itog)]=['SequentialFeatureSelector', 10, 0.78]"
      ],
      "metadata": {
        "id": "SKBHRSVdUp_I"
      },
      "execution_count": null,
      "outputs": []
    },
    {
      "cell_type": "code",
      "source": [
        "itog"
      ],
      "metadata": {
        "id": "enDHxiBHXHSx",
        "outputId": "9d18e3f1-b750-4614-e35f-61fcceef0fd6",
        "colab": {
          "base_uri": "https://localhost:8080/",
          "height": 269
        }
      },
      "execution_count": null,
      "outputs": [
        {
          "output_type": "execute_result",
          "data": {
            "text/plain": [
              "                   Способ выбора признаков  Количество признаков  \\\n",
              "0                               Изначально                    20   \n",
              "1             На основе матрицы корреляций                    18   \n",
              "2                        VarianceThreshold                     9   \n",
              "3                              SelectKBest                     5   \n",
              "4  Логистическая регрессия SelectFromModel                    13   \n",
              "5   RandomForestClassifier SelectFromModel                     4   \n",
              "6                SequentialFeatureSelector                    10   \n",
              "\n",
              "   Средняя точность модели  \n",
              "0                     0.76  \n",
              "1                     0.77  \n",
              "2                     0.75  \n",
              "3                     0.79  \n",
              "4                     0.77  \n",
              "5                     0.84  \n",
              "6                     0.78  "
            ],
            "text/html": [
              "\n",
              "  <div id=\"df-b0010339-fb15-494f-b77a-1327f8663eac\" class=\"colab-df-container\">\n",
              "    <div>\n",
              "<style scoped>\n",
              "    .dataframe tbody tr th:only-of-type {\n",
              "        vertical-align: middle;\n",
              "    }\n",
              "\n",
              "    .dataframe tbody tr th {\n",
              "        vertical-align: top;\n",
              "    }\n",
              "\n",
              "    .dataframe thead th {\n",
              "        text-align: right;\n",
              "    }\n",
              "</style>\n",
              "<table border=\"1\" class=\"dataframe\">\n",
              "  <thead>\n",
              "    <tr style=\"text-align: right;\">\n",
              "      <th></th>\n",
              "      <th>Способ выбора признаков</th>\n",
              "      <th>Количество признаков</th>\n",
              "      <th>Средняя точность модели</th>\n",
              "    </tr>\n",
              "  </thead>\n",
              "  <tbody>\n",
              "    <tr>\n",
              "      <th>0</th>\n",
              "      <td>Изначально</td>\n",
              "      <td>20</td>\n",
              "      <td>0.76</td>\n",
              "    </tr>\n",
              "    <tr>\n",
              "      <th>1</th>\n",
              "      <td>На основе матрицы корреляций</td>\n",
              "      <td>18</td>\n",
              "      <td>0.77</td>\n",
              "    </tr>\n",
              "    <tr>\n",
              "      <th>2</th>\n",
              "      <td>VarianceThreshold</td>\n",
              "      <td>9</td>\n",
              "      <td>0.75</td>\n",
              "    </tr>\n",
              "    <tr>\n",
              "      <th>3</th>\n",
              "      <td>SelectKBest</td>\n",
              "      <td>5</td>\n",
              "      <td>0.79</td>\n",
              "    </tr>\n",
              "    <tr>\n",
              "      <th>4</th>\n",
              "      <td>Логистическая регрессия SelectFromModel</td>\n",
              "      <td>13</td>\n",
              "      <td>0.77</td>\n",
              "    </tr>\n",
              "    <tr>\n",
              "      <th>5</th>\n",
              "      <td>RandomForestClassifier SelectFromModel</td>\n",
              "      <td>4</td>\n",
              "      <td>0.84</td>\n",
              "    </tr>\n",
              "    <tr>\n",
              "      <th>6</th>\n",
              "      <td>SequentialFeatureSelector</td>\n",
              "      <td>10</td>\n",
              "      <td>0.78</td>\n",
              "    </tr>\n",
              "  </tbody>\n",
              "</table>\n",
              "</div>\n",
              "    <div class=\"colab-df-buttons\">\n",
              "\n",
              "  <div class=\"colab-df-container\">\n",
              "    <button class=\"colab-df-convert\" onclick=\"convertToInteractive('df-b0010339-fb15-494f-b77a-1327f8663eac')\"\n",
              "            title=\"Convert this dataframe to an interactive table.\"\n",
              "            style=\"display:none;\">\n",
              "\n",
              "  <svg xmlns=\"http://www.w3.org/2000/svg\" height=\"24px\" viewBox=\"0 -960 960 960\">\n",
              "    <path d=\"M120-120v-720h720v720H120Zm60-500h600v-160H180v160Zm220 220h160v-160H400v160Zm0 220h160v-160H400v160ZM180-400h160v-160H180v160Zm440 0h160v-160H620v160ZM180-180h160v-160H180v160Zm440 0h160v-160H620v160Z\"/>\n",
              "  </svg>\n",
              "    </button>\n",
              "\n",
              "  <style>\n",
              "    .colab-df-container {\n",
              "      display:flex;\n",
              "      gap: 12px;\n",
              "    }\n",
              "\n",
              "    .colab-df-convert {\n",
              "      background-color: #E8F0FE;\n",
              "      border: none;\n",
              "      border-radius: 50%;\n",
              "      cursor: pointer;\n",
              "      display: none;\n",
              "      fill: #1967D2;\n",
              "      height: 32px;\n",
              "      padding: 0 0 0 0;\n",
              "      width: 32px;\n",
              "    }\n",
              "\n",
              "    .colab-df-convert:hover {\n",
              "      background-color: #E2EBFA;\n",
              "      box-shadow: 0px 1px 2px rgba(60, 64, 67, 0.3), 0px 1px 3px 1px rgba(60, 64, 67, 0.15);\n",
              "      fill: #174EA6;\n",
              "    }\n",
              "\n",
              "    .colab-df-buttons div {\n",
              "      margin-bottom: 4px;\n",
              "    }\n",
              "\n",
              "    [theme=dark] .colab-df-convert {\n",
              "      background-color: #3B4455;\n",
              "      fill: #D2E3FC;\n",
              "    }\n",
              "\n",
              "    [theme=dark] .colab-df-convert:hover {\n",
              "      background-color: #434B5C;\n",
              "      box-shadow: 0px 1px 3px 1px rgba(0, 0, 0, 0.15);\n",
              "      filter: drop-shadow(0px 1px 2px rgba(0, 0, 0, 0.3));\n",
              "      fill: #FFFFFF;\n",
              "    }\n",
              "  </style>\n",
              "\n",
              "    <script>\n",
              "      const buttonEl =\n",
              "        document.querySelector('#df-b0010339-fb15-494f-b77a-1327f8663eac button.colab-df-convert');\n",
              "      buttonEl.style.display =\n",
              "        google.colab.kernel.accessAllowed ? 'block' : 'none';\n",
              "\n",
              "      async function convertToInteractive(key) {\n",
              "        const element = document.querySelector('#df-b0010339-fb15-494f-b77a-1327f8663eac');\n",
              "        const dataTable =\n",
              "          await google.colab.kernel.invokeFunction('convertToInteractive',\n",
              "                                                    [key], {});\n",
              "        if (!dataTable) return;\n",
              "\n",
              "        const docLinkHtml = 'Like what you see? Visit the ' +\n",
              "          '<a target=\"_blank\" href=https://colab.research.google.com/notebooks/data_table.ipynb>data table notebook</a>'\n",
              "          + ' to learn more about interactive tables.';\n",
              "        element.innerHTML = '';\n",
              "        dataTable['output_type'] = 'display_data';\n",
              "        await google.colab.output.renderOutput(dataTable, element);\n",
              "        const docLink = document.createElement('div');\n",
              "        docLink.innerHTML = docLinkHtml;\n",
              "        element.appendChild(docLink);\n",
              "      }\n",
              "    </script>\n",
              "  </div>\n",
              "\n",
              "\n",
              "<div id=\"df-45bad9fc-ef65-4e39-8a41-5d71a7d2a117\">\n",
              "  <button class=\"colab-df-quickchart\" onclick=\"quickchart('df-45bad9fc-ef65-4e39-8a41-5d71a7d2a117')\"\n",
              "            title=\"Suggest charts\"\n",
              "            style=\"display:none;\">\n",
              "\n",
              "<svg xmlns=\"http://www.w3.org/2000/svg\" height=\"24px\"viewBox=\"0 0 24 24\"\n",
              "     width=\"24px\">\n",
              "    <g>\n",
              "        <path d=\"M19 3H5c-1.1 0-2 .9-2 2v14c0 1.1.9 2 2 2h14c1.1 0 2-.9 2-2V5c0-1.1-.9-2-2-2zM9 17H7v-7h2v7zm4 0h-2V7h2v10zm4 0h-2v-4h2v4z\"/>\n",
              "    </g>\n",
              "</svg>\n",
              "  </button>\n",
              "\n",
              "<style>\n",
              "  .colab-df-quickchart {\n",
              "      --bg-color: #E8F0FE;\n",
              "      --fill-color: #1967D2;\n",
              "      --hover-bg-color: #E2EBFA;\n",
              "      --hover-fill-color: #174EA6;\n",
              "      --disabled-fill-color: #AAA;\n",
              "      --disabled-bg-color: #DDD;\n",
              "  }\n",
              "\n",
              "  [theme=dark] .colab-df-quickchart {\n",
              "      --bg-color: #3B4455;\n",
              "      --fill-color: #D2E3FC;\n",
              "      --hover-bg-color: #434B5C;\n",
              "      --hover-fill-color: #FFFFFF;\n",
              "      --disabled-bg-color: #3B4455;\n",
              "      --disabled-fill-color: #666;\n",
              "  }\n",
              "\n",
              "  .colab-df-quickchart {\n",
              "    background-color: var(--bg-color);\n",
              "    border: none;\n",
              "    border-radius: 50%;\n",
              "    cursor: pointer;\n",
              "    display: none;\n",
              "    fill: var(--fill-color);\n",
              "    height: 32px;\n",
              "    padding: 0;\n",
              "    width: 32px;\n",
              "  }\n",
              "\n",
              "  .colab-df-quickchart:hover {\n",
              "    background-color: var(--hover-bg-color);\n",
              "    box-shadow: 0 1px 2px rgba(60, 64, 67, 0.3), 0 1px 3px 1px rgba(60, 64, 67, 0.15);\n",
              "    fill: var(--button-hover-fill-color);\n",
              "  }\n",
              "\n",
              "  .colab-df-quickchart-complete:disabled,\n",
              "  .colab-df-quickchart-complete:disabled:hover {\n",
              "    background-color: var(--disabled-bg-color);\n",
              "    fill: var(--disabled-fill-color);\n",
              "    box-shadow: none;\n",
              "  }\n",
              "\n",
              "  .colab-df-spinner {\n",
              "    border: 2px solid var(--fill-color);\n",
              "    border-color: transparent;\n",
              "    border-bottom-color: var(--fill-color);\n",
              "    animation:\n",
              "      spin 1s steps(1) infinite;\n",
              "  }\n",
              "\n",
              "  @keyframes spin {\n",
              "    0% {\n",
              "      border-color: transparent;\n",
              "      border-bottom-color: var(--fill-color);\n",
              "      border-left-color: var(--fill-color);\n",
              "    }\n",
              "    20% {\n",
              "      border-color: transparent;\n",
              "      border-left-color: var(--fill-color);\n",
              "      border-top-color: var(--fill-color);\n",
              "    }\n",
              "    30% {\n",
              "      border-color: transparent;\n",
              "      border-left-color: var(--fill-color);\n",
              "      border-top-color: var(--fill-color);\n",
              "      border-right-color: var(--fill-color);\n",
              "    }\n",
              "    40% {\n",
              "      border-color: transparent;\n",
              "      border-right-color: var(--fill-color);\n",
              "      border-top-color: var(--fill-color);\n",
              "    }\n",
              "    60% {\n",
              "      border-color: transparent;\n",
              "      border-right-color: var(--fill-color);\n",
              "    }\n",
              "    80% {\n",
              "      border-color: transparent;\n",
              "      border-right-color: var(--fill-color);\n",
              "      border-bottom-color: var(--fill-color);\n",
              "    }\n",
              "    90% {\n",
              "      border-color: transparent;\n",
              "      border-bottom-color: var(--fill-color);\n",
              "    }\n",
              "  }\n",
              "</style>\n",
              "\n",
              "  <script>\n",
              "    async function quickchart(key) {\n",
              "      const quickchartButtonEl =\n",
              "        document.querySelector('#' + key + ' button');\n",
              "      quickchartButtonEl.disabled = true;  // To prevent multiple clicks.\n",
              "      quickchartButtonEl.classList.add('colab-df-spinner');\n",
              "      try {\n",
              "        const charts = await google.colab.kernel.invokeFunction(\n",
              "            'suggestCharts', [key], {});\n",
              "      } catch (error) {\n",
              "        console.error('Error during call to suggestCharts:', error);\n",
              "      }\n",
              "      quickchartButtonEl.classList.remove('colab-df-spinner');\n",
              "      quickchartButtonEl.classList.add('colab-df-quickchart-complete');\n",
              "    }\n",
              "    (() => {\n",
              "      let quickchartButtonEl =\n",
              "        document.querySelector('#df-45bad9fc-ef65-4e39-8a41-5d71a7d2a117 button');\n",
              "      quickchartButtonEl.style.display =\n",
              "        google.colab.kernel.accessAllowed ? 'block' : 'none';\n",
              "    })();\n",
              "  </script>\n",
              "</div>\n",
              "    </div>\n",
              "  </div>\n"
            ],
            "application/vnd.google.colaboratory.intrinsic+json": {
              "type": "dataframe",
              "variable_name": "itog",
              "summary": "{\n  \"name\": \"itog\",\n  \"rows\": 7,\n  \"fields\": [\n    {\n      \"column\": \"\\u0421\\u043f\\u043e\\u0441\\u043e\\u0431 \\u0432\\u044b\\u0431\\u043e\\u0440\\u0430 \\u043f\\u0440\\u0438\\u0437\\u043d\\u0430\\u043a\\u043e\\u0432\",\n      \"properties\": {\n        \"dtype\": \"string\",\n        \"num_unique_values\": 7,\n        \"samples\": [\n          \"\\u0418\\u0437\\u043d\\u0430\\u0447\\u0430\\u043b\\u044c\\u043d\\u043e\",\n          \"\\u041d\\u0430 \\u043e\\u0441\\u043d\\u043e\\u0432\\u0435 \\u043c\\u0430\\u0442\\u0440\\u0438\\u0446\\u044b \\u043a\\u043e\\u0440\\u0440\\u0435\\u043b\\u044f\\u0446\\u0438\\u0439\",\n          \"RandomForestClassifier SelectFromModel\"\n        ],\n        \"semantic_type\": \"\",\n        \"description\": \"\"\n      }\n    },\n    {\n      \"column\": \"\\u041a\\u043e\\u043b\\u0438\\u0447\\u0435\\u0441\\u0442\\u0432\\u043e \\u043f\\u0440\\u0438\\u0437\\u043d\\u0430\\u043a\\u043e\\u0432\",\n      \"properties\": {\n        \"dtype\": \"number\",\n        \"std\": 6,\n        \"min\": 4,\n        \"max\": 20,\n        \"num_unique_values\": 7,\n        \"samples\": [\n          20,\n          18,\n          4\n        ],\n        \"semantic_type\": \"\",\n        \"description\": \"\"\n      }\n    },\n    {\n      \"column\": \"\\u0421\\u0440\\u0435\\u0434\\u043d\\u044f\\u044f \\u0442\\u043e\\u0447\\u043d\\u043e\\u0441\\u0442\\u044c \\u043c\\u043e\\u0434\\u0435\\u043b\\u0438\",\n      \"properties\": {\n        \"dtype\": \"number\",\n        \"std\": 0.029439202887759478,\n        \"min\": 0.75,\n        \"max\": 0.84,\n        \"num_unique_values\": 6,\n        \"samples\": [\n          0.76,\n          0.77,\n          0.78\n        ],\n        \"semantic_type\": \"\",\n        \"description\": \"\"\n      }\n    }\n  ]\n}"
            }
          },
          "metadata": {},
          "execution_count": 91
        }
      ]
    }
  ]
}